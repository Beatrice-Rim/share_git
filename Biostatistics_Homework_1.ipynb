{
 "cells": [
  {
   "cell_type": "markdown",
   "metadata": {},
   "source": [
    "## Биномиальное распределение - распределение количества «успехов» в последовательности из n независимых случайных экспериментов, таких что вероятность «успеха» в каждом из них равна p."
   ]
  },
  {
   "cell_type": "code",
   "execution_count": 73,
   "metadata": {},
   "outputs": [],
   "source": [
    "from scipy.stats import binom, poisson, norm\n",
    "\n",
    "import matplotlib.pyplot as plt\n",
    "import seaborn as sns\n",
    "%matplotlib inline\n",
    "import numpy as np\n",
    "\n",
    "\n",
    "def generate_samples(distribution, **kwargs):\n",
    "    return distribution.rvs(**kwargs)\n",
    "\n",
    "from statsmodels.stats.gof import gof_binning_discrete\n",
    "\n",
    "from scipy import stats\n"
   ]
  },
  {
   "cell_type": "markdown",
   "metadata": {},
   "source": [
    "## Биномиальное распределение: проверка с истинным р "
   ]
  },
  {
   "cell_type": "code",
   "execution_count": 92,
   "metadata": {},
   "outputs": [
    {
     "name": "stdout",
     "output_type": "stream",
     "text": [
      "Test passed\n"
     ]
    },
    {
     "data": {
      "text/plain": [
       "(array([  2.,   0.,   1.,   2.,  24.,  39.,  40.,  89., 115.,  77., 171.,\n",
       "        142., 118.,  43.,  72.,  36.,  17.,   8.,   1.,   3.]),\n",
       " array([22. , 23.7, 25.4, 27.1, 28.8, 30.5, 32.2, 33.9, 35.6, 37.3, 39. ,\n",
       "        40.7, 42.4, 44.1, 45.8, 47.5, 49.2, 50.9, 52.6, 54.3, 56. ]),\n",
       " <BarContainer object of 20 artists>)"
      ]
     },
     "execution_count": 92,
     "metadata": {},
     "output_type": "execute_result"
    },
    {
     "data": {
      "image/png": "[encoded data removed]",
      "text/plain": [
       "<Figure size 432x288 with 1 Axes>"
      ]
     },
     "metadata": {},
     "output_type": "display_data"
    }
   ],
   "source": [
    "p = 0.4\n",
    "n = 100\n",
    "alpha = 0.05\n",
    "samples = generate_samples(binom, p=p, n=n, size=1000)\n",
    "\n",
    "freq, exp_freq, histsupp = gof_binning_discrete(samples, binom, (n, p))\n",
    "\n",
    "(chi_val, p_val) = stats.chisquare(freq, exp_freq)\n",
    "\n",
    "if p_val >= alpha:\n",
    "    print('Test passed')\n",
    "else:\n",
    "    print('Test failed')\n",
    "    \n",
    "plt.hist(samples, bins=20)"
   ]
  },
  {
   "cell_type": "markdown",
   "metadata": {},
   "source": [
    "##  Биномиальное распределение: проверка с p/2\n"
   ]
  },
  {
   "cell_type": "code",
   "execution_count": 26,
   "metadata": {},
   "outputs": [
    {
     "name": "stdout",
     "output_type": "stream",
     "text": [
      "Test failed\n"
     ]
    }
   ],
   "source": [
    "p = 0.4\n",
    "n = 100\n",
    "alpha = 0.05\n",
    "samples = generate_samples(binom, p=p, n=n, size=1000)\n",
    "\n",
    "freq, exp_freq, histsupp = gof_binning_discrete(samples, binom, (n, p/2))\n",
    "\n",
    "(chi_val, p_val) = stats.chisquare(freq, exp_freq)\n",
    "\n",
    "if p_val >= alpha:\n",
    "    print('Test passed')\n",
    "else:\n",
    "    print('Test failed')\n"
   ]
  },
  {
   "cell_type": "markdown",
   "metadata": {},
   "source": [
    "## Распределение Пуассона: проверка с истинным $\\mu$"
   ]
  },
  {
   "cell_type": "code",
   "execution_count": 93,
   "metadata": {},
   "outputs": [
    {
     "name": "stdout",
     "output_type": "stream",
     "text": [
      "Test passed\n"
     ]
    },
    {
     "data": {
      "text/plain": [
       "(array([688.,   0.,   0.,   0.,   0., 259.,   0.,   0.,   0.,   0.,  48.,\n",
       "          0.,   0.,   0.,   0.,   3.,   0.,   0.,   0.,   2.]),\n",
       " array([0. , 0.2, 0.4, 0.6, 0.8, 1. , 1.2, 1.4, 1.6, 1.8, 2. , 2.2, 2.4,\n",
       "        2.6, 2.8, 3. , 3.2, 3.4, 3.6, 3.8, 4. ]),\n",
       " <BarContainer object of 20 artists>)"
      ]
     },
     "execution_count": 93,
     "metadata": {},
     "output_type": "execute_result"
    },
    {
     "data": {
      "image/png": "[encoded data removed]",
      "text/plain": [
       "<Figure size 432x288 with 1 Axes>"
      ]
     },
     "metadata": {},
     "output_type": "display_data"
    }
   ],
   "source": [
    "mu = 0.4\n",
    "alpha = 0.05\n",
    "samples = generate_samples(poisson, mu=mu, size=1000)\n",
    "\n",
    "freq, exp_freq, histsupp = gof_binning_discrete(samples, poisson, (mu, ))\n",
    "\n",
    "(chi_val, p_val) = stats.chisquare(freq, exp_freq)\n",
    "\n",
    "if p_val >= alpha:\n",
    "    print('Test passed')\n",
    "else:\n",
    "    print('Test failed')\n",
    "plt.hist(samples, bins=20)"
   ]
  },
  {
   "cell_type": "markdown",
   "metadata": {},
   "source": [
    "## Распределение Пуассона: проверка с $\\frac{\\mu}{2}$"
   ]
  },
  {
   "cell_type": "code",
   "execution_count": 31,
   "metadata": {},
   "outputs": [
    {
     "name": "stdout",
     "output_type": "stream",
     "text": [
      "Test failed\n"
     ]
    }
   ],
   "source": [
    "mu = 0.4\n",
    "alpha = 0.05\n",
    "samples = generate_samples(poisson, mu=mu, size=1000)\n",
    "\n",
    "freq, exp_freq, histsupp = gof_binning_discrete(samples, poisson, (mu/2, ))\n",
    "\n",
    "(chi_val, p_val) = stats.chisquare(freq, exp_freq)\n",
    "\n",
    "if p_val >= alpha:\n",
    "    print('Test passed')\n",
    "else:\n",
    "    print('Test failed')"
   ]
  },
  {
   "cell_type": "markdown",
   "metadata": {},
   "source": [
    "## Нормальное распределение: проверка с истинными значением среднего"
   ]
  },
  {
   "cell_type": "code",
   "execution_count": 94,
   "metadata": {},
   "outputs": [
    {
     "name": "stdout",
     "output_type": "stream",
     "text": [
      "Test passed\n"
     ]
    },
    {
     "data": {
      "text/plain": [
       "(array([ 11.,  10.,  40.,  57.,  64.,  91., 113., 132., 103., 112.,  97.,\n",
       "         64.,  51.,  28.,  15.,   9.,   1.,   1.,   0.,   1.]),\n",
       " array([-4.18616149, -3.5492726 , -2.91238371, -2.27549482, -1.63860593,\n",
       "        -1.00171704, -0.36482815,  0.27206075,  0.90894964,  1.54583853,\n",
       "         2.18272742,  2.81961631,  3.4565052 ,  4.09339409,  4.73028298,\n",
       "         5.36717188,  6.00406077,  6.64094966,  7.27783855,  7.91472744,\n",
       "         8.55161633]),\n",
       " <BarContainer object of 20 artists>)"
      ]
     },
     "execution_count": 94,
     "metadata": {},
     "output_type": "execute_result"
    },
    {
     "data": {
      "image/png": "[encoded data removed]",
      "text/plain": [
       "<Figure size 432x288 with 1 Axes>"
      ]
     },
     "metadata": {},
     "output_type": "display_data"
    }
   ],
   "source": [
    "loc = 1\n",
    "scale = 2\n",
    "samples = generate_samples(norm, loc=loc, scale=scale, size=1000)\n",
    "\n",
    "freq, exp_freq, histsupp = gof_binning_discrete(samples, norm, (loc, scale))\n",
    "\n",
    "(chi_val, p_val) = stats.chisquare(freq, exp_freq)\n",
    "\n",
    "if p_val >= alpha:\n",
    "    print('Test passed')\n",
    "else:\n",
    "    print('Test failed')\n",
    "plt.hist(samples, bins=20)"
   ]
  },
  {
   "cell_type": "markdown",
   "metadata": {},
   "source": [
    "## Нормальное распределение: проверка со значением среднего в два раза меньше истинного"
   ]
  },
  {
   "cell_type": "code",
   "execution_count": 95,
   "metadata": {},
   "outputs": [
    {
     "name": "stdout",
     "output_type": "stream",
     "text": [
      "Test failed\n"
     ]
    }
   ],
   "source": [
    "loc = 1\n",
    "scale = 2\n",
    "samples = generate_samples(norm, loc=loc, scale=scale, size=1000)\n",
    "\n",
    "freq, exp_freq, histsupp = gof_binning_discrete(samples, norm, (loc/2, scale))\n",
    "\n",
    "(chi_val, p_val) = stats.chisquare(freq, exp_freq)\n",
    "\n",
    "if p_val >= alpha:\n",
    "    print('Test passed')\n",
    "else:\n",
    "    print('Test failed')"
   ]
  },
  {
   "cell_type": "markdown",
   "metadata": {},
   "source": [
    "## Функция лог-правдоподобия (без логарифма маленькие значения, меньше машинной точности)"
   ]
  },
  {
   "cell_type": "code",
   "execution_count": 96,
   "metadata": {
    "collapsed": true
   },
   "outputs": [],
   "source": [
    "def norm_likelihood(loc=loc, scale=scale, samples=samples):\n",
    "    return np.log(norm.pdf(samples, loc=loc, scale=scale)).sum()"
   ]
  },
  {
   "cell_type": "code",
   "execution_count": 81,
   "metadata": {},
   "outputs": [
    {
     "data": {
      "text/plain": [
       "-23.02011603653825"
      ]
     },
     "execution_count": 81,
     "metadata": {},
     "output_type": "execute_result"
    }
   ],
   "source": [
    "norm_likelihood(loc=loc, scale=scale, samples=samples[:10])"
   ]
  },
  {
   "cell_type": "markdown",
   "metadata": {},
   "source": [
    "## Оценка MLE для среднего"
   ]
  },
  {
   "cell_type": "code",
   "execution_count": 82,
   "metadata": {
    "collapsed": true
   },
   "outputs": [],
   "source": [
    "from scipy.optimize import minimize"
   ]
  },
  {
   "cell_type": "code",
   "execution_count": 83,
   "metadata": {
    "collapsed": true
   },
   "outputs": [],
   "source": [
    "def neg_likelihood(*args, **kwargs):\n",
    "    return -norm_likelihood(*args, **kwargs)"
   ]
  },
  {
   "cell_type": "code",
   "execution_count": 85,
   "metadata": {},
   "outputs": [
    {
     "data": {
      "text/plain": [
       "      fun: 23.017626424587302\n",
       " hess_inv: array([[1]])\n",
       "      jac: array([2.38418579e-07])\n",
       "  message: 'Optimization terminated successfully.'\n",
       "     nfev: 6\n",
       "      nit: 1\n",
       "     njev: 3\n",
       "   status: 0\n",
       "  success: True\n",
       "        x: array([0.95537167])"
      ]
     },
     "execution_count": 85,
     "metadata": {},
     "output_type": "execute_result"
    }
   ],
   "source": [
    "from functools import partial\n",
    "minimize(partial(neg_likelihood, samples=samples[:10], scale=scale), x0=0.5)"
   ]
  },
  {
   "cell_type": "code",
   "execution_count": null,
   "metadata": {
    "collapsed": true
   },
   "outputs": [],
   "source": []
  },
  {
   "cell_type": "code",
   "execution_count": null,
   "metadata": {
    "collapsed": true
   },
   "outputs": [],
   "source": []
  }
 ],
 "metadata": {
  "kernelspec": {
   "display_name": "Python 3",
   "language": "python",
   "name": "python3"
  },
  "language_info": {
   "codemirror_mode": {
    "name": "ipython",
    "version": 3
   },
   "file_extension": ".py",
   "mimetype": "text/x-python",
   "name": "python",
   "nbconvert_exporter": "python",
   "pygments_lexer": "ipython3",
   "version": "3.6.3"
  }
 },
 "nbformat": 4,
 "nbformat_minor": 2
}
