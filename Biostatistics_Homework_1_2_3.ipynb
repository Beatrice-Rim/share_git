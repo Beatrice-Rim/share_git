{
 "cells": [
  {
   "cell_type": "markdown",
   "metadata": {},
   "source": [
    "# 1. Generate a sample from Poisson (Binomial, Gaussian) distribution \n"
   ]
  },
  {
   "cell_type": "code",
   "execution_count": 11,
   "metadata": {
    "collapsed": true
   },
   "outputs": [],
   "source": [
    "from scipy.stats import binom, poisson, norm\n",
    "\n",
    "import matplotlib.pyplot as plt\n",
    "import seaborn as sns\n",
    "%matplotlib inline\n",
    "import numpy as np\n",
    "\n",
    "\n",
    "def generate_samples(distribution, **kwargs):\n",
    "    return distribution.rvs(**kwargs)\n",
    "\n",
    "from statsmodels.stats.gof import gof_binning_discrete\n",
    "\n",
    "from scipy import stats\n"
   ]
  },
  {
   "cell_type": "markdown",
   "metadata": {},
   "source": [
    "# 2. Test the hypothesis that the parameter is equal to a given value. Take correct and incorrect values and compare the test results\n"
   ]
  },
  {
   "cell_type": "markdown",
   "metadata": {},
   "source": [
    "## Биномиальное распределение: проверка с истинным р "
   ]
  },
  {
   "cell_type": "code",
   "execution_count": 12,
   "metadata": {},
   "outputs": [
    {
     "name": "stdout",
     "output_type": "stream",
     "text": [
      "Test passed\n"
     ]
    },
    {
     "data": {
      "text/plain": [
       "(array([  4.,   5.,  15.,  21.,  49., 103., 116.,  81., 145., 178., 131.,\n",
       "         43.,  64.,  23.,  16.,   2.,   2.,   1.,   0.,   1.]),\n",
       " array([25.  , 26.75, 28.5 , 30.25, 32.  , 33.75, 35.5 , 37.25, 39.  ,\n",
       "        40.75, 42.5 , 44.25, 46.  , 47.75, 49.5 , 51.25, 53.  , 54.75,\n",
       "        56.5 , 58.25, 60.  ]),\n",
       " <BarContainer object of 20 artists>)"
      ]
     },
     "execution_count": 12,
     "metadata": {},
     "output_type": "execute_result"
    },
    {
     "data": {
      "image/png": "[encoded data removed]",
      "text/plain": [
       "<Figure size 432x288 with 1 Axes>"
      ]
     },
     "metadata": {},
     "output_type": "display_data"
    }
   ],
   "source": [
    "p = 0.4\n",
    "n = 100\n",
    "alpha = 0.05\n",
    "samples = generate_samples(binom, p=p, n=n, size=1000)\n",
    "\n",
    "freq, exp_freq, histsupp = gof_binning_discrete(samples, binom, (n, p))\n",
    "\n",
    "(chi_val, p_val) = stats.chisquare(freq, exp_freq)\n",
    "\n",
    "if p_val >= alpha:\n",
    "    print('Test passed')\n",
    "else:\n",
    "    print('Test failed')\n",
    "    \n",
    "plt.hist(samples, bins=20)"
   ]
  },
  {
   "cell_type": "markdown",
   "metadata": {},
   "source": [
    "##  Биномиальное распределение: проверка с p/2\n"
   ]
  },
  {
   "cell_type": "code",
   "execution_count": 13,
   "metadata": {},
   "outputs": [
    {
     "name": "stdout",
     "output_type": "stream",
     "text": [
      "Test failed\n"
     ]
    }
   ],
   "source": [
    "p = 0.4\n",
    "n = 100\n",
    "alpha = 0.05\n",
    "samples = generate_samples(binom, p=p, n=n, size=1000)\n",
    "\n",
    "freq, exp_freq, histsupp = gof_binning_discrete(samples, binom, (n, p/2))\n",
    "\n",
    "(chi_val, p_val) = stats.chisquare(freq, exp_freq)\n",
    "\n",
    "if p_val >= alpha:\n",
    "    print('Test passed')\n",
    "else:\n",
    "    print('Test failed')\n"
   ]
  },
  {
   "cell_type": "markdown",
   "metadata": {},
   "source": [
    "## Распределение Пуассона: проверка с истинным $\\mu$"
   ]
  },
  {
   "cell_type": "code",
   "execution_count": 14,
   "metadata": {},
   "outputs": [
    {
     "name": "stdout",
     "output_type": "stream",
     "text": [
      "Test passed\n"
     ]
    },
    {
     "data": {
      "text/plain": [
       "(array([676.,   0.,   0.,   0., 272.,   0.,   0.,   0.,  42.,   0.,   0.,\n",
       "          0.,   8.,   0.,   0.,   0.,   1.,   0.,   0.,   1.]),\n",
       " array([0.  , 0.25, 0.5 , 0.75, 1.  , 1.25, 1.5 , 1.75, 2.  , 2.25, 2.5 ,\n",
       "        2.75, 3.  , 3.25, 3.5 , 3.75, 4.  , 4.25, 4.5 , 4.75, 5.  ]),\n",
       " <BarContainer object of 20 artists>)"
      ]
     },
     "execution_count": 14,
     "metadata": {},
     "output_type": "execute_result"
    },
    {
     "data": {
      "image/png": "[encoded data removed]",
      "text/plain": [
       "<Figure size 432x288 with 1 Axes>"
      ]
     },
     "metadata": {},
     "output_type": "display_data"
    }
   ],
   "source": [
    "mu = 0.4\n",
    "alpha = 0.05\n",
    "samples = generate_samples(poisson, mu=mu, size=1000)\n",
    "\n",
    "freq, exp_freq, histsupp = gof_binning_discrete(samples, poisson, (mu, ))\n",
    "\n",
    "(chi_val, p_val) = stats.chisquare(freq, exp_freq)\n",
    "\n",
    "if p_val >= alpha:\n",
    "    print('Test passed')\n",
    "else:\n",
    "    print('Test failed')\n",
    "plt.hist(samples, bins=20)"
   ]
  },
  {
   "cell_type": "markdown",
   "metadata": {},
   "source": [
    "## Распределение Пуассона: проверка с $\\frac{\\mu}{2}$"
   ]
  },
  {
   "cell_type": "code",
   "execution_count": 15,
   "metadata": {},
   "outputs": [
    {
     "name": "stdout",
     "output_type": "stream",
     "text": [
      "Test failed\n"
     ]
    }
   ],
   "source": [
    "mu = 0.4\n",
    "alpha = 0.05\n",
    "samples = generate_samples(poisson, mu=mu, size=1000)\n",
    "\n",
    "freq, exp_freq, histsupp = gof_binning_discrete(samples, poisson, (mu/2, ))\n",
    "\n",
    "(chi_val, p_val) = stats.chisquare(freq, exp_freq)\n",
    "\n",
    "if p_val >= alpha:\n",
    "    print('Test passed')\n",
    "else:\n",
    "    print('Test failed')"
   ]
  },
  {
   "cell_type": "markdown",
   "metadata": {},
   "source": [
    "## Нормальное распределение: проверка с истинными значением среднего"
   ]
  },
  {
   "cell_type": "code",
   "execution_count": 16,
   "metadata": {},
   "outputs": [
    {
     "name": "stdout",
     "output_type": "stream",
     "text": [
      "Test passed\n"
     ]
    },
    {
     "data": {
      "text/plain": [
       "(array([  1.,   0.,   6.,  14.,  23.,  34.,  73.,  90., 106., 142., 136.,\n",
       "        103., 106.,  56.,  58.,  26.,  12.,   8.,   5.,   1.]),\n",
       " array([-5.73357314, -5.06936541, -4.40515768, -3.74094995, -3.07674222,\n",
       "        -2.41253449, -1.74832675, -1.08411902, -0.41991129,  0.24429644,\n",
       "         0.90850417,  1.5727119 ,  2.23691963,  2.90112736,  3.56533509,\n",
       "         4.22954282,  4.89375055,  5.55795828,  6.22216601,  6.88637375,\n",
       "         7.55058148]),\n",
       " <BarContainer object of 20 artists>)"
      ]
     },
     "execution_count": 16,
     "metadata": {},
     "output_type": "execute_result"
    },
    {
     "data": {
      "image/png": "[encoded data removed]",
      "text/plain": [
       "<Figure size 432x288 with 1 Axes>"
      ]
     },
     "metadata": {},
     "output_type": "display_data"
    }
   ],
   "source": [
    "loc = 1\n",
    "scale = 2\n",
    "samples = generate_samples(norm, loc=loc, scale=scale, size=1000)\n",
    "\n",
    "freq, exp_freq, histsupp = gof_binning_discrete(samples, norm, (loc, scale))\n",
    "\n",
    "(chi_val, p_val) = stats.chisquare(freq, exp_freq)\n",
    "\n",
    "if p_val >= alpha:\n",
    "    print('Test passed')\n",
    "else:\n",
    "    print('Test failed')\n",
    "plt.hist(samples, bins=20)"
   ]
  },
  {
   "cell_type": "markdown",
   "metadata": {},
   "source": [
    "## Нормальное распределение: проверка со значением среднего в два раза меньше истинного"
   ]
  },
  {
   "cell_type": "code",
   "execution_count": 17,
   "metadata": {},
   "outputs": [
    {
     "name": "stdout",
     "output_type": "stream",
     "text": [
      "Test failed\n"
     ]
    }
   ],
   "source": [
    "loc = 1\n",
    "scale = 2\n",
    "samples = generate_samples(norm, loc=loc, scale=scale, size=1000)\n",
    "\n",
    "freq, exp_freq, histsupp = gof_binning_discrete(samples, norm, (loc/2, scale))\n",
    "\n",
    "(chi_val, p_val) = stats.chisquare(freq, exp_freq)\n",
    "\n",
    "if p_val >= alpha:\n",
    "    print('Test passed')\n",
    "else:\n",
    "    print('Test failed')"
   ]
  },
  {
   "cell_type": "markdown",
   "metadata": {},
   "source": [
    "## Функция лог-правдоподобия (без логарифма маленькие значения, меньше машинной точности)"
   ]
  },
  {
   "cell_type": "code",
   "execution_count": 18,
   "metadata": {
    "collapsed": true
   },
   "outputs": [],
   "source": [
    "def norm_likelihood(loc=loc, scale=scale, samples=samples):\n",
    "    return np.log(norm.pdf(samples, loc=loc, scale=scale)).sum()"
   ]
  },
  {
   "cell_type": "code",
   "execution_count": 19,
   "metadata": {},
   "outputs": [
    {
     "data": {
      "text/plain": [
       "-20.3253200567232"
      ]
     },
     "execution_count": 19,
     "metadata": {},
     "output_type": "execute_result"
    }
   ],
   "source": [
    "norm_likelihood(loc=loc, scale=scale, samples=samples[:10])"
   ]
  },
  {
   "cell_type": "markdown",
   "metadata": {},
   "source": [
    "# 3. Construct the likelihood function and find the maximum likelihood estimate (MLE) ofthe parameter (for Gaussian only)\n"
   ]
  },
  {
   "cell_type": "markdown",
   "metadata": {},
   "source": [
    "## Оценка MLE для среднего"
   ]
  },
  {
   "cell_type": "code",
   "execution_count": 20,
   "metadata": {
    "collapsed": true
   },
   "outputs": [],
   "source": [
    "from scipy.optimize import minimize"
   ]
  },
  {
   "cell_type": "code",
   "execution_count": 21,
   "metadata": {
    "collapsed": true
   },
   "outputs": [],
   "source": [
    "def neg_likelihood(*args, **kwargs):\n",
    "    return -norm_likelihood(*args, **kwargs)"
   ]
  },
  {
   "cell_type": "code",
   "execution_count": 22,
   "metadata": {},
   "outputs": [
    {
     "data": {
      "text/plain": [
       "      fun: 20.13284215813598\n",
       " hess_inv: array([[0.39999998]])\n",
       "      jac: array([0.])\n",
       "  message: 'Optimization terminated successfully.'\n",
       "     nfev: 6\n",
       "      nit: 2\n",
       "     njev: 3\n",
       "   status: 0\n",
       "  success: True\n",
       "        x: array([1.39240586])"
      ]
     },
     "execution_count": 22,
     "metadata": {},
     "output_type": "execute_result"
    }
   ],
   "source": [
    "from functools import partial\n",
    "minimize(partial(neg_likelihood, samples=samples[:10], scale=scale), x0=0.5)"
   ]
  },
  {
   "cell_type": "markdown",
   "metadata": {
    "collapsed": true
   },
   "source": [
    "# 4. Construct the prior distribution (gamma, Gaussian, beta) from this sample\n"
   ]
  },
  {
   "cell_type": "code",
   "execution_count": 23,
   "metadata": {
    "collapsed": true
   },
   "outputs": [],
   "source": [
    "from scipy.stats import beta, binom"
   ]
  },
  {
   "cell_type": "code",
   "execution_count": 37,
   "metadata": {
    "collapsed": true
   },
   "outputs": [],
   "source": [
    "p = 0.4\n",
    "n = 100\n",
    "size = 1000\n",
    "samples = generate_samples(binom, p=p, n=n, size=size)"
   ]
  },
  {
   "cell_type": "code",
   "execution_count": 38,
   "metadata": {},
   "outputs": [
    {
     "data": {
      "text/plain": [
       "(array([  9.,  40., 125., 250., 247., 166., 136.,  22.,   3.,   2.]),\n",
       " array([26. , 29.3, 32.6, 35.9, 39.2, 42.5, 45.8, 49.1, 52.4, 55.7, 59. ]),\n",
       " <BarContainer object of 10 artists>)"
      ]
     },
     "execution_count": 38,
     "metadata": {},
     "output_type": "execute_result"
    },
    {
     "data": {
      "image/png": "[encoded data removed]",
      "text/plain": [
       "<Figure size 432x288 with 1 Axes>"
      ]
     },
     "metadata": {},
     "output_type": "display_data"
    }
   ],
   "source": [
    "plt.hist(samples)"
   ]
  },
  {
   "cell_type": "markdown",
   "metadata": {},
   "source": [
    "$$\\mathbb{E}\\left[x\\right] = np$$\n",
    "$$\\mathbb{V}\\left[x\\right] = np(1-p)$$\n",
    "$$1-p = \\frac{\\overline{\\sigma}}{\\overline{\\mu}} \\quad \\Rightarrow \\quad p = 1 -  \\frac{\\overline{\\sigma}}{\\overline{\\mu}}$$\n",
    "$$n = \\dfrac{\\overline{\\mu}}{1 - \\frac{\\overline{\\sigma}}{\\overline{\\mu}}}$$"
   ]
  },
  {
   "cell_type": "markdown",
   "metadata": {},
   "source": [
    "$$\\mathbb{E}(p) = \\dfrac{\\alpha}{\\alpha + \\beta} = 1 -  \\frac{\\overline{\\sigma}}{\\overline{\\mu}}$$\n",
    "Возьмем в качестве $\\beta = y - \\alpha,\\ \\alpha = py $. Если $y = 1$, то $\\alpha = p, \\quad \\beta = 1 - p$.\n",
    "\n"
   ]
  },
  {
   "cell_type": "code",
   "execution_count": 25,
   "metadata": {
    "collapsed": true
   },
   "outputs": [],
   "source": [
    "alpha = 1 - samples.var()/samples.mean()\n",
    "beta = 1 - alpha"
   ]
  },
  {
   "cell_type": "markdown",
   "metadata": {},
   "source": [
    "# 5. Generate a sample from Poisson (Gaussian, binomial) distribution (of a different size and with a different parameter value)"
   ]
  },
  {
   "cell_type": "code",
   "execution_count": 26,
   "metadata": {
    "collapsed": true
   },
   "outputs": [],
   "source": [
    "new_p = 0.2\n",
    "new_n = 100\n",
    "new_size = 1000\n",
    "new_samples = generate_samples(binom, p=new_p, n=new_n, size=new_size)"
   ]
  },
  {
   "cell_type": "markdown",
   "metadata": {},
   "source": [
    "# 6. Construct the likelihood function and find the maximum likelihood estimate (MLE) of the parameter "
   ]
  },
  {
   "cell_type": "code",
   "execution_count": 27,
   "metadata": {
    "collapsed": true
   },
   "outputs": [],
   "source": [
    "def likelihood(p, n=n, samples=samples):\n",
    "    return np.prod(binom.pmf(samples, p=p, n=n))"
   ]
  },
  {
   "cell_type": "markdown",
   "metadata": {},
   "source": [
    "Правдоподобие такое же, как у $N\\cdot n$ испытаний Бернулли\n",
    "$$L(p;x)= C(n, x) p^x(1-p)^{Nn-\\sum x}$$\n",
    "$$p_{MLE} = \\frac{\\sum x}{N\\cdot n}$$"
   ]
  },
  {
   "cell_type": "code",
   "execution_count": 30,
   "metadata": {},
   "outputs": [
    {
     "name": "stdout",
     "output_type": "stream",
     "text": [
      "0.20064\n"
     ]
    }
   ],
   "source": [
    "new_p_mle = new_samples.mean()/new_n\n",
    "print(new_p_mle)"
   ]
  },
  {
   "cell_type": "markdown",
   "metadata": {},
   "source": [
    "# 7. Construct from the prior and likelihood the posterior distribution (gamma, Gaussian, beta)."
   ]
  },
  {
   "cell_type": "code",
   "execution_count": 33,
   "metadata": {
    "collapsed": true
   },
   "outputs": [],
   "source": [
    "from functools import partial\n",
    "def approx_aposteriori(p, n, samples):\n",
    "    return likelihood(p, n, samples=samples)*beta.pmf(p, alpha=alpha, beta=beta)"
   ]
  },
  {
   "cell_type": "markdown",
   "metadata": {},
   "source": [
    "$$f(x|n, \\alpha, \\beta) = \\int_0^1 L(p;x) \\pi(p|\\alpha, \\beta) dp = {n\\choose k} \\dfrac{B(x + \\alpha, n - x + \\beta)}{B(\\alpha, \\beta)}$$\n",
    "\n",
    "https://en.wikipedia.org/wiki/Beta-binomial_distribution"
   ]
  },
  {
   "cell_type": "code",
   "execution_count": 35,
   "metadata": {
    "collapsed": true
   },
   "outputs": [],
   "source": [
    "from scipy.stats import betabinom"
   ]
  },
  {
   "cell_type": "markdown",
   "metadata": {},
   "source": [
    "# 8. Construct a histogram of the posterior and compare with the histogram of its Gaussian approximation"
   ]
  },
  {
   "cell_type": "code",
   "execution_count": 41,
   "metadata": {},
   "outputs": [
    {
     "data": {
      "text/plain": [
       "(array([350.,  97.,  92.,  61.,  57.,  52.,  46.,  56.,  67., 122.]),\n",
       " array([  0.,  10.,  20.,  30.,  40.,  50.,  60.,  70.,  80.,  90., 100.]),\n",
       " <BarContainer object of 10 artists>)"
      ]
     },
     "execution_count": 41,
     "metadata": {},
     "output_type": "execute_result"
    },
    {
     "data": {
      "image/png": "[encoded data removed]",
      "text/plain": [
       "<Figure size 432x288 with 1 Axes>"
      ]
     },
     "metadata": {},
     "output_type": "display_data"
    }
   ],
   "source": [
    "aposteri_samples = generate_samples(betabinom, n=new_n, a=alpha, b=beta, size=new_size)\n",
    "plt.hist(aposteri_samples)"
   ]
  },
  {
   "cell_type": "markdown",
   "metadata": {},
   "source": [
    "# 9. Generate a sample from posterior"
   ]
  },
  {
   "cell_type": "code",
   "execution_count": 43,
   "metadata": {},
   "outputs": [
    {
     "data": {
      "text/plain": [
       "array([ 97,   3,   0,   9,  92,  80,   0,   0,  82,   0,  41,  84,   0,\n",
       "         1,  51,  14,   3,  90,  71,  90,  25,  97,   8,  33,   3,  32,\n",
       "        89,   0,  93,   0,   6,  98,   0,  97,   2,  29,  96,   8,  13,\n",
       "        32,   2,   7,  91,  60,  12, 100,  91,  12,   1,  27,  99,  48,\n",
       "         2,  99,   4,  98,  36,  10,   2,   4,  14,   4,   0,   3,  13,\n",
       "        70,  91,  15,   8,  28,  79,   0,   1,  21,   2,   1,   7,  97,\n",
       "        24,  57,  55,  95,  23,  98,  62,  10,  12,  75,  41,  92,  25,\n",
       "         0, 100,   3,  25,  12,  30,   5,  76,   0,  24,  15,   4,  11,\n",
       "        97,   0,   0,  92,  98,  98,  20,   0,  94,   9,  17,   0,  66,\n",
       "        39,   1,   3,  43,  10,  96,   0,  70,  82, 100,  36,  53,  17,\n",
       "        64,   5,  82,  28,  93,  31,   0,   5,   0,  35,  70,   1,   1,\n",
       "        68,  50,  31,   1,  46,  18,  99,  20,  67,  21,  16,   3,   6,\n",
       "        83,   0,  99,   4,   8,  18,  55,  14,  38,   4,   7,  81,   6,\n",
       "       100,  74,  12,   0,  92, 100,  51,  10,  53,   5,  86,  52,  51,\n",
       "        43,   0,   1,   0,  11,  84,  31,   0,  59,   0,   0,  97,  73,\n",
       "        19,  98,  14,   1,   8,   6,  92,   2,   3,   0,  92,  22,   0,\n",
       "        58,   8,   0,  54,  34,   0,  71,   2,  26,   8,  70,  66,  82,\n",
       "         6,  15,   4,  51,   0,  54,  12,  92,  43,  13,  19,   2,  33,\n",
       "         5,   3,   7,   1,  12,  48,  73,  97,  84,   8,  84,  87,  97,\n",
       "        13,  93,  80,   0,   0,  11,   0,  71,   8,  24,  94,  37,  25,\n",
       "        58,   6,  67,  85,  64,   0,   4,   0,  16,  34,   6,   3,  94,\n",
       "         0,  22,   0,   7,  56,  63,  15,  58,   3,  20,  39,  84,  89,\n",
       "        98,  20,   2,   0,  88,  86,  97,  55,  83,  18,  17,  12,   8,\n",
       "         0,  83,   4,  30,  97,  63,  74,  66,   0,  65,   1,  23,   7,\n",
       "        97,  49,   2,  87,   0,  54,   0,   0,   1,   1,  15,  41,  12,\n",
       "        10,  77,  63,   7,  10,  70,   0,   5,   4,  82,  10,   3,   0,\n",
       "        98,  21,  23,   1,  40,   6, 100,  20, 100,   0,  24,   1,   8,\n",
       "        39,  21,   7,  15,  90,  57,  26,  18,  25,  39,   1, 100,  87,\n",
       "         0,  88,  12,  34,  16,  95,  84,  70,  46,  13,   3,   0,   1,\n",
       "        34,  37,  85, 100,   1,  75,  40,   3,  88,   9,   0,  88,  92,\n",
       "        45,   1,  86,  70,  15,   4,  20,  45,  97,  93,  83,   0,  69,\n",
       "        26,  18,  93,   0,   0,  95,   0,   0,   0,  10,  88,  14,  16,\n",
       "         2, 100,  43,   0,  22,  19,  94,  86,   8,  93,  43,   2,   5,\n",
       "        31,   1,   0,   6,   0,  22,  52,  61,  90,  61, 100,   3,  98,\n",
       "        46,  17,  46,  63,   0,   5,  43,  44,  22,  39,  94,   6,  64,\n",
       "        31,  69,  70,  64,  74,  54,  98,  46,   2,  43,  26,  73,  19,\n",
       "        50,  17,  88,  10,  42,   6,   0,  99,   0,  76,   0,  58,  46,\n",
       "        77,   9,   0,  87,  16,   3,   0,   0,  44,  37,   0,  39,  54,\n",
       "         0,   9,  15,  31,   1,  87, 100,  23,  33,   0, 100,  21,  99,\n",
       "         7,  39,  17,  26,   1,  66,   0,   8,  13,   0,  87,  45,  60,\n",
       "       100,  65,   3,  42,  26,  99,  66,  94,  19,   5,   0,  64,  89,\n",
       "        75,  59,  84,   7,   5,   0,  82,  39,   2,  76,  51,   9,  84,\n",
       "        25,   6,  76,  81,  27,  37,  92,  68,   0,  67,  98,  12,  25,\n",
       "        45,  82,   5,   6,   0,   0,  74,   0,  83,  92,   0,   1,  82,\n",
       "         0,  93,  86,  30,  90,   3,   3,  53,  18,   0,   3,   0,  95,\n",
       "        35,  76,  98, 100,   2,  48,  91,   2,   2,   3,  77,  16,   3,\n",
       "        42,  89,  96,   1,  89,  47,  75,   0,   0,   5,  23,  24,  62,\n",
       "        29,  48,  64,   6,  38,  35,  25,   0,  16,  72,  11,  10,  97,\n",
       "        16,  23,  91,  23,   1,  45,  98,  31,  43,   0,  49,  92,   9,\n",
       "        22, 100,   5,  90,   0,  44,  55,  86,  31,   5,   7,  59,   0,\n",
       "         8,  87,  13,  19,  26,  13, 100,  90,   0,   2,  84,   3,   0,\n",
       "        51,   1,   0,  42,  96,  85,  97,  23,   3,  20,  42,  90,  57,\n",
       "         0,  72,   2,  12,  98,   4,  89,  75,   0,  77,  22,  54,   0,\n",
       "        35,  27,  28,  29,  12,  35,   0,  33, 100,  26,  31,   1,   2,\n",
       "        53,  59,  42,  55,  95,  92,  99,   0,  50,  69,  15,  75,   0,\n",
       "        30,   0,  29,  54,  22,  20,  28,   3,  32,  78,   9,   8,  22,\n",
       "        65, 100,   2,   0,  22,  72,  20,  70,  95,  67,  46,   0,   2,\n",
       "        78,  87,  76,  85,   0,  30,  46,  21,   0,   1,   7,   3,  90,\n",
       "         0,  28,   1,   8,  13,  10,  54,  16,  36,  16,   2,  46,  66,\n",
       "         0,   9,  26,  15,   0,  25,   1,   7,   0,  47,  36,   0,  74,\n",
       "         1,  85,   3,  67,   5,   0,   3,   0,  34,  27,  15,  63,   7,\n",
       "        99,   0,  39,  97,  15,  43,  13,  24,  12,   0,   1,  22,  20,\n",
       "        99,  65,   1,   9,   0,   4,  18,   0,   8,   3,  84,  70,   0,\n",
       "         0,   0,  80,  53,  43,  32,   1,  61,  29,  54,  10,   0,  39,\n",
       "         0,  79,  52,   1,  12,  46,   8,  94,  33,   5,  51,   2,  67,\n",
       "         0,  75,   3,  88,  23,  25,  80,   0,   2,   2,  66,   0,   1,\n",
       "         5,  21, 100,   9,  27,   3,   5,  96,  61,  15,  51,  39,   2,\n",
       "        93,   0,   0,  10,  87,  53,  27,  43,   0,   5,  97,  30,  10,\n",
       "         0,  25,  99,  24,  98,  24, 100,  41,   7,   2,   0,  39,  27,\n",
       "         1,  58,  16,  48,   5,   8,   5,   2,  20,  33,   0,  72,  15,\n",
       "        78,   2, 100,  97,  40,   0,  42,   0,   2,  27,   0,   0,  88,\n",
       "        20,   0,   0,   8,   8,  92,  27,  53,  78,  52,  83,  35,  48,\n",
       "        77,  15,  17,  77,   2,  56,  96,  86,  79, 100,   0,   3,  21,\n",
       "        57,  72,  54,   1,  49,  78,   0,   0,   1,  74,   2,  13,   8,\n",
       "        63,  96,   6,   0,  41,  24,  84,  80,  70,   0,  26,   4,   3,\n",
       "         4,   1,   5,  63,  65,  22,   8,  62,  98,   0,  23,  40,  37,\n",
       "        68,  19,  32,  25,  45,  75,   0,   9,   3,  13,  33,   3])"
      ]
     },
     "execution_count": 43,
     "metadata": {},
     "output_type": "execute_result"
    }
   ],
   "source": [
    "aposteri_samples"
   ]
  },
  {
   "cell_type": "code",
   "execution_count": null,
   "metadata": {
    "collapsed": true
   },
   "outputs": [],
   "source": []
  }
 ],
 "metadata": {
  "kernelspec": {
   "display_name": "Python 3",
   "language": "python",
   "name": "python3"
  },
  "language_info": {
   "codemirror_mode": {
    "name": "ipython",
    "version": 3
   },
   "file_extension": ".py",
   "mimetype": "text/x-python",
   "name": "python",
   "nbconvert_exporter": "python",
   "pygments_lexer": "ipython3",
   "version": "3.6.3"
  }
 },
 "nbformat": 4,
 "nbformat_minor": 2
}
