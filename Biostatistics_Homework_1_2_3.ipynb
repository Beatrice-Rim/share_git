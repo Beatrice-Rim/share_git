{
 "cells": [
  {
   "cell_type": "markdown",
   "metadata": {},
   "source": [
    "# 1. Generate a sample from Poisson (Binomial, Gaussian) distribution \n"
   ]
  },
  {
   "cell_type": "code",
   "execution_count": 4,
   "metadata": {
    "collapsed": true
   },
   "outputs": [],
   "source": [
    "from scipy.stats import binom, poisson, norm\n",
    "\n",
    "import matplotlib.pyplot as plt\n",
    "import seaborn as sns\n",
    "%matplotlib inline\n",
    "import numpy as np\n",
    "\n",
    "\n",
    "def generate_samples(distribution, **kwargs):\n",
    "    return distribution.rvs(**kwargs)\n",
    "\n",
    "from statsmodels.stats.gof import gof_binning_discrete\n",
    "\n",
    "from scipy import stats\n"
   ]
  },
  {
   "cell_type": "markdown",
   "metadata": {},
   "source": [
    "# 2. Test the hypothesis that the parameter is equal to a given value. Take correct and incorrect values and compare the test results\n"
   ]
  },
  {
   "cell_type": "markdown",
   "metadata": {},
   "source": [
    "## Биномиальное распределение: проверка с истинным р "
   ]
  },
  {
   "cell_type": "code",
   "execution_count": 5,
   "metadata": {},
   "outputs": [
    {
     "name": "stdout",
     "output_type": "stream",
     "text": [
      "Test passed\n"
     ]
    },
    {
     "data": {
      "text/plain": [
       "(array([  4.,   3.,   9.,  18.,  25.,  67.,  65., 137.,  70.,  66., 159.,\n",
       "         64., 120.,  61.,  39.,  53.,  13.,  15.,   4.,   8.]),\n",
       " array([26. , 27.4, 28.8, 30.2, 31.6, 33. , 34.4, 35.8, 37.2, 38.6, 40. ,\n",
       "        41.4, 42.8, 44.2, 45.6, 47. , 48.4, 49.8, 51.2, 52.6, 54. ]),\n",
       " <BarContainer object of 20 artists>)"
      ]
     },
     "execution_count": 5,
     "metadata": {},
     "output_type": "execute_result"
    },
    {
     "data": {
      "image/png": "[encoded data removed]",
      "text/plain": [
       "<Figure size 432x288 with 1 Axes>"
      ]
     },
     "metadata": {},
     "output_type": "display_data"
    }
   ],
   "source": [
    "p = 0.4\n",
    "n = 100\n",
    "alpha = 0.05\n",
    "samples = generate_samples(binom, p=p, n=n, size=1000)\n",
    "\n",
    "freq, exp_freq, histsupp = gof_binning_discrete(samples, binom, (n, p))\n",
    "\n",
    "(chi_val, p_val) = stats.chisquare(freq, exp_freq)\n",
    "\n",
    "if p_val >= alpha:\n",
    "    print('Test passed')\n",
    "else:\n",
    "    print('Test failed')\n",
    "    \n",
    "plt.hist(samples, bins=20)"
   ]
  },
  {
   "cell_type": "markdown",
   "metadata": {},
   "source": [
    "##  Биномиальное распределение: проверка с p/2\n"
   ]
  },
  {
   "cell_type": "code",
   "execution_count": 6,
   "metadata": {},
   "outputs": [
    {
     "name": "stdout",
     "output_type": "stream",
     "text": [
      "Test failed\n"
     ]
    }
   ],
   "source": [
    "p = 0.4\n",
    "n = 100\n",
    "alpha = 0.05\n",
    "samples = generate_samples(binom, p=p, n=n, size=1000)\n",
    "\n",
    "freq, exp_freq, histsupp = gof_binning_discrete(samples, binom, (n, p/2))\n",
    "\n",
    "(chi_val, p_val) = stats.chisquare(freq, exp_freq)\n",
    "\n",
    "if p_val >= alpha:\n",
    "    print('Test passed')\n",
    "else:\n",
    "    print('Test failed')\n"
   ]
  },
  {
   "cell_type": "markdown",
   "metadata": {},
   "source": [
    "## Распределение Пуассона: проверка с истинным $\\mu$"
   ]
  },
  {
   "cell_type": "code",
   "execution_count": 7,
   "metadata": {},
   "outputs": [
    {
     "name": "stdout",
     "output_type": "stream",
     "text": [
      "Test passed\n"
     ]
    },
    {
     "data": {
      "text/plain": [
       "(array([683.,   0.,   0.,   0.,   0., 254.,   0.,   0.,   0.,   0.,  53.,\n",
       "          0.,   0.,   0.,   0.,   8.,   0.,   0.,   0.,   2.]),\n",
       " array([0. , 0.2, 0.4, 0.6, 0.8, 1. , 1.2, 1.4, 1.6, 1.8, 2. , 2.2, 2.4,\n",
       "        2.6, 2.8, 3. , 3.2, 3.4, 3.6, 3.8, 4. ]),\n",
       " <BarContainer object of 20 artists>)"
      ]
     },
     "execution_count": 7,
     "metadata": {},
     "output_type": "execute_result"
    },
    {
     "data": {
      "image/png": "[encoded data removed]",
      "text/plain": [
       "<Figure size 432x288 with 1 Axes>"
      ]
     },
     "metadata": {},
     "output_type": "display_data"
    }
   ],
   "source": [
    "mu = 0.4\n",
    "alpha = 0.05\n",
    "samples = generate_samples(poisson, mu=mu, size=1000)\n",
    "\n",
    "freq, exp_freq, histsupp = gof_binning_discrete(samples, poisson, (mu, ))\n",
    "\n",
    "(chi_val, p_val) = stats.chisquare(freq, exp_freq)\n",
    "\n",
    "if p_val >= alpha:\n",
    "    print('Test passed')\n",
    "else:\n",
    "    print('Test failed')\n",
    "plt.hist(samples, bins=20)"
   ]
  },
  {
   "cell_type": "markdown",
   "metadata": {},
   "source": [
    "## Распределение Пуассона: проверка с $\\frac{\\mu}{2}$"
   ]
  },
  {
   "cell_type": "code",
   "execution_count": 8,
   "metadata": {},
   "outputs": [
    {
     "name": "stdout",
     "output_type": "stream",
     "text": [
      "Test failed\n"
     ]
    }
   ],
   "source": [
    "mu = 0.4\n",
    "alpha = 0.05\n",
    "samples = generate_samples(poisson, mu=mu, size=1000)\n",
    "\n",
    "freq, exp_freq, histsupp = gof_binning_discrete(samples, poisson, (mu/2, ))\n",
    "\n",
    "(chi_val, p_val) = stats.chisquare(freq, exp_freq)\n",
    "\n",
    "if p_val >= alpha:\n",
    "    print('Test passed')\n",
    "else:\n",
    "    print('Test failed')"
   ]
  },
  {
   "cell_type": "markdown",
   "metadata": {},
   "source": [
    "## Нормальное распределение: проверка с истинными значением среднего"
   ]
  },
  {
   "cell_type": "code",
   "execution_count": 9,
   "metadata": {},
   "outputs": [
    {
     "name": "stdout",
     "output_type": "stream",
     "text": [
      "Test passed\n"
     ]
    },
    {
     "data": {
      "text/plain": [
       "(array([  2.,   5.,  11.,  24.,  20.,  22.,  50.,  71., 105., 100., 119.,\n",
       "        123., 115.,  79.,  55.,  39.,  25.,  17.,  11.,   7.]),\n",
       " array([-5.2180748 , -4.63221271, -4.04635062, -3.46048854, -2.87462645,\n",
       "        -2.28876436, -1.70290227, -1.11704018, -0.53117809,  0.054684  ,\n",
       "         0.64054609,  1.22640818,  1.81227027,  2.39813236,  2.98399445,\n",
       "         3.56985654,  4.15571863,  4.74158072,  5.32744281,  5.9133049 ,\n",
       "         6.49916699]),\n",
       " <BarContainer object of 20 artists>)"
      ]
     },
     "execution_count": 9,
     "metadata": {},
     "output_type": "execute_result"
    },
    {
     "data": {
      "image/png": "[encoded data removed]",
      "text/plain": [
       "<Figure size 432x288 with 1 Axes>"
      ]
     },
     "metadata": {},
     "output_type": "display_data"
    }
   ],
   "source": [
    "loc = 1\n",
    "scale = 2\n",
    "samples = generate_samples(norm, loc=loc, scale=scale, size=1000)\n",
    "\n",
    "freq, exp_freq, histsupp = gof_binning_discrete(samples, norm, (loc, scale))\n",
    "\n",
    "(chi_val, p_val) = stats.chisquare(freq, exp_freq)\n",
    "\n",
    "if p_val >= alpha:\n",
    "    print('Test passed')\n",
    "else:\n",
    "    print('Test failed')\n",
    "plt.hist(samples, bins=20)"
   ]
  },
  {
   "cell_type": "markdown",
   "metadata": {},
   "source": [
    "## Нормальное распределение: проверка со значением среднего в два раза меньше истинного"
   ]
  },
  {
   "cell_type": "code",
   "execution_count": 10,
   "metadata": {},
   "outputs": [
    {
     "name": "stdout",
     "output_type": "stream",
     "text": [
      "Test failed\n"
     ]
    }
   ],
   "source": [
    "loc = 1\n",
    "scale = 2\n",
    "samples = generate_samples(norm, loc=loc, scale=scale, size=1000)\n",
    "\n",
    "freq, exp_freq, histsupp = gof_binning_discrete(samples, norm, (loc/2, scale))\n",
    "\n",
    "(chi_val, p_val) = stats.chisquare(freq, exp_freq)\n",
    "\n",
    "if p_val >= alpha:\n",
    "    print('Test passed')\n",
    "else:\n",
    "    print('Test failed')"
   ]
  },
  {
   "cell_type": "markdown",
   "metadata": {},
   "source": [
    "## Функция лог-правдоподобия (без логарифма маленькие значения, меньше машинной точности)"
   ]
  },
  {
   "cell_type": "code",
   "execution_count": 11,
   "metadata": {
    "collapsed": true
   },
   "outputs": [],
   "source": [
    "def norm_likelihood(loc=loc, scale=scale, samples=samples):\n",
    "    return np.log(norm.pdf(samples, loc=loc, scale=scale)).sum()"
   ]
  },
  {
   "cell_type": "code",
   "execution_count": 12,
   "metadata": {},
   "outputs": [
    {
     "data": {
      "text/plain": [
       "-22.017097810001108"
      ]
     },
     "execution_count": 12,
     "metadata": {},
     "output_type": "execute_result"
    }
   ],
   "source": [
    "norm_likelihood(loc=loc, scale=scale, samples=samples[:10])"
   ]
  },
  {
   "cell_type": "markdown",
   "metadata": {},
   "source": [
    "# 3. Construct the likelihood function and find the maximum likelihood estimate (MLE) ofthe parameter (for Gaussian only)\n"
   ]
  },
  {
   "cell_type": "markdown",
   "metadata": {},
   "source": [
    "## Оценка MLE для среднего"
   ]
  },
  {
   "cell_type": "code",
   "execution_count": 13,
   "metadata": {
    "collapsed": true
   },
   "outputs": [],
   "source": [
    "from scipy.optimize import minimize"
   ]
  },
  {
   "cell_type": "code",
   "execution_count": 14,
   "metadata": {
    "collapsed": true
   },
   "outputs": [],
   "source": [
    "def neg_likelihood(*args, **kwargs):\n",
    "    return -norm_likelihood(*args, **kwargs)"
   ]
  },
  {
   "cell_type": "code",
   "execution_count": 15,
   "metadata": {},
   "outputs": [
    {
     "data": {
      "text/plain": [
       "      fun: 21.730091825057784\n",
       " hess_inv: array([[0.39999998]])\n",
       "      jac: array([0.])\n",
       "  message: 'Optimization terminated successfully.'\n",
       "     nfev: 6\n",
       "      nit: 2\n",
       "     njev: 3\n",
       "   status: 0\n",
       "  success: True\n",
       "        x: array([1.47917076])"
      ]
     },
     "execution_count": 15,
     "metadata": {},
     "output_type": "execute_result"
    }
   ],
   "source": [
    "from functools import partial\n",
    "minimize(partial(neg_likelihood, samples=samples[:10], scale=scale), x0=0.5)"
   ]
  },
  {
   "cell_type": "markdown",
   "metadata": {
    "collapsed": true
   },
   "source": [
    "# 4. Construct the prior distribution (gamma, Gaussian, beta) from this sample\n"
   ]
  },
  {
   "cell_type": "code",
   "execution_count": 16,
   "metadata": {
    "collapsed": true
   },
   "outputs": [],
   "source": [
    "from scipy.stats import beta, binom"
   ]
  },
  {
   "cell_type": "code",
   "execution_count": 17,
   "metadata": {
    "collapsed": true
   },
   "outputs": [],
   "source": [
    "p = 0.4\n",
    "n = 100\n",
    "size = 1000\n",
    "samples = generate_samples(binom, p=p, n=n, size=size)"
   ]
  },
  {
   "cell_type": "code",
   "execution_count": 18,
   "metadata": {},
   "outputs": [
    {
     "data": {
      "text/plain": [
       "(array([  1.,   9.,  45., 120., 285., 260., 203.,  57.,  16.,   4.]),\n",
       " array([22. , 25.5, 29. , 32.5, 36. , 39.5, 43. , 46.5, 50. , 53.5, 57. ]),\n",
       " <BarContainer object of 10 artists>)"
      ]
     },
     "execution_count": 18,
     "metadata": {},
     "output_type": "execute_result"
    },
    {
     "data": {
      "image/png": "[encoded data removed]",
      "text/plain": [
       "<Figure size 432x288 with 1 Axes>"
      ]
     },
     "metadata": {},
     "output_type": "display_data"
    }
   ],
   "source": [
    "plt.hist(samples)"
   ]
  },
  {
   "cell_type": "markdown",
   "metadata": {},
   "source": [
    "$$\\mathbb{E}\\left[x\\right] = np$$\n",
    "$$\\mathbb{V}\\left[x\\right] = np(1-p)$$\n",
    "$$1-p = \\frac{\\overline{\\sigma}}{\\overline{\\mu}} \\quad \\Rightarrow \\quad p = 1 -  \\frac{\\overline{\\sigma}}{\\overline{\\mu}}$$\n",
    "$$n = \\dfrac{\\overline{\\mu}}{1 - \\frac{\\overline{\\sigma}}{\\overline{\\mu}}}$$"
   ]
  },
  {
   "cell_type": "markdown",
   "metadata": {},
   "source": [
    "$$\\mathbb{E}(p) = \\dfrac{\\alpha}{\\alpha + \\beta} = 1 -  \\frac{\\overline{\\sigma}}{\\overline{\\mu}}$$\n",
    "Возьмем в качестве $\\beta = y - \\alpha,\\ \\alpha = py $. Если $y = 1$, то $\\alpha = p, \\quad \\beta = 1 - p$.\n",
    "\n"
   ]
  },
  {
   "cell_type": "code",
   "execution_count": 19,
   "metadata": {
    "collapsed": true
   },
   "outputs": [],
   "source": [
    "scaling_factor = 10\n",
    "alpha = scaling_factor*(1 - samples.var()/samples.mean())\n",
    "beta = scaling_factor - alpha"
   ]
  },
  {
   "cell_type": "markdown",
   "metadata": {},
   "source": [
    "# 5. Generate a sample from Poisson (Gaussian, binomial) distribution (of a different size and with a different parameter value)"
   ]
  },
  {
   "cell_type": "code",
   "execution_count": 20,
   "metadata": {
    "collapsed": true
   },
   "outputs": [],
   "source": [
    "new_p = 0.2 \n",
    "new_n = 100\n",
    "new_size = 1000\n",
    "new_samples = generate_samples(binom, p=new_p, n=new_n, size=new_size)"
   ]
  },
  {
   "cell_type": "markdown",
   "metadata": {},
   "source": [
    "# 6. Construct the likelihood function and find the maximum likelihood estimate (MLE) of the parameter "
   ]
  },
  {
   "cell_type": "code",
   "execution_count": 21,
   "metadata": {
    "collapsed": true
   },
   "outputs": [],
   "source": [
    "def likelihood(p, n=n, samples=samples):\n",
    "    return np.prod(binom.pmf(samples, p=p, n=n))"
   ]
  },
  {
   "cell_type": "markdown",
   "metadata": {},
   "source": [
    "Правдоподобие такое же, как у $N\\cdot n$ испытаний Бернулли\n",
    "$$L(p;x)= C(n, x) p^x(1-p)^{Nn-\\sum x}$$\n",
    "$$p_{MLE} = \\frac{\\sum x}{N\\cdot n}$$"
   ]
  },
  {
   "cell_type": "code",
   "execution_count": 22,
   "metadata": {},
   "outputs": [
    {
     "name": "stdout",
     "output_type": "stream",
     "text": [
      "0.19960999999999998\n"
     ]
    }
   ],
   "source": [
    "new_p_mle = new_samples.mean()/new_n\n",
    "print(new_p_mle)"
   ]
  },
  {
   "cell_type": "markdown",
   "metadata": {},
   "source": [
    "# 7. Construct from the prior and likelihood the posterior distribution (gamma, Gaussian, beta)."
   ]
  },
  {
   "cell_type": "code",
   "execution_count": 23,
   "metadata": {
    "collapsed": true
   },
   "outputs": [],
   "source": [
    "from functools import partial\n",
    "def approx_aposteriori(p, n, samples):\n",
    "    return likelihood(p, n, samples=samples)*beta.pmf(p, alpha=alpha, beta=beta)"
   ]
  },
  {
   "cell_type": "markdown",
   "metadata": {},
   "source": [
    "$$f(x|n, \\alpha, \\beta) = \\int_0^1 L(p;x) \\pi(p|\\alpha, \\beta) dp = {n\\choose k} \\dfrac{B(x + \\alpha, n - x + \\beta)}{B(\\alpha, \\beta)}$$\n",
    "\n",
    "https://en.wikipedia.org/wiki/Beta-binomial_distribution"
   ]
  },
  {
   "cell_type": "code",
   "execution_count": 24,
   "metadata": {
    "collapsed": true
   },
   "outputs": [],
   "source": [
    "from scipy.stats import betabinom"
   ]
  },
  {
   "cell_type": "markdown",
   "metadata": {},
   "source": [
    "# 8. Construct a histogram of the posterior and compare with the histogram of its Gaussian approximation"
   ]
  },
  {
   "cell_type": "code",
   "execution_count": 25,
   "metadata": {},
   "outputs": [
    {
     "name": "stdout",
     "output_type": "stream",
     "text": [
      "4.40214958893122\n",
      "5.59785041106878\n"
     ]
    },
    {
     "data": {
      "image/png": "[encoded data removed]",
      "text/plain": [
       "<Figure size 432x288 with 1 Axes>"
      ]
     },
     "metadata": {},
     "output_type": "display_data"
    }
   ],
   "source": [
    "aposteri_samples = generate_samples(betabinom, n=new_n, a=alpha, b=beta, size=new_size)\n",
    "plt.hist(aposteri_samples)\n",
    "print(alpha)\n",
    "print(beta)"
   ]
  },
  {
   "cell_type": "code",
   "execution_count": 26,
   "metadata": {
    "collapsed": true
   },
   "outputs": [],
   "source": [
    "#TODO Gaussian approximation"
   ]
  },
  {
   "cell_type": "markdown",
   "metadata": {},
   "source": [
    "# 9. Generate a sample from posterior"
   ]
  },
  {
   "cell_type": "code",
   "execution_count": 27,
   "metadata": {
    "scrolled": true
   },
   "outputs": [
    {
     "data": {
      "text/plain": [
       "array([55, 33, 52, 42, 45, 43, 46, 17, 53, 46, 52, 18, 33, 49, 42, 19, 21,\n",
       "       46, 55, 58, 22, 37, 28, 59, 36, 53, 59, 36, 26, 67, 48, 55, 43, 20,\n",
       "       52, 19, 14, 54, 28, 40, 39, 26, 44, 15, 44, 21, 30, 35, 23, 28, 55,\n",
       "       23, 54, 21, 92, 46, 50, 13, 41, 60, 40, 54, 47, 26, 31, 32, 65, 57,\n",
       "       40, 57, 62, 50, 45, 44, 35, 52, 47, 24, 55, 34, 35, 48, 38, 51, 33,\n",
       "       93, 47, 72, 20, 66, 61, 75, 55, 65, 49, 29, 39, 41, 29, 40, 27, 13,\n",
       "       33, 19, 50, 31, 39, 49, 40, 52, 25, 43, 37, 43, 69, 33, 60, 21, 42,\n",
       "       18, 18, 35, 48, 61, 26, 41, 56, 20, 53, 18, 59, 50, 49, 50, 25, 41,\n",
       "       84, 45, 82, 50, 63,  9, 45, 45, 15, 15, 35, 46, 71, 38, 21, 67, 48,\n",
       "       46, 47, 49, 45, 49, 29, 76, 50, 59, 47, 70, 44, 44, 38, 41, 29, 39,\n",
       "       28, 29, 65, 74, 45, 34, 65, 40, 22, 78, 28, 18, 53, 59, 34, 20, 66,\n",
       "       55, 52, 64, 49, 34, 71, 48, 26, 46, 31, 47, 49, 57, 80, 33, 54, 49,\n",
       "       67, 57, 26, 67, 43, 45, 41, 39, 41, 57, 57, 45, 61, 40, 31, 24, 52,\n",
       "       30, 16, 27, 37, 62, 17, 45, 25, 30, 41, 27, 33, 23, 68, 23, 47, 44,\n",
       "       69, 71, 56, 34, 50, 20, 32, 56, 50, 26, 54, 48, 79, 29, 48, 58, 63,\n",
       "       40, 36, 60, 18, 37, 27, 59, 19, 42,  9, 43, 44, 36, 62, 71,  7, 35,\n",
       "       70, 28, 46, 29, 22, 53, 41, 59, 71, 30, 37, 31, 43, 50, 37, 45, 48,\n",
       "       29, 52, 24, 67, 47, 24, 54, 46, 43, 67, 47, 43, 14, 43, 79, 43, 33,\n",
       "       26, 53, 56, 79, 63, 47, 45, 56, 34, 45, 28, 11, 65, 56, 22, 16, 29,\n",
       "       41, 42, 76, 67, 35, 68, 52, 82, 35, 60, 34, 51, 28, 21, 70, 34, 56,\n",
       "       48, 63, 63, 42, 92, 32, 28, 46, 50, 41, 36, 37, 37, 52, 30, 40, 40,\n",
       "       11, 43, 40, 44, 48, 42, 36, 44, 27, 36, 33, 66, 56, 54, 60, 24, 58,\n",
       "       61, 45, 15, 28, 68, 60, 51, 26, 39, 39, 37, 43, 49, 21,  8, 25, 17,\n",
       "       60, 41, 39, 80, 40, 43, 44, 52, 63, 72, 59, 45, 32, 48, 15, 56, 51,\n",
       "       37, 47, 67, 15, 32, 69, 50, 13, 39, 24, 63, 51, 65, 42, 81, 48, 46,\n",
       "       39, 56, 55, 16, 48, 45, 23, 52, 28, 12, 48, 45, 43, 37, 46, 32, 16,\n",
       "       50, 23, 11, 47, 26, 78, 31, 63, 36, 18, 68, 60, 38, 48, 55, 12, 37,\n",
       "       69, 49, 25, 30, 40, 51, 31, 55, 48, 58, 58, 45, 32, 63, 20, 58, 58,\n",
       "       43, 28, 65, 24, 58, 67, 61, 48, 45, 62, 32, 25, 64, 51, 33, 34, 22,\n",
       "       47, 36, 35, 59, 49, 57, 60, 56, 51, 48, 36, 31, 51, 47, 23, 61, 37,\n",
       "       50, 43, 54, 64, 45, 42, 59, 63, 37, 32, 49, 32, 32, 39, 48, 33, 21,\n",
       "       39, 69, 35, 55, 54, 33, 51, 52, 34, 48, 72, 45, 32, 77, 36, 37, 74,\n",
       "       60, 57, 28, 42, 35, 44, 23, 38, 61, 43, 55, 20, 44, 34, 49, 32, 49,\n",
       "       48, 55, 53, 39, 57, 65, 59, 59, 64, 58, 42, 48, 23, 31, 53, 45, 41,\n",
       "       49, 51, 24, 71, 31, 45, 64, 22, 28, 51, 31, 49, 12, 51, 57, 35, 54,\n",
       "       41, 19, 27, 36, 50, 21, 34, 26, 70, 60, 45, 47, 67, 73, 66, 31, 37,\n",
       "       51, 51, 27, 29, 53, 30, 30, 70, 12, 18, 46, 31, 52, 51, 83, 52, 36,\n",
       "       45, 48, 45, 56, 50, 44, 32,  9, 37, 70, 42, 68, 26, 50, 40, 69, 78,\n",
       "       39, 50, 15, 63, 16, 23, 49, 39, 66, 42, 43, 44, 77, 35, 42, 60, 65,\n",
       "       42, 68, 41, 44, 69, 40, 41, 64, 39, 38, 47, 46, 60, 29, 42, 37, 53,\n",
       "       39, 63, 44, 24, 43, 55, 38, 58, 46, 46, 76, 45, 40, 37, 18, 58, 35,\n",
       "       16, 50, 54, 29, 31, 20, 50, 28, 34, 44, 45, 49, 20, 56, 56, 58, 54,\n",
       "       56, 29, 45, 41, 30, 43, 42, 40, 55, 53, 29, 68, 38, 30, 57, 20, 31,\n",
       "       50, 73, 38, 31, 57, 33, 49, 54, 37, 46, 44, 45, 75, 17, 53, 37, 68,\n",
       "       29, 26, 48, 69, 29, 27, 57, 22, 50, 59, 40, 40, 33, 57, 58, 43, 32,\n",
       "       34, 36, 29, 43, 63, 22, 58, 41, 15, 39, 40, 39, 52, 58, 41, 44, 41,\n",
       "       56, 42, 36, 16, 34, 20, 56, 46, 27, 56, 25, 31, 40, 46, 54, 44, 84,\n",
       "       35, 31, 46, 24, 55, 68, 39, 25, 70, 51, 50, 37, 45, 39, 58, 45, 11,\n",
       "       35, 46, 50, 48, 25, 73, 25, 39, 43, 39, 36, 13, 64, 28, 54, 55, 68,\n",
       "       33, 47, 59, 46, 17, 48, 27, 62, 30, 58, 28, 42, 34, 59, 61, 37, 60,\n",
       "       62, 19, 35, 16, 32, 19, 45, 65, 32, 41, 35, 48, 50, 44, 51, 36, 48,\n",
       "       56, 40, 51, 29, 42, 47, 55, 63, 45, 53, 61, 44, 17, 23, 38, 10, 38,\n",
       "       39, 36, 46, 35, 27, 75, 49, 63, 30, 35, 58, 46, 42, 31, 34, 14, 44,\n",
       "       57, 47, 82, 16, 52, 27, 57, 54, 59, 62, 53, 48, 53, 23, 51, 53, 45,\n",
       "       61, 50, 52, 41, 45, 15, 47, 46, 28, 37, 72, 40, 34, 20, 28, 64, 47,\n",
       "       66, 41, 40,  9, 40, 34, 50, 23, 43, 76, 46, 19, 50, 34, 23, 37, 71,\n",
       "       58, 73, 48, 34, 36, 37, 44, 57, 51, 21, 46, 81, 25, 54, 25, 42, 52,\n",
       "       62, 41, 43, 49, 47, 53, 42, 58, 60, 42, 44, 47, 27, 45, 43, 61, 55,\n",
       "       45, 36, 33, 46, 37, 44, 32, 35, 22, 21, 66, 45, 50, 19])"
      ]
     },
     "execution_count": 27,
     "metadata": {},
     "output_type": "execute_result"
    }
   ],
   "source": [
    "aposteri_samples\n"
   ]
  },
  {
   "cell_type": "markdown",
   "metadata": {
    "collapsed": true
   },
   "source": [
    "# 10. Find theoretical and sample posterior mean, median, variance, and st. deviation of the parameter.\n"
   ]
  },
  {
   "cell_type": "code",
   "execution_count": 28,
   "metadata": {
    "collapsed": true
   },
   "outputs": [],
   "source": [
    "import numpy as np"
   ]
  },
  {
   "cell_type": "markdown",
   "metadata": {
    "collapsed": true
   },
   "source": [
    "### Posterior mean"
   ]
  },
  {
   "cell_type": "markdown",
   "metadata": {},
   "source": [
    "$$\n",
    "\\bar{\\theta}=\\int \\theta p(\\theta \\mid \\boldsymbol{y}) d \\theta\n",
    "$$\n",
    "where\n",
    "$$\n",
    "p(\\theta \\mid y) \\equiv p(\\theta \\mid \\bar{y})=\\frac{\\beta^{\\bar{\\alpha}}}{\\Gamma(\\bar{\\alpha})} \\theta^{\\bar{\\alpha}-1} \\mathrm{e}^{-\\bar{\\beta} \\theta}\n",
    "$$\n",
    "$$\n",
    "\\bar{\\theta}=\\frac{1}{B(\\bar{\\alpha}, \\bar{\\beta})} \\int_{0}^{1} \\theta \\theta^{\\bar{\\alpha}-1}(1-\\theta)^{\\bar{\\beta}-1} d \\theta\n",
    "$$\n",
    "\n",
    "$$\n",
    "for\\ beta-binomial\\ distribution\\ mean\\ is\\ \\frac{n \\alpha}{\\alpha+\\beta}\n",
    "$$"
   ]
  },
  {
   "cell_type": "code",
   "execution_count": 29,
   "metadata": {},
   "outputs": [
    {
     "name": "stdout",
     "output_type": "stream",
     "text": [
      "44.0214958893122 43.762\n"
     ]
    }
   ],
   "source": [
    "theta = n*alpha/(alpha + beta)\n",
    "aposteri_samples_mean = np.mean(aposteri_samples)\n",
    "print(theta, aposteri_samples_mean )"
   ]
  },
  {
   "cell_type": "markdown",
   "metadata": {},
   "source": [
    "### Posterior median "
   ]
  },
  {
   "cell_type": "markdown",
   "metadata": {},
   "source": [
    "$$\n",
    "0.5=\\int_{\\theta_{M}}^{1} p(\\theta \\mid y) d \\theta\n",
    "$$\n"
   ]
  },
  {
   "cell_type": "code",
   "execution_count": 30,
   "metadata": {},
   "outputs": [
    {
     "name": "stdout",
     "output_type": "stream",
     "text": [
      "40.0 44.0\n"
     ]
    }
   ],
   "source": [
    "aposteri_samples_median = np.median(aposteri_samples)\n",
    "samples_median = np.median(samples)\n",
    "print(samples_median, aposteri_samples_median)\n"
   ]
  },
  {
   "cell_type": "markdown",
   "metadata": {},
   "source": [
    "### Variance"
   ]
  },
  {
   "cell_type": "markdown",
   "metadata": {},
   "source": [
    "$$\n",
    "\\bar{\\sigma}^{2}=\\int(\\theta-\\bar{\\theta})^{2} p(\\theta \\mid y) d \\theta\n",
    "$$\n",
    "$$\n",
    "\\frac{1}{B(\\bar{\\alpha}, \\bar{\\beta})} \\int_{0}^{1} \\theta^{2} \\theta^{\\bar{\\alpha}-1}(1-\\theta)^{\\bar{\\beta}-1} d \\theta\n",
    "$$\n",
    "\n",
    "$$\n",
    "\\frac{n \\alpha \\beta(\\alpha+\\beta+n)}{(\\alpha+\\beta)^{2}(\\alpha+\\beta+1)}\n",
    "$$\n"
   ]
  },
  {
   "cell_type": "code",
   "execution_count": 31,
   "metadata": {},
   "outputs": [
    {
     "ename": "NameError",
     "evalue": "name 'sigma' is not defined",
     "output_type": "error",
     "traceback": [
      "\u001b[0;31m---------------------------------------------------------------------------\u001b[0m",
      "\u001b[0;31mNameError\u001b[0m                                 Traceback (most recent call last)",
      "\u001b[0;32m<ipython-input-31-64a1d59a77af>\u001b[0m in \u001b[0;36m<module>\u001b[0;34m()\u001b[0m\n\u001b[1;32m      1\u001b[0m \u001b[0msamples_var\u001b[0m \u001b[0;34m=\u001b[0m \u001b[0mn\u001b[0m\u001b[0;34m*\u001b[0m\u001b[0malpha\u001b[0m\u001b[0;34m*\u001b[0m\u001b[0mbeta\u001b[0m\u001b[0;34m*\u001b[0m\u001b[0;34m(\u001b[0m\u001b[0malpha\u001b[0m \u001b[0;34m+\u001b[0m \u001b[0mbeta\u001b[0m \u001b[0;34m+\u001b[0m \u001b[0mn\u001b[0m\u001b[0;34m)\u001b[0m\u001b[0;34m/\u001b[0m\u001b[0;34m(\u001b[0m\u001b[0;34m(\u001b[0m\u001b[0malpha\u001b[0m \u001b[0;34m+\u001b[0m \u001b[0mbeta\u001b[0m \u001b[0;34m+\u001b[0m \u001b[0;36m1\u001b[0m\u001b[0;34m)\u001b[0m\u001b[0;34m*\u001b[0m\u001b[0;34m(\u001b[0m\u001b[0malpha\u001b[0m \u001b[0;34m+\u001b[0m \u001b[0mbeta\u001b[0m\u001b[0;34m)\u001b[0m\u001b[0;34m**\u001b[0m\u001b[0;36m2\u001b[0m\u001b[0;34m)\u001b[0m \u001b[0;31m#theoretical\u001b[0m\u001b[0;34m\u001b[0m\u001b[0m\n\u001b[1;32m      2\u001b[0m \u001b[0maposteri_samples_var\u001b[0m \u001b[0;34m=\u001b[0m \u001b[0mnp\u001b[0m\u001b[0;34m.\u001b[0m\u001b[0mvar\u001b[0m\u001b[0;34m(\u001b[0m\u001b[0maposteri_samples\u001b[0m\u001b[0;34m)\u001b[0m\u001b[0;34m\u001b[0m\u001b[0m\n\u001b[0;32m----> 3\u001b[0;31m \u001b[0mprint\u001b[0m\u001b[0;34m(\u001b[0m\u001b[0msigma\u001b[0m\u001b[0;34m,\u001b[0m\u001b[0maposteri_samples_var\u001b[0m\u001b[0;34m)\u001b[0m\u001b[0;34m\u001b[0m\u001b[0m\n\u001b[0m",
      "\u001b[0;31mNameError\u001b[0m: name 'sigma' is not defined"
     ]
    }
   ],
   "source": [
    "samples_var = n*alpha*beta*(alpha + beta + n)/((alpha + beta + 1)*(alpha + beta)**2) #theoretical\n",
    "aposteri_samples_var = np.var(aposteri_samples) \n",
    "print(sigma,aposteri_samples_var)"
   ]
  },
  {
   "cell_type": "markdown",
   "metadata": {},
   "source": [
    "### Standart deviation"
   ]
  },
  {
   "cell_type": "code",
   "execution_count": 32,
   "metadata": {},
   "outputs": [
    {
     "data": {
      "text/plain": [
       "(4.725799826484402, 15.56140597761012)"
      ]
     },
     "execution_count": 32,
     "metadata": {},
     "output_type": "execute_result"
    }
   ],
   "source": [
    "samples_std, aposteri_samples_std = np.std(samples), np.std(aposteri_samples)\n",
    "\n",
    "samples_std, aposteri_samples_std"
   ]
  },
  {
   "cell_type": "markdown",
   "metadata": {},
   "source": [
    "# 11. Plot the confidence interval and Bayesian (credible) interval for the parameter mean."
   ]
  },
  {
   "cell_type": "markdown",
   "metadata": {},
   "source": [
    "#### Confidence interval "
   ]
  },
  {
   "cell_type": "markdown",
   "metadata": {},
   "source": [
    "$$\n",
    "\\bar{X}-z_{\\alpha / 2}\\left(\\frac{\\sigma}{\\sqrt{n}}\\right)<\\mu<\\bar{X}+z_{\\alpha / 2}\\left(\\frac{\\sigma}{\\sqrt{n}}\\right)\\ where\n",
    "$$  $$\n",
    "\\boldsymbol{\\sigma}- standart\\ deviation \n",
    "$$ "
   ]
  },
  {
   "cell_type": "markdown",
   "metadata": {},
   "source": [
    "$$\n",
    "\\begin{array}{|l|l|}\n",
    "\\hline \\begin{array}{l}\n",
    "\\text { Confidence } \\\\\n",
    "\\text { Levels }\n",
    "\\end{array} & \\begin{array}{l}\n",
    "z \\text { -Critical } \\\\\n",
    "\\text { Values }\n",
    "\\end{array} \\\\\n",
    "\\hline 50 \\% & 0.674 \\\\\n",
    "\\hline 75 \\% & 1.150 \\\\\n",
    "\\hline 90 \\% & 1.645 \\\\\n",
    "\\hline 95 \\% & 1.960 \\\\\n",
    "\\hline 99 \\% & 2.575 \\\\\n",
    "\\hline 99.9 \\% & 3.291 \\\\\n",
    "\\hline\n",
    "\\end{array}\n",
    "$$"
   ]
  },
  {
   "cell_type": "code",
   "execution_count": 33,
   "metadata": {
    "collapsed": true
   },
   "outputs": [],
   "source": [
    "from scipy.stats import norm\n",
    "import numpy as np"
   ]
  },
  {
   "cell_type": "code",
   "execution_count": 34,
   "metadata": {},
   "outputs": [
    {
     "data": {
      "text/plain": [
       "1.959963984540054"
      ]
     },
     "execution_count": 34,
     "metadata": {},
     "output_type": "execute_result"
    }
   ],
   "source": [
    "norm.ppf(0.975) #95%"
   ]
  },
  {
   "cell_type": "code",
   "execution_count": 35,
   "metadata": {},
   "outputs": [
    {
     "data": {
      "text/plain": [
       "2.5758293035489004"
      ]
     },
     "execution_count": 35,
     "metadata": {},
     "output_type": "execute_result"
    }
   ],
   "source": [
    "norm.ppf(0.995) #99%"
   ]
  },
  {
   "cell_type": "code",
   "execution_count": 36,
   "metadata": {},
   "outputs": [
    {
     "data": {
      "text/plain": [
       "1.6448536269514722"
      ]
     },
     "execution_count": 36,
     "metadata": {},
     "output_type": "execute_result"
    }
   ],
   "source": [
    "norm.ppf(0.95) #90%"
   ]
  },
  {
   "cell_type": "code",
   "execution_count": 37,
   "metadata": {},
   "outputs": [
    {
     "name": "stdout",
     "output_type": "stream",
     "text": [
      "Confidence interval: (42.79585865241551, 44.72814134758449)\n"
     ]
    }
   ],
   "source": [
    "import numpy as np\n",
    "import scipy.stats as st\n",
    "\n",
    "#define sample data\n",
    "data = aposteri_samples\n",
    "\n",
    "#create 95% confidence interval for population mean weight\n",
    "con_int = st.t.interval(alpha=0.95, df=len(data)-1, loc=np.mean(data), scale=st.sem(data)) \n",
    "print('Confidence interval:', con_int)\n"
   ]
  },
  {
   "cell_type": "code",
   "execution_count": 38,
   "metadata": {},
   "outputs": [
    {
     "name": "stdout",
     "output_type": "stream",
     "text": [
      "Confidence interval: (42.49381337510908, 45.03018662489092)\n"
     ]
    }
   ],
   "source": [
    "#create 99% confidence interval for same sample\n",
    "conf_inter = st.norm.interval(alpha=0.99, loc=np.mean(data), scale=st.sem(data))\n",
    "print('Confidence interval:', conf_inter)"
   ]
  },
  {
   "cell_type": "code",
   "execution_count": 39,
   "metadata": {
    "collapsed": true
   },
   "outputs": [],
   "source": [
    "import numpy as np\n",
    "import scipy.stats\n",
    "\n",
    "\n",
    "def mean_confidence_interval(data, confidence=0.95):\n",
    "    a = 1.0 * np.array(data)\n",
    "    n = len(a)\n",
    "    m, se = np.mean(a), scipy.stats.sem(a)\n",
    "    h = se * scipy.stats.t.ppf((1 + confidence) / 2., n-1)\n",
    "    return m, h"
   ]
  },
  {
   "cell_type": "code",
   "execution_count": 40,
   "metadata": {},
   "outputs": [
    {
     "data": {
      "text/plain": [
       "Text(0.5, 1.0, 'Confidence interval')"
      ]
     },
     "execution_count": 40,
     "metadata": {},
     "output_type": "execute_result"
    },
    {
     "data": {
      "image/png": "[encoded data removed]",
      "text/plain": [
       "<Figure size 1440x1440 with 1 Axes>"
      ]
     },
     "metadata": {},
     "output_type": "display_data"
    }
   ],
   "source": [
    "import numpy as np\n",
    "import matplotlib.pyplot as plt\n",
    "\n",
    "\n",
    "\n",
    "plt.figure(figsize=(20, 20))\n",
    "mean, err = mean_confidence_interval(data=data)\n",
    "plt.axhline(mean, color='r')\n",
    "\n",
    "plt.errorbar(np.arange(len(aposteri_samples)), data, yerr=err, fmt='o')\n",
    "plt.xticks(ticks=None)\n",
    "plt.title(\"Confidence interval\")\n"
   ]
  },
  {
   "cell_type": "markdown",
   "metadata": {},
   "source": [
    "#### Вayesian credible interval"
   ]
  },
  {
   "cell_type": "code",
   "execution_count": 41,
   "metadata": {},
   "outputs": [
    {
     "name": "stdout",
     "output_type": "stream",
     "text": [
      "Mean is: Mean(statistic=43.762, minmax=(42.95141929471886, 44.57258070528114)) \n",
      " Variance is: Variance(statistic=242.88601404212636, minmax=(225.54744434912263, 261.33090080789253)) \n",
      " Std_dev is: Std_dev(statistic=15.580893304578325, minmax=(15.018237058627175, 16.16573230039062))\n"
     ]
    }
   ],
   "source": [
    "\n",
    "from scipy import stats\n",
    "data = aposteri_samples\n",
    "mean, var, std = stats.bayes_mvs(data)\n",
    "print('Mean is:', mean, '\\n', 'Variance is:', var, '\\n', 'Std_dev is:', std)\n"
   ]
  },
  {
   "cell_type": "code",
   "execution_count": 42,
   "metadata": {},
   "outputs": [
    {
     "data": {
      "image/png": "[encoded data removed]",
      "text/plain": [
       "<Figure size 432x288 with 1 Axes>"
      ]
     },
     "metadata": {},
     "output_type": "display_data"
    }
   ],
   "source": [
    "n_samples = 100000\n",
    "data = aposteri_samples\n",
    "res_mean, res_var, res_std = stats.bayes_mvs(data, alpha=0.95)\n",
    "\n",
    "import matplotlib.pyplot as plt\n",
    "fig = plt.figure()\n",
    "ax = fig.add_subplot(111)\n",
    "ax.hist(data, bins=100, density=True, label='Histogram of data')\n",
    "ax.vlines(res_mean.statistic, 0, 0.5, colors='r', label='Estimated mean')\n",
    "ax.axvspan(res_mean.minmax[0],res_mean.minmax[1], facecolor='r',\n",
    "           alpha=0.2, label=r'Estimated mean (95% limits)')\n",
    "ax.vlines(res_std.statistic, 0, 0.5, colors='g', label='Estimated scale')\n",
    "ax.axvspan(res_std.minmax[0],res_std.minmax[1], facecolor='g', alpha=0.2,\n",
    "           label=r'Estimated scale (95% limits)')\n",
    "\n",
    "ax.legend(fontsize=10)\n",
    "ax.set_xlim([0, 100])\n",
    "ax.set_ylim([0, 0.045])\n",
    "plt.show()"
   ]
  },
  {
   "cell_type": "markdown",
   "metadata": {
    "collapsed": true
   },
   "source": [
    "# 12. Build the Bayesian factor to test hypothesis H0: sample mean versus hypothesis H1: any other value (first try the parameter value with which you generated the sample)."
   ]
  },
  {
   "cell_type": "markdown",
   "metadata": {},
   "source": [
    "From the previous tasks: "
   ]
  },
  {
   "cell_type": "code",
   "execution_count": 49,
   "metadata": {},
   "outputs": [
    {
     "name": "stdout",
     "output_type": "stream",
     "text": [
      "alpha = 4.40214958893122 beta = 5.59785041106878\n"
     ]
    }
   ],
   "source": [
    "print('alpha =', alpha, 'beta =', beta)"
   ]
  },
  {
   "cell_type": "markdown",
   "metadata": {},
   "source": [
    "Let's suppose that:"
   ]
  },
  {
   "cell_type": "code",
   "execution_count": 98,
   "metadata": {
    "collapsed": true
   },
   "outputs": [],
   "source": [
    "#alternative\n",
    "alpha_1 = 10\n",
    "beta_1 = 1"
   ]
  },
  {
   "cell_type": "code",
   "execution_count": 103,
   "metadata": {
    "collapsed": true
   },
   "outputs": [],
   "source": [
    "priors = ((alpha, beta), (alpha_1, beta_1))"
   ]
  },
  {
   "cell_type": "code",
   "execution_count": 104,
   "metadata": {},
   "outputs": [
    {
     "data": {
      "image/png": "[encoded data removed]",
      "text/plain": [
       "<Figure size 432x288 with 1 Axes>"
      ]
     },
     "metadata": {},
     "output_type": "display_data"
    }
   ],
   "source": [
    "for a, b in priors:\n",
    "    distri = scipy.stats.beta(a, b)\n",
    "    x = np.linspace(0, 1, 300)\n",
    "    x_pdf = distri.pdf(x)\n",
    "    plt.plot(x, x_pdf, label=fr\"$\\alpha$ = {a:.3f}, $\\beta$ = {b:.3f}\")\n",
    "    plt.yticks([])\n",
    "    plt.xlabel(\"$\\\\theta$\")\n",
    "    plt.legend()"
   ]
  },
  {
   "cell_type": "code",
   "execution_count": 106,
   "metadata": {},
   "outputs": [
    {
     "name": "stdout",
     "output_type": "stream",
     "text": [
      "inf 0.0\n"
     ]
    },
    {
     "name": "stderr",
     "output_type": "stream",
     "text": [
      "/Users/beatrisa/anaconda/lib/python3.6/site-packages/ipykernel_launcher.py:4: RuntimeWarning: overflow encountered in exp\n",
      "  after removing the cwd from sys.path.\n"
     ]
    }
   ],
   "source": [
    "llh0 = betabinom.logpmf(data, n=new_n, a=priors[0][0], b=priors[0][1]).sum()\n",
    "llh1 = betabinom.logpmf(data, n=new_n, a=priors[1][0], b=priors[1][1]).sum()\n",
    "\n",
    "BF = np.exp(llh0-llh1)\n",
    "print(round(BF, 3), round(1/BF, 3))"
   ]
  },
  {
   "cell_type": "markdown",
   "metadata": {},
   "source": [
    "Instead of working with sample mean, which is a quite uncomfortable statistics to work with in case of beta-binomial distribution, I calculate sample Bayes factor for two pairs of parameters $\\alpha$ and $\\beta$. The result I obtained shows that the BF factor is very high and thus favors true parameters instead of fake. The illustration above shows, how different these two distributions are. "
   ]
  },
  {
   "cell_type": "code",
   "execution_count": null,
   "metadata": {
    "collapsed": true
   },
   "outputs": [],
   "source": []
  }
 ],
 "metadata": {
  "kernelspec": {
   "display_name": "Python 3",
   "language": "python",
   "name": "python3"
  },
  "language_info": {
   "codemirror_mode": {
    "name": "ipython",
    "version": 3
   },
   "file_extension": ".py",
   "mimetype": "text/x-python",
   "name": "python",
   "nbconvert_exporter": "python",
   "pygments_lexer": "ipython3",
   "version": "3.6.3"
  }
 },
 "nbformat": 4,
 "nbformat_minor": 2
}
