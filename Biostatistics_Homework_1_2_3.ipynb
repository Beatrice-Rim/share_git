{
 "cells": [
  {
   "cell_type": "markdown",
   "metadata": {},
   "source": [
    "# 1. Generate a sample from Poisson (Binomial, Gaussian) distribution \n"
   ]
  },
  {
   "cell_type": "code",
   "execution_count": 1,
   "metadata": {
    "collapsed": true
   },
   "outputs": [],
   "source": [
    "from scipy.stats import binom, poisson, norm\n",
    "\n",
    "import matplotlib.pyplot as plt\n",
    "import seaborn as sns\n",
    "%matplotlib inline\n",
    "import numpy as np\n",
    "\n",
    "\n",
    "def generate_samples(distribution, **kwargs):\n",
    "    return distribution.rvs(**kwargs)\n",
    "\n",
    "from statsmodels.stats.gof import gof_binning_discrete\n",
    "\n",
    "from scipy import stats\n"
   ]
  },
  {
   "cell_type": "markdown",
   "metadata": {},
   "source": [
    "# 2. Test the hypothesis that the parameter is equal to a given value. Take correct and incorrect values and compare the test results\n"
   ]
  },
  {
   "cell_type": "markdown",
   "metadata": {},
   "source": [
    "## Биномиальное распределение: проверка с истинным р "
   ]
  },
  {
   "cell_type": "code",
   "execution_count": 2,
   "metadata": {},
   "outputs": [
    {
     "name": "stdout",
     "output_type": "stream",
     "text": [
      "Test passed\n"
     ]
    },
    {
     "data": {
      "text/plain": [
       "(array([  2.,   4.,  10.,   9.,  24.,  19.,  67.,  47., 126.,  66., 157.,\n",
       "         76., 152.,  45.,  84.,  32.,  46.,  19.,  11.,   4.]),\n",
       " array([24. , 25.5, 27. , 28.5, 30. , 31.5, 33. , 34.5, 36. , 37.5, 39. ,\n",
       "        40.5, 42. , 43.5, 45. , 46.5, 48. , 49.5, 51. , 52.5, 54. ]),\n",
       " <BarContainer object of 20 artists>)"
      ]
     },
     "execution_count": 2,
     "metadata": {},
     "output_type": "execute_result"
    },
    {
     "data": {
      "image/png": "[encoded data removed]",
      "text/plain": [
       "<Figure size 432x288 with 1 Axes>"
      ]
     },
     "metadata": {},
     "output_type": "display_data"
    }
   ],
   "source": [
    "p = 0.4\n",
    "n = 100\n",
    "alpha = 0.05\n",
    "samples = generate_samples(binom, p=p, n=n, size=1000)\n",
    "\n",
    "freq, exp_freq, histsupp = gof_binning_discrete(samples, binom, (n, p))\n",
    "\n",
    "(chi_val, p_val) = stats.chisquare(freq, exp_freq)\n",
    "\n",
    "if p_val >= alpha:\n",
    "    print('Test passed')\n",
    "else:\n",
    "    print('Test failed')\n",
    "    \n",
    "plt.hist(samples, bins=20)"
   ]
  },
  {
   "cell_type": "markdown",
   "metadata": {},
   "source": [
    "##  Биномиальное распределение: проверка с p/2\n"
   ]
  },
  {
   "cell_type": "code",
   "execution_count": 3,
   "metadata": {},
   "outputs": [
    {
     "name": "stdout",
     "output_type": "stream",
     "text": [
      "Test failed\n"
     ]
    }
   ],
   "source": [
    "p = 0.4\n",
    "n = 100\n",
    "alpha = 0.05\n",
    "samples = generate_samples(binom, p=p, n=n, size=1000)\n",
    "\n",
    "freq, exp_freq, histsupp = gof_binning_discrete(samples, binom, (n, p/2))\n",
    "\n",
    "(chi_val, p_val) = stats.chisquare(freq, exp_freq)\n",
    "\n",
    "if p_val >= alpha:\n",
    "    print('Test passed')\n",
    "else:\n",
    "    print('Test failed')\n"
   ]
  },
  {
   "cell_type": "markdown",
   "metadata": {},
   "source": [
    "## Распределение Пуассона: проверка с истинным $\\mu$"
   ]
  },
  {
   "cell_type": "code",
   "execution_count": 4,
   "metadata": {},
   "outputs": [
    {
     "name": "stdout",
     "output_type": "stream",
     "text": [
      "Test passed\n"
     ]
    },
    {
     "data": {
      "text/plain": [
       "(array([674.,   0.,   0.,   0.,   0., 265.,   0.,   0.,   0.,   0.,  52.,\n",
       "          0.,   0.,   0.,   0.,   7.,   0.,   0.,   0.,   2.]),\n",
       " array([0. , 0.2, 0.4, 0.6, 0.8, 1. , 1.2, 1.4, 1.6, 1.8, 2. , 2.2, 2.4,\n",
       "        2.6, 2.8, 3. , 3.2, 3.4, 3.6, 3.8, 4. ]),\n",
       " <BarContainer object of 20 artists>)"
      ]
     },
     "execution_count": 4,
     "metadata": {},
     "output_type": "execute_result"
    },
    {
     "data": {
      "image/png": "[encoded data removed]",
      "text/plain": [
       "<Figure size 432x288 with 1 Axes>"
      ]
     },
     "metadata": {},
     "output_type": "display_data"
    }
   ],
   "source": [
    "mu = 0.4\n",
    "alpha = 0.05\n",
    "samples = generate_samples(poisson, mu=mu, size=1000)\n",
    "\n",
    "freq, exp_freq, histsupp = gof_binning_discrete(samples, poisson, (mu, ))\n",
    "\n",
    "(chi_val, p_val) = stats.chisquare(freq, exp_freq)\n",
    "\n",
    "if p_val >= alpha:\n",
    "    print('Test passed')\n",
    "else:\n",
    "    print('Test failed')\n",
    "plt.hist(samples, bins=20)"
   ]
  },
  {
   "cell_type": "markdown",
   "metadata": {},
   "source": [
    "## Распределение Пуассона: проверка с $\\frac{\\mu}{2}$"
   ]
  },
  {
   "cell_type": "code",
   "execution_count": 5,
   "metadata": {},
   "outputs": [
    {
     "name": "stdout",
     "output_type": "stream",
     "text": [
      "Test failed\n"
     ]
    }
   ],
   "source": [
    "mu = 0.4\n",
    "alpha = 0.05\n",
    "samples = generate_samples(poisson, mu=mu, size=1000)\n",
    "\n",
    "freq, exp_freq, histsupp = gof_binning_discrete(samples, poisson, (mu/2, ))\n",
    "\n",
    "(chi_val, p_val) = stats.chisquare(freq, exp_freq)\n",
    "\n",
    "if p_val >= alpha:\n",
    "    print('Test passed')\n",
    "else:\n",
    "    print('Test failed')"
   ]
  },
  {
   "cell_type": "markdown",
   "metadata": {},
   "source": [
    "## Нормальное распределение: проверка с истинными значением среднего"
   ]
  },
  {
   "cell_type": "code",
   "execution_count": 6,
   "metadata": {},
   "outputs": [
    {
     "name": "stdout",
     "output_type": "stream",
     "text": [
      "Test passed\n"
     ]
    },
    {
     "data": {
      "text/plain": [
       "(array([  5.,   8.,   9.,  10.,  31.,  39.,  63., 104., 111., 127., 106.,\n",
       "         95., 106.,  71.,  58.,  29.,   9.,  11.,   4.,   4.]),\n",
       " array([-5.3587547 , -4.72569135, -4.092628  , -3.45956466, -2.82650131,\n",
       "        -2.19343797, -1.56037462, -0.92731127, -0.29424793,  0.33881542,\n",
       "         0.97187876,  1.60494211,  2.23800545,  2.8710688 ,  3.50413215,\n",
       "         4.13719549,  4.77025884,  5.40332218,  6.03638553,  6.66944888,\n",
       "         7.30251222]),\n",
       " <BarContainer object of 20 artists>)"
      ]
     },
     "execution_count": 6,
     "metadata": {},
     "output_type": "execute_result"
    },
    {
     "data": {
      "image/png": "[encoded data removed]",
      "text/plain": [
       "<Figure size 432x288 with 1 Axes>"
      ]
     },
     "metadata": {},
     "output_type": "display_data"
    }
   ],
   "source": [
    "loc = 1\n",
    "scale = 2\n",
    "samples = generate_samples(norm, loc=loc, scale=scale, size=1000)\n",
    "\n",
    "freq, exp_freq, histsupp = gof_binning_discrete(samples, norm, (loc, scale))\n",
    "\n",
    "(chi_val, p_val) = stats.chisquare(freq, exp_freq)\n",
    "\n",
    "if p_val >= alpha:\n",
    "    print('Test passed')\n",
    "else:\n",
    "    print('Test failed')\n",
    "plt.hist(samples, bins=20)"
   ]
  },
  {
   "cell_type": "markdown",
   "metadata": {},
   "source": [
    "## Нормальное распределение: проверка со значением среднего в два раза меньше истинного"
   ]
  },
  {
   "cell_type": "code",
   "execution_count": 7,
   "metadata": {},
   "outputs": [
    {
     "name": "stdout",
     "output_type": "stream",
     "text": [
      "Test failed\n"
     ]
    }
   ],
   "source": [
    "loc = 1\n",
    "scale = 2\n",
    "samples = generate_samples(norm, loc=loc, scale=scale, size=1000)\n",
    "\n",
    "freq, exp_freq, histsupp = gof_binning_discrete(samples, norm, (loc/2, scale))\n",
    "\n",
    "(chi_val, p_val) = stats.chisquare(freq, exp_freq)\n",
    "\n",
    "if p_val >= alpha:\n",
    "    print('Test passed')\n",
    "else:\n",
    "    print('Test failed')"
   ]
  },
  {
   "cell_type": "markdown",
   "metadata": {},
   "source": [
    "## Функция лог-правдоподобия (без логарифма маленькие значения, меньше машинной точности)"
   ]
  },
  {
   "cell_type": "code",
   "execution_count": 8,
   "metadata": {
    "collapsed": true
   },
   "outputs": [],
   "source": [
    "def norm_likelihood(loc=loc, scale=scale, samples=samples):\n",
    "    return np.log(norm.pdf(samples, loc=loc, scale=scale)).sum()"
   ]
  },
  {
   "cell_type": "code",
   "execution_count": 9,
   "metadata": {},
   "outputs": [
    {
     "data": {
      "text/plain": [
       "-19.72344679801595"
      ]
     },
     "execution_count": 9,
     "metadata": {},
     "output_type": "execute_result"
    }
   ],
   "source": [
    "norm_likelihood(loc=loc, scale=scale, samples=samples[:10])"
   ]
  },
  {
   "cell_type": "markdown",
   "metadata": {},
   "source": [
    "# 3. Construct the likelihood function and find the maximum likelihood estimate (MLE) ofthe parameter (for Gaussian only)\n"
   ]
  },
  {
   "cell_type": "markdown",
   "metadata": {},
   "source": [
    "## Оценка MLE для среднего"
   ]
  },
  {
   "cell_type": "code",
   "execution_count": 10,
   "metadata": {
    "collapsed": true
   },
   "outputs": [],
   "source": [
    "from scipy.optimize import minimize"
   ]
  },
  {
   "cell_type": "code",
   "execution_count": 11,
   "metadata": {
    "collapsed": true
   },
   "outputs": [],
   "source": [
    "def neg_likelihood(*args, **kwargs):\n",
    "    return -norm_likelihood(*args, **kwargs)"
   ]
  },
  {
   "cell_type": "code",
   "execution_count": 12,
   "metadata": {},
   "outputs": [
    {
     "data": {
      "text/plain": [
       "      fun: 18.954159040125788\n",
       " hess_inv: array([[1]])\n",
       "      jac: array([4.76837158e-07])\n",
       "  message: 'Optimization terminated successfully.'\n",
       "     nfev: 6\n",
       "      nit: 1\n",
       "     njev: 3\n",
       "   status: 0\n",
       "  success: True\n",
       "        x: array([0.21550642])"
      ]
     },
     "execution_count": 12,
     "metadata": {},
     "output_type": "execute_result"
    }
   ],
   "source": [
    "from functools import partial\n",
    "minimize(partial(neg_likelihood, samples=samples[:10], scale=scale), x0=0.5)"
   ]
  },
  {
   "cell_type": "markdown",
   "metadata": {
    "collapsed": true
   },
   "source": [
    "# 4. Construct the prior distribution (gamma, Gaussian, beta) from this sample\n"
   ]
  },
  {
   "cell_type": "code",
   "execution_count": 65,
   "metadata": {
    "collapsed": true
   },
   "outputs": [],
   "source": [
    "from scipy.stats import beta, binom"
   ]
  },
  {
   "cell_type": "code",
   "execution_count": 66,
   "metadata": {
    "collapsed": true
   },
   "outputs": [],
   "source": [
    "p = 0.4\n",
    "n = 100\n",
    "size = 1000\n",
    "samples = generate_samples(binom, p=p, n=n, size=size)"
   ]
  },
  {
   "cell_type": "code",
   "execution_count": 67,
   "metadata": {},
   "outputs": [
    {
     "data": {
      "text/plain": [
       "(array([  7.,  30.,  57., 160., 134., 246., 192., 108.,  49.,  17.]),\n",
       " array([25. , 27.8, 30.6, 33.4, 36.2, 39. , 41.8, 44.6, 47.4, 50.2, 53. ]),\n",
       " <BarContainer object of 10 artists>)"
      ]
     },
     "execution_count": 67,
     "metadata": {},
     "output_type": "execute_result"
    },
    {
     "data": {
      "image/png": "[encoded data removed]",
      "text/plain": [
       "<Figure size 432x288 with 1 Axes>"
      ]
     },
     "metadata": {},
     "output_type": "display_data"
    }
   ],
   "source": [
    "plt.hist(samples)"
   ]
  },
  {
   "cell_type": "markdown",
   "metadata": {},
   "source": [
    "$$\\mathbb{E}\\left[x\\right] = np$$\n",
    "$$\\mathbb{V}\\left[x\\right] = np(1-p)$$\n",
    "$$1-p = \\frac{\\overline{\\sigma}}{\\overline{\\mu}} \\quad \\Rightarrow \\quad p = 1 -  \\frac{\\overline{\\sigma}}{\\overline{\\mu}}$$\n",
    "$$n = \\dfrac{\\overline{\\mu}}{1 - \\frac{\\overline{\\sigma}}{\\overline{\\mu}}}$$"
   ]
  },
  {
   "cell_type": "markdown",
   "metadata": {},
   "source": [
    "$$\\mathbb{E}(p) = \\dfrac{\\alpha}{\\alpha + \\beta} = 1 -  \\frac{\\overline{\\sigma}}{\\overline{\\mu}}$$\n",
    "Возьмем в качестве $\\beta = y - \\alpha,\\ \\alpha = py $. Если $y = 1$, то $\\alpha = p, \\quad \\beta = 1 - p$.\n",
    "\n"
   ]
  },
  {
   "cell_type": "code",
   "execution_count": 68,
   "metadata": {
    "collapsed": true
   },
   "outputs": [],
   "source": [
    "scaling_factor = 10\n",
    "alpha = scaling_factor*(1 - samples.var()/samples.mean())\n",
    "beta = scaling_factor - alpha"
   ]
  },
  {
   "cell_type": "markdown",
   "metadata": {},
   "source": [
    "# 5. Generate a sample from Poisson (Gaussian, binomial) distribution (of a different size and with a different parameter value)"
   ]
  },
  {
   "cell_type": "code",
   "execution_count": 69,
   "metadata": {
    "collapsed": true
   },
   "outputs": [],
   "source": [
    "new_p = 0.2\n",
    "new_n = 100\n",
    "new_size = 1000\n",
    "new_samples = generate_samples(binom, p=new_p, n=new_n, size=new_size)"
   ]
  },
  {
   "cell_type": "markdown",
   "metadata": {},
   "source": [
    "# 6. Construct the likelihood function and find the maximum likelihood estimate (MLE) of the parameter "
   ]
  },
  {
   "cell_type": "code",
   "execution_count": 70,
   "metadata": {
    "collapsed": true
   },
   "outputs": [],
   "source": [
    "def likelihood(p, n=n, samples=samples):\n",
    "    return np.prod(binom.pmf(samples, p=p, n=n))"
   ]
  },
  {
   "cell_type": "markdown",
   "metadata": {},
   "source": [
    "Правдоподобие такое же, как у $N\\cdot n$ испытаний Бернулли\n",
    "$$L(p;x)= C(n, x) p^x(1-p)^{Nn-\\sum x}$$\n",
    "$$p_{MLE} = \\frac{\\sum x}{N\\cdot n}$$"
   ]
  },
  {
   "cell_type": "code",
   "execution_count": 71,
   "metadata": {},
   "outputs": [
    {
     "name": "stdout",
     "output_type": "stream",
     "text": [
      "0.20132000000000003\n"
     ]
    }
   ],
   "source": [
    "new_p_mle = new_samples.mean()/new_n\n",
    "print(new_p_mle)"
   ]
  },
  {
   "cell_type": "markdown",
   "metadata": {},
   "source": [
    "# 7. Construct from the prior and likelihood the posterior distribution (gamma, Gaussian, beta)."
   ]
  },
  {
   "cell_type": "code",
   "execution_count": 72,
   "metadata": {
    "collapsed": true
   },
   "outputs": [],
   "source": [
    "from functools import partial\n",
    "def approx_aposteriori(p, n, samples):\n",
    "    return likelihood(p, n, samples=samples)*beta.pmf(p, alpha=alpha, beta=beta)"
   ]
  },
  {
   "cell_type": "markdown",
   "metadata": {},
   "source": [
    "$$f(x|n, \\alpha, \\beta) = \\int_0^1 L(p;x) \\pi(p|\\alpha, \\beta) dp = {n\\choose k} \\dfrac{B(x + \\alpha, n - x + \\beta)}{B(\\alpha, \\beta)}$$\n",
    "\n",
    "https://en.wikipedia.org/wiki/Beta-binomial_distribution"
   ]
  },
  {
   "cell_type": "code",
   "execution_count": 73,
   "metadata": {
    "collapsed": true
   },
   "outputs": [],
   "source": [
    "from scipy.stats import betabinom"
   ]
  },
  {
   "cell_type": "markdown",
   "metadata": {},
   "source": [
    "# 8. Construct a histogram of the posterior and compare with the histogram of its Gaussian approximation"
   ]
  },
  {
   "cell_type": "code",
   "execution_count": 74,
   "metadata": {},
   "outputs": [
    {
     "name": "stdout",
     "output_type": "stream",
     "text": [
      "3.8069043434597027\n",
      "6.193095656540297\n"
     ]
    },
    {
     "data": {
      "image/png": "[encoded data removed]",
      "text/plain": [
       "<Figure size 432x288 with 1 Axes>"
      ]
     },
     "metadata": {},
     "output_type": "display_data"
    }
   ],
   "source": [
    "aposteri_samples = generate_samples(betabinom, n=new_n, a=alpha, b=beta, size=new_size)\n",
    "plt.hist(aposteri_samples)\n",
    "print(alpha)\n",
    "print(beta)"
   ]
  },
  {
   "cell_type": "code",
   "execution_count": null,
   "metadata": {
    "collapsed": true
   },
   "outputs": [],
   "source": [
    "#TODO Gaussian approximation"
   ]
  },
  {
   "cell_type": "markdown",
   "metadata": {},
   "source": [
    "# 9. Generate a sample from posterior"
   ]
  },
  {
   "cell_type": "code",
   "execution_count": 75,
   "metadata": {
    "scrolled": true
   },
   "outputs": [
    {
     "data": {
      "text/plain": [
       "array([40, 13, 34, 34, 58, 39, 23, 46, 38, 28, 39, 49, 27, 55, 41, 19, 62,\n",
       "       57, 28, 70, 18, 15, 51, 29, 26, 30, 28, 72, 23, 59, 17, 64, 47, 56,\n",
       "       35, 43, 45, 32, 33, 41, 36, 27, 66, 11, 31, 20, 67, 17, 26, 40, 29,\n",
       "       55, 50, 32, 45, 53, 17,  8, 36, 37, 37, 23, 14, 17, 17, 56, 34, 52,\n",
       "       35, 52, 43, 33, 73, 34, 23, 31, 10, 13, 59, 32, 35, 11, 43, 26, 35,\n",
       "       57, 19, 25, 20, 32, 30, 40, 19, 67, 39, 36, 27, 35, 42, 47, 60, 30,\n",
       "       36, 31, 29, 22, 21, 51, 49, 47, 50, 14, 28, 42, 35, 37, 53, 21, 63,\n",
       "       43, 20, 40, 27, 19, 28, 16, 43, 24, 55, 40, 29, 21, 39, 45, 23, 40,\n",
       "       33, 17, 54, 37, 16, 45, 22, 30, 25, 44, 17, 18, 31, 29, 36, 37, 34,\n",
       "       26, 60, 44, 32, 39, 32, 48, 33, 14, 38, 47, 29, 46, 36, 12, 44, 38,\n",
       "       43, 38, 25, 36, 35, 24, 49, 42, 51, 22, 52, 35, 42, 19, 48, 45, 54,\n",
       "       48, 25, 67, 19, 34, 13, 34, 35, 28, 27, 34, 21, 13, 30, 41, 36, 39,\n",
       "       41, 48, 21, 26, 15, 19, 43, 48, 33, 40, 29, 28, 48, 38, 55, 37, 44,\n",
       "       57, 31, 31, 34, 39, 21, 44, 55, 65, 42, 24, 33, 36, 57, 54, 69, 29,\n",
       "       19, 43, 34, 46, 44, 38, 37, 53, 28, 26, 32, 48, 53, 50, 38, 56, 22,\n",
       "       77, 46, 41, 25, 49, 53, 56, 23, 37, 14, 25, 32, 31, 35, 54, 18, 47,\n",
       "       57, 20, 39, 48, 43, 64, 43, 62, 21, 39, 35, 32, 42, 36, 52, 34, 47,\n",
       "       26, 17, 69, 18, 48, 45, 36, 28, 43, 30, 52,  4, 21, 54, 47, 20, 30,\n",
       "       52, 51, 48, 39, 11, 34, 17, 52, 46, 66, 49, 42, 39, 27, 59, 22, 30,\n",
       "       14, 50, 29, 55, 19, 42, 25, 19, 41, 45, 40, 32, 69, 50, 46, 64, 24,\n",
       "       38, 43, 36, 45, 31, 77, 34, 27, 59, 56, 46, 13, 43, 29, 65, 29, 61,\n",
       "       18, 44, 50, 46, 51, 52, 52, 22, 30, 54, 43, 36, 48, 26, 39, 44, 18,\n",
       "       40, 42, 17, 43, 36, 22, 42, 34, 49, 53, 51, 74, 32, 50, 35, 48, 75,\n",
       "       24, 33, 56, 30, 79, 83, 29, 33, 50, 35, 55, 50, 39, 24, 62, 25, 12,\n",
       "       20, 28,  8, 18, 60, 50, 28, 47, 59, 49, 31, 38, 15, 43, 54, 39, 76,\n",
       "       15, 43, 59, 50, 43, 24, 55, 40, 42, 55, 45, 27, 43, 35, 37, 16, 45,\n",
       "       62, 16, 26, 62, 47, 70, 52, 48, 70, 42, 49, 28, 11, 46, 53, 37, 37,\n",
       "       14, 31, 49, 67, 56, 39, 44, 17, 58, 53, 40, 29, 14, 26, 24, 24, 25,\n",
       "       46, 51, 34, 56, 50, 27, 57, 29, 19, 31, 25, 12, 43, 37, 26, 13, 26,\n",
       "       52, 67, 38, 58, 54, 37, 53,  4, 25, 27, 27, 50, 44, 19, 60, 12, 64,\n",
       "       20, 24, 36, 43, 17, 32, 47, 61, 22, 45, 31, 51, 16, 45, 25, 64, 47,\n",
       "       49, 21, 54, 50, 27, 60, 46, 26, 18, 34, 35, 63, 51, 68, 49, 51, 46,\n",
       "       39, 42, 76, 24, 29, 61, 55, 22, 40, 49, 17, 56, 30, 31, 36, 67, 19,\n",
       "       34, 54, 59, 16, 16, 17, 36, 38, 43, 32, 36, 24, 36, 31, 47, 28, 26,\n",
       "       46, 70, 22, 16, 37, 63, 56, 17, 72, 31, 52, 16, 30, 34, 25, 67, 51,\n",
       "       31, 19, 23, 22, 27, 57, 45, 27, 15, 45, 48, 31, 55, 56, 32, 51, 47,\n",
       "       67, 36, 56, 61, 37, 47, 32, 35, 40, 46, 42, 38, 29, 42, 35, 50, 33,\n",
       "       12,  9, 21, 51, 32, 17, 77, 19, 28, 19, 41, 53, 20, 35, 32, 18, 38,\n",
       "       43, 56, 48, 36, 23, 15, 37, 37, 46, 55, 39, 45, 28, 50, 33, 63, 35,\n",
       "       17, 23, 38, 69, 24, 25, 24, 74, 30, 40, 66, 45, 29, 16, 67, 45, 34,\n",
       "       52, 35, 66, 34, 54, 13, 41, 57, 32, 11, 26, 19, 46, 49, 41,  9, 32,\n",
       "       45, 19, 19, 39, 26, 20, 64, 39, 35, 25, 48, 11, 39, 38, 26, 24, 22,\n",
       "       43, 35, 30, 62, 53, 31, 69, 11, 38, 33, 20, 29, 28, 40, 46, 18, 26,\n",
       "       17, 23, 53, 35, 29, 31, 71, 54, 49, 18, 34, 45, 60, 32, 43, 67, 49,\n",
       "       37, 61, 24, 28, 26, 14, 15, 48, 59, 46, 29, 29, 28, 42, 35, 28, 21,\n",
       "       32, 47, 42, 33, 43, 18, 25, 56, 13, 33, 39, 37, 36, 26, 46, 45, 39,\n",
       "       24, 38, 23, 14, 28, 19, 11, 42, 28, 14, 65, 25, 23, 21, 60, 32, 38,\n",
       "       61, 45, 32, 39, 61, 58, 63, 33, 40, 54, 68, 35, 37, 44, 29, 36, 42,\n",
       "       60, 52, 56, 29, 49, 13, 49, 58, 41, 60, 21, 40, 54, 84, 32, 80, 38,\n",
       "       52, 40, 42, 44, 30, 27, 16, 18, 51, 66, 32, 37, 29, 10, 59, 31, 29,\n",
       "       17, 43, 28, 45, 36, 20, 34, 19, 72, 35, 65, 56, 43, 47, 34, 30, 68,\n",
       "       59, 18, 23, 40, 39, 38, 62, 41, 20, 25, 34, 38, 36, 39, 50, 39, 22,\n",
       "       46, 48, 27, 25, 32, 31, 71, 62, 25, 40, 50, 45, 52, 30, 47, 24, 62,\n",
       "       56, 32, 36, 39, 33, 53, 63, 59, 41, 56, 29, 61, 18, 11, 27, 40, 25,\n",
       "       30, 25, 67, 38, 24, 36, 53, 59, 12, 23, 34, 35, 33, 66, 39, 15, 59,\n",
       "       35, 42, 34, 34, 34, 18, 13, 29, 22, 30, 41, 29, 72, 20, 57, 53, 28,\n",
       "       42, 46, 35, 18, 30, 72, 24, 27, 21, 54, 46, 17, 46, 67, 53, 34, 48,\n",
       "       22, 47, 29, 49, 36, 23, 21, 39, 68, 42, 64, 29, 64, 38, 59, 31, 31,\n",
       "       36, 29, 60, 47, 44, 54, 32, 57, 29, 44, 61, 15, 39, 63])"
      ]
     },
     "execution_count": 75,
     "metadata": {},
     "output_type": "execute_result"
    }
   ],
   "source": [
    "aposteri_samples\n"
   ]
  },
  {
   "cell_type": "markdown",
   "metadata": {
    "collapsed": true
   },
   "source": [
    "# 10. Find theoretical and sample posterior mean, median, variance, and st. deviation of the parameter.\n"
   ]
  },
  {
   "cell_type": "code",
   "execution_count": 76,
   "metadata": {
    "collapsed": true
   },
   "outputs": [],
   "source": [
    "import numpy as np"
   ]
  },
  {
   "cell_type": "markdown",
   "metadata": {
    "collapsed": true
   },
   "source": [
    "### Posterior mean"
   ]
  },
  {
   "cell_type": "markdown",
   "metadata": {},
   "source": [
    "$$\n",
    "\\bar{\\theta}=\\int \\theta p(\\theta \\mid \\boldsymbol{y}) d \\theta\n",
    "$$\n",
    "where\n",
    "$$\n",
    "p(\\theta \\mid y) \\equiv p(\\theta \\mid \\bar{y})=\\frac{\\beta^{\\bar{\\alpha}}}{\\Gamma(\\bar{\\alpha})} \\theta^{\\bar{\\alpha}-1} \\mathrm{e}^{-\\bar{\\beta} \\theta}\n",
    "$$\n",
    "$$\n",
    "\\bar{\\theta}=\\frac{1}{B(\\bar{\\alpha}, \\bar{\\beta})} \\int_{0}^{1} \\theta \\theta^{\\bar{\\alpha}-1}(1-\\theta)^{\\bar{\\beta}-1} d \\theta\n",
    "$$\n",
    "\n",
    "$$\n",
    "for\\ beta-binomial\\ distribution\\ mean\\ is\\ \\frac{n \\alpha}{\\alpha+\\beta}\n",
    "$$"
   ]
  },
  {
   "cell_type": "code",
   "execution_count": 93,
   "metadata": {},
   "outputs": [
    {
     "name": "stdout",
     "output_type": "stream",
     "text": [
      "38.06904343459703 38.295\n"
     ]
    }
   ],
   "source": [
    "theta = n*alpha/(alpha + beta)\n",
    "aposteri_samples_mean = np.mean(aposteri_samples)\n",
    "print(theta, aposteri_samples_mean )"
   ]
  },
  {
   "cell_type": "markdown",
   "metadata": {},
   "source": [
    "### Posterior median "
   ]
  },
  {
   "cell_type": "markdown",
   "metadata": {},
   "source": [
    "$$\n",
    "0.5=\\int_{\\theta_{M}}^{1} p(\\theta \\mid y) d \\theta\n",
    "$$\n"
   ]
  },
  {
   "cell_type": "code",
   "execution_count": 86,
   "metadata": {},
   "outputs": [
    {
     "name": "stdout",
     "output_type": "stream",
     "text": [
      "40.0 37.0\n"
     ]
    }
   ],
   "source": [
    "aposteri_samples_median = np.median(aposteri_samples)\n",
    "samples_median = np.median(samples)\n",
    "print(samples_median, aposteri_samples_median)\n"
   ]
  },
  {
   "cell_type": "markdown",
   "metadata": {},
   "source": [
    "### Variance"
   ]
  },
  {
   "cell_type": "markdown",
   "metadata": {},
   "source": [
    "$$\n",
    "\\bar{\\sigma}^{2}=\\int(\\theta-\\bar{\\theta})^{2} p(\\theta \\mid y) d \\theta\n",
    "$$\n",
    "$$\n",
    "\\frac{1}{B(\\bar{\\alpha}, \\bar{\\beta})} \\int_{0}^{1} \\theta^{2} \\theta^{\\bar{\\alpha}-1}(1-\\theta)^{\\bar{\\beta}-1} d \\theta\n",
    "$$\n",
    "\n",
    "$$\n",
    "\\frac{n \\alpha \\beta(\\alpha+\\beta+n)}{(\\alpha+\\beta)^{2}(\\alpha+\\beta+1)}\n",
    "$$\n"
   ]
  },
  {
   "cell_type": "code",
   "execution_count": 104,
   "metadata": {},
   "outputs": [
    {
     "name": "stdout",
     "output_type": "stream",
     "text": [
      "235.7652275434468 231.06997499999997\n"
     ]
    }
   ],
   "source": [
    "samples_var = n*alpha*beta*(alpha + beta + n)/((alpha + beta + 1)*(alpha + beta)**2) #theoretical\n",
    "aposteri_samples_var = np.var(aposteri_samples) \n",
    "print(sigma,aposteri_samples_var)"
   ]
  },
  {
   "cell_type": "markdown",
   "metadata": {},
   "source": [
    "### Standart deviation"
   ]
  },
  {
   "cell_type": "code",
   "execution_count": 105,
   "metadata": {},
   "outputs": [
    {
     "data": {
      "text/plain": [
       "(4.966598433535774, 15.200985987757504)"
      ]
     },
     "execution_count": 105,
     "metadata": {},
     "output_type": "execute_result"
    }
   ],
   "source": [
    "samples_std, aposteri_samples_std = np.std(samples), np.std(aposteri_samples)\n",
    "\n",
    "samples_std, aposteri_samples_std"
   ]
  },
  {
   "cell_type": "markdown",
   "metadata": {},
   "source": [
    "# 11. Plot the confidence interval and Bayesian (credible) interval for the parameter mean."
   ]
  },
  {
   "cell_type": "markdown",
   "metadata": {},
   "source": [
    "#### Confidence interval "
   ]
  },
  {
   "cell_type": "markdown",
   "metadata": {},
   "source": [
    "$$\n",
    "\\bar{X}-z_{\\alpha / 2}\\left(\\frac{\\sigma}{\\sqrt{n}}\\right)<\\mu<\\bar{X}+z_{\\alpha / 2}\\left(\\frac{\\sigma}{\\sqrt{n}}\\right)\\ where\n",
    "$$  $$\n",
    "\\boldsymbol{\\sigma}- standart\\ deviation \n",
    "$$ "
   ]
  },
  {
   "cell_type": "markdown",
   "metadata": {},
   "source": [
    "$$\n",
    "\\begin{array}{|l|l|}\n",
    "\\hline \\begin{array}{l}\n",
    "\\text { Confidence } \\\\\n",
    "\\text { Levels }\n",
    "\\end{array} & \\begin{array}{l}\n",
    "z \\text { -Critical } \\\\\n",
    "\\text { Values }\n",
    "\\end{array} \\\\\n",
    "\\hline 50 \\% & 0.674 \\\\\n",
    "\\hline 75 \\% & 1.150 \\\\\n",
    "\\hline 90 \\% & 1.645 \\\\\n",
    "\\hline 95 \\% & 1.960 \\\\\n",
    "\\hline 99 \\% & 2.575 \\\\\n",
    "\\hline 99.9 \\% & 3.291 \\\\\n",
    "\\hline\n",
    "\\end{array}\n",
    "$$"
   ]
  },
  {
   "cell_type": "code",
   "execution_count": 29,
   "metadata": {
    "collapsed": true
   },
   "outputs": [],
   "source": [
    "from scipy.stats import norm\n",
    "import numpy as np"
   ]
  },
  {
   "cell_type": "code",
   "execution_count": 30,
   "metadata": {},
   "outputs": [
    {
     "data": {
      "text/plain": [
       "1.959963984540054"
      ]
     },
     "execution_count": 30,
     "metadata": {},
     "output_type": "execute_result"
    }
   ],
   "source": [
    "norm.ppf(0.975) #95%"
   ]
  },
  {
   "cell_type": "code",
   "execution_count": 31,
   "metadata": {},
   "outputs": [
    {
     "data": {
      "text/plain": [
       "2.5758293035489004"
      ]
     },
     "execution_count": 31,
     "metadata": {},
     "output_type": "execute_result"
    }
   ],
   "source": [
    "norm.ppf(0.995) #99%"
   ]
  },
  {
   "cell_type": "code",
   "execution_count": 32,
   "metadata": {},
   "outputs": [
    {
     "data": {
      "text/plain": [
       "1.6448536269514722"
      ]
     },
     "execution_count": 32,
     "metadata": {},
     "output_type": "execute_result"
    }
   ],
   "source": [
    "norm.ppf(0.95) #90%"
   ]
  },
  {
   "cell_type": "code",
   "execution_count": 121,
   "metadata": {},
   "outputs": [
    {
     "name": "stdout",
     "output_type": "stream",
     "text": [
      "Confidence interval: (37.35123559285351, 39.23876440714649)\n"
     ]
    }
   ],
   "source": [
    "import numpy as np\n",
    "import scipy.stats as st\n",
    "\n",
    "#define sample data\n",
    "data = aposteri_samples\n",
    "\n",
    "#create 95% confidence interval for population mean weight\n",
    "con_int = st.t.interval(alpha=0.95, df=len(data)-1, loc=np.mean(data), scale=st.sem(data)) \n",
    "print('Confidence interval:', con_int)\n"
   ]
  },
  {
   "cell_type": "code",
   "execution_count": 122,
   "metadata": {},
   "outputs": [
    {
     "name": "stdout",
     "output_type": "stream",
     "text": [
      "Confidence interval: (37.0561860301977, 39.5338139698023)\n"
     ]
    }
   ],
   "source": [
    "#create 99% confidence interval for same sample\n",
    "conf_inter = st.norm.interval(alpha=0.99, loc=np.mean(data), scale=st.sem(data))\n",
    "print('Confidence interval:', conf_inter)"
   ]
  },
  {
   "cell_type": "code",
   "execution_count": 123,
   "metadata": {},
   "outputs": [],
   "source": [
    "import numpy as np\n",
    "import scipy.stats\n",
    "\n",
    "\n",
    "def mean_confidence_interval(data, confidence=0.95):\n",
    "    a = 1.0 * np.array(data)\n",
    "    n = len(a)\n",
    "    m, se = np.mean(a), scipy.stats.sem(a)\n",
    "    h = se * scipy.stats.t.ppf((1 + confidence) / 2., n-1)\n",
    "    return m, h"
   ]
  },
  {
   "cell_type": "code",
   "execution_count": 124,
   "metadata": {},
   "outputs": [
    {
     "data": {
      "text/plain": [
       "Text(0.5, 1.0, 'Confidence interval')"
      ]
     },
     "execution_count": 124,
     "metadata": {},
     "output_type": "execute_result"
    },
    {
     "data": {
      "image/png": "[encoded data removed]",
      "text/plain": [
       "<Figure size 1440x1440 with 1 Axes>"
      ]
     },
     "metadata": {},
     "output_type": "display_data"
    }
   ],
   "source": [
    "import numpy as np\n",
    "import matplotlib.pyplot as plt\n",
    "\n",
    "\n",
    "\n",
    "plt.figure(figsize=(20, 20))\n",
    "mean, err = mean_confidence_interval(data=data)\n",
    "plt.axhline(mean, color='r')\n",
    "\n",
    "plt.errorbar(np.arange(len(aposteri_samples)), data, yerr=err, fmt='o')\n",
    "plt.xticks(ticks=None)\n",
    "plt.title(\"Confidence interval\")\n"
   ]
  },
  {
   "cell_type": "markdown",
   "metadata": {},
   "source": [
    "#### Вayesian credible interval"
   ]
  },
  {
   "cell_type": "code",
   "execution_count": 125,
   "metadata": {},
   "outputs": [
    {
     "name": "stdout",
     "output_type": "stream",
     "text": [
      "Mean is: Mean(statistic=38.295, minmax=(37.5031932724682, 39.0868067275318)) \n",
      " Variance is: Variance(statistic=231.76527081243728, minmax=(215.2205623151322, 249.3656427121182)) \n",
      " Std_dev is: Std_dev(statistic=15.220021965908114, minmax=(14.67039748320175, 15.7913154205759))\n"
     ]
    }
   ],
   "source": [
    "\n",
    "from scipy import stats\n",
    "data = aposteri_samples\n",
    "mean, var, std = stats.bayes_mvs(data)\n",
    "print('Mean is:', mean, '\\n', 'Variance is:', var, '\\n', 'Std_dev is:', std)\n"
   ]
  },
  {
   "cell_type": "code",
   "execution_count": 128,
   "metadata": {},
   "outputs": [
    {
     "data": {
      "image/png": "[encoded data removed]",
      "text/plain": [
       "<Figure size 432x288 with 1 Axes>"
      ]
     },
     "metadata": {},
     "output_type": "display_data"
    }
   ],
   "source": [
    "n_samples = 100000\n",
    "data = aposteri_samples\n",
    "res_mean, res_var, res_std = stats.bayes_mvs(data, alpha=0.95)\n",
    "\n",
    "import matplotlib.pyplot as plt\n",
    "fig = plt.figure()\n",
    "ax = fig.add_subplot(111)\n",
    "ax.hist(data, bins=100, density=True, label='Histogram of data')\n",
    "ax.vlines(res_mean.statistic, 0, 0.5, colors='r', label='Estimated mean')\n",
    "ax.axvspan(res_mean.minmax[0],res_mean.minmax[1], facecolor='r',\n",
    "           alpha=0.2, label=r'Estimated mean (95% limits)')\n",
    "ax.vlines(res_std.statistic, 0, 0.5, colors='g', label='Estimated scale')\n",
    "ax.axvspan(res_std.minmax[0],res_std.minmax[1], facecolor='g', alpha=0.2,\n",
    "           label=r'Estimated scale (95% limits)')\n",
    "\n",
    "ax.legend(fontsize=10)\n",
    "ax.set_xlim([0, 100])\n",
    "ax.set_ylim([0, 0.045])\n",
    "plt.show()"
   ]
  },
  {
   "cell_type": "code",
   "execution_count": null,
   "metadata": {
    "collapsed": true
   },
   "outputs": [],
   "source": []
  },
  {
   "cell_type": "code",
   "execution_count": null,
   "metadata": {
    "collapsed": true
   },
   "outputs": [],
   "source": []
  }
 ],
 "metadata": {
  "kernelspec": {
   "display_name": "Python 3",
   "language": "python",
   "name": "python3"
  },
  "language_info": {
   "codemirror_mode": {
    "name": "ipython",
    "version": 3
   },
   "file_extension": ".py",
   "mimetype": "text/x-python",
   "name": "python",
   "nbconvert_exporter": "python",
   "pygments_lexer": "ipython3",
   "version": "3.6.3"
  }
 },
 "nbformat": 4,
 "nbformat_minor": 2
}
