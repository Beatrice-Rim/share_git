{
 "cells": [
  {
   "cell_type": "markdown",
   "metadata": {},
   "source": [
    " \n",
    "\n"
   ]
  },
  {
   "cell_type": "code",
   "execution_count": 1,
   "metadata": {},
   "outputs": [],
   "source": [
    "class HashTable(object):\n",
    "    def __init__(self, length=10):\n",
    "        # инициализируем массив с пустыми значениями \n",
    "        self.array = [None] * length\n",
    "    \n",
    "    def hash(self, key): \n",
    "        \"\"\"Получение индекса от массива для определенного ключа\"\"\"\n",
    "        length = len(self.array)\n",
    "        return hash(key) % length\n",
    "        \n",
    "    def add(self, key, value):\n",
    "        \"\"\"Добавляем значение в массив по ключу\"\"\"\n",
    "        if self.is_full():\n",
    "            self.double()\n",
    "        index = self.hash(key)\n",
    "        if self.array[index] is not None:\n",
    "            # Этот индекс уже содержит некоторое значение\n",
    "            # Посмотрим, существует ли ключ\n",
    "           \n",
    "            for kvp in self.array[index]:\n",
    "                # Если ключ существует, обновим его значение\n",
    "                if kvp[0] == key:\n",
    "                    kvp[1] = value\n",
    "                    break\n",
    "       \n",
    "                # Если ключ не найден, добавляем его в конец\n",
    "            self.array[index].append([key, value])\n",
    "        else:\n",
    "            #Этот индекс пуст. Мы должны создать список и добавить в него нашу пару ключ-значение.\n",
    "            self.array[index] = []\n",
    "            self.array[index].append([key, value])\n",
    "    \n",
    "    def get(self, key):\n",
    "        \"\"\"Получаем значение от ключа\"\"\"\n",
    "        index = self.hash(key)\n",
    "        if self.array[index] is None:\n",
    "            raise KeyError()\n",
    "        else:\n",
    "            # Просмотрим все пары ключ-значение и выясним, существует ли наш ключ. \n",
    "            # Если да, то вернем его значение\n",
    "            for kvp in self.array[index]:\n",
    "                if kvp[0] == key:\n",
    "                    return kvp[1]\n",
    "            \n",
    "            # Если во время цикла возврата не было, это означает, что ключ не существует\n",
    "            raise KeyError()\n",
    "\n",
    "    \n",
    "    \n",
    "    def is_full(self):\n",
    "        \"\"\"В случае переполненной таблицы необходимо увеличить ее размер\"\"\"\n",
    "        items = 0\n",
    "        # Count how many indexes in our array\n",
    "        # that is populated with values.\n",
    "        for item in self.array:\n",
    "            if item is not None:\n",
    "                items += 1\n",
    "        # Return bool value based on if the \n",
    "        # amount of populated items are more \n",
    "        # than half the length of the list.\n",
    "        return items > len(self.array)/2\n",
    "        \n",
    "    def double(self):\n",
    "        \"\"\"Удвоим список и добавим заново значения\"\"\"\n",
    "        ht2 = HashTable(length=len(self.array)*2)\n",
    "        for i in range(len(self.array)):\n",
    "            if self.array[i] is None:\n",
    "                continue\n",
    "            for kvp in self.array[i]:\n",
    "                ht2.add(kvp[0], kvp[1])\n",
    "        self.array = ht2.array"
   ]
  },
  {
   "cell_type": "code",
   "execution_count": 11,
   "metadata": {
    "collapsed": true
   },
   "outputs": [],
   "source": [
    "ht = HashTable(10)"
   ]
  },
  {
   "cell_type": "code",
   "execution_count": 18,
   "metadata": {},
   "outputs": [],
   "source": [
    "ht.add('Katy', 'Pepsi')"
   ]
  },
  {
   "cell_type": "code",
   "execution_count": 19,
   "metadata": {},
   "outputs": [
    {
     "data": {
      "text/plain": [
       "'Pepsi'"
      ]
     },
     "execution_count": 19,
     "metadata": {},
     "output_type": "execute_result"
    }
   ],
   "source": [
    "ht.get('Katy')"
   ]
  },
  {
   "cell_type": "code",
   "execution_count": null,
   "metadata": {
    "collapsed": true
   },
   "outputs": [],
   "source": []
  }
 ],
 "metadata": {
  "kernelspec": {
   "display_name": "Python 3",
   "language": "python",
   "name": "python3"
  },
  "language_info": {
   "codemirror_mode": {
    "name": "ipython",
    "version": 3
   },
   "file_extension": ".py",
   "mimetype": "text/x-python",
   "name": "python",
   "nbconvert_exporter": "python",
   "pygments_lexer": "ipython3",
   "version": "3.6.3"
  }
 },
 "nbformat": 4,
 "nbformat_minor": 2
}
