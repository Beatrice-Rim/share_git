{
 "cells": [
  {
   "cell_type": "markdown",
   "metadata": {},
   "source": [
    " \n",
    "\n"
   ]
  },
  {
   "cell_type": "code",
   "execution_count": 39,
   "metadata": {},
   "outputs": [],
   "source": [
    "elements = { 112233: 'Oslo', 111222: 'Moscow', 123456: 'Tokyo'}\n",
    "class HashTable(object):\n",
    "    def __init__(self, length=len(elements)):\n",
    "        # инициализируем массив с пустыми значениями \n",
    "        self.array = [None] * length\n",
    "    \n",
    "    def hash(self, key): \n",
    "        \"\"\"Получение индекса от массива для определенного ключа\"\"\"\n",
    "        length = len(self.array)\n",
    "        return hash(key) % length\n",
    "        \n",
    "    def add(self, key, value):\n",
    "        \"\"\"Добавляем значение в массив по ключу\"\"\"\n",
    "        if self.is_full():\n",
    "            self.double()\n",
    "        index = self.hash(key)\n",
    "        if self.array[index] is not None:\n",
    "            # Этот индекс уже содержит некоторое значение\n",
    "            # Посмотрим, существует ли ключ\n",
    "           \n",
    "            for kvp in self.array[index]:\n",
    "                # Если ключ существует, обновим его значение\n",
    "                if kvp[0] == key:\n",
    "                    kvp[1] = value\n",
    "                    break\n",
    "       \n",
    "                # Если ключ не найден, добавляем его в конец\n",
    "            self.array[index].append([key, value])\n",
    "        else:\n",
    "            #Этот индекс пуст. Мы должны создать список и добавить в него нашу пару ключ-значение.\n",
    "            self.array[index] = []\n",
    "            self.array[index].append([key, value])\n",
    "    \n",
    "    def get(self, key):\n",
    "        \"\"\"Получаем значение от ключа\"\"\"\n",
    "        index = self.hash(key)\n",
    "        if self.array[index] is None:\n",
    "            raise KeyError()\n",
    "        else:\n",
    "            # Просмотрим все пары ключ-значение и выясним, существует ли наш ключ. \n",
    "            # Если да, то вернем его значение\n",
    "            for kvp in self.array[index]:\n",
    "                if kvp[0] == key:\n",
    "                    return kvp[1]\n",
    "            \n",
    "            # Если во время цикла возврата не было, это означает, что ключ не существует\n",
    "            raise KeyError()\n",
    "\n",
    "    \n",
    "    \n",
    "    def is_full(self):\n",
    "        \"\"\"В случае переполненной таблицы необходимо увеличить ее размер\"\"\"\n",
    "        items = 0\n",
    "        # Count how many indexes in our array\n",
    "        # that is populated with values.\n",
    "        for item in self.array:\n",
    "            if item is not None:\n",
    "                items += 1\n",
    "        # Return bool value based on if the \n",
    "        # amount of populated items are more \n",
    "        # than half the length of the list.\n",
    "        return items > len(self.array)/2\n",
    "        \n",
    "    def double(self):\n",
    "        \"\"\"Удвоим список и добавим заново значения\"\"\"\n",
    "        ht2 = HashTable(length=len(self.array)*2)\n",
    "        for i in range(len(self.array)):\n",
    "            if self.array[i] is None:\n",
    "                continue\n",
    "            for kvp in self.array[i]:\n",
    "                ht2.add(kvp[0], kvp[1])\n",
    "        self.array = ht2.array"
   ]
  },
  {
   "cell_type": "code",
   "execution_count": 89,
   "metadata": {
    "collapsed": true
   },
   "outputs": [],
   "source": [
    "ht = HashTable(4)"
   ]
  },
  {
   "cell_type": "code",
   "execution_count": 90,
   "metadata": {},
   "outputs": [],
   "source": [
    "ht.add(225550, 'Barcelona')\n",
    "ht.add(112233, 'Oslo')\n",
    "ht.add(111222, 'Moscow')\n",
    "ht.add(123456, 'Tokyo')\n",
    "\n"
   ]
  },
  {
   "cell_type": "code",
   "execution_count": 91,
   "metadata": {},
   "outputs": [
    {
     "data": {
      "text/plain": [
       "'Oslo'"
      ]
     },
     "execution_count": 91,
     "metadata": {},
     "output_type": "execute_result"
    }
   ],
   "source": [
    "ht.get(112233)"
   ]
  },
  {
   "cell_type": "code",
   "execution_count": 94,
   "metadata": {},
   "outputs": [
    {
     "data": {
      "text/plain": [
       "[[[123456, 'Tokyo']],\n",
       " [[112233, 'Oslo']],\n",
       " [[225550, 'Barcelona'], [111222, 'Moscow']],\n",
       " None]"
      ]
     },
     "execution_count": 94,
     "metadata": {},
     "output_type": "execute_result"
    }
   ],
   "source": [
    "ht.array"
   ]
  },
  {
   "cell_type": "code",
   "execution_count": null,
   "metadata": {},
   "outputs": [],
   "source": []
  },
  {
   "cell_type": "code",
   "execution_count": null,
   "metadata": {
    "collapsed": true
   },
   "outputs": [],
   "source": []
  }
 ],
 "metadata": {
  "kernelspec": {
   "display_name": "Python 3",
   "language": "python",
   "name": "python3"
  },
  "language_info": {
   "codemirror_mode": {
    "name": "ipython",
    "version": 3
   },
   "file_extension": ".py",
   "mimetype": "text/x-python",
   "name": "python",
   "nbconvert_exporter": "python",
   "pygments_lexer": "ipython3",
   "version": "3.6.3"
  }
 },
 "nbformat": 4,
 "nbformat_minor": 2
}
