{
 "cells": [
  {
   "cell_type": "markdown",
   "metadata": {},
   "source": [
    "## Count words in Json"
   ]
  },
  {
   "cell_type": "code",
   "execution_count": 133,
   "metadata": {
    "collapsed": true
   },
   "outputs": [],
   "source": [
    "import os\n",
    "import json \n",
    "from pprint import pprint \n",
    " \n",
    "def get_words():\n",
    " \n",
    "    with open('JsonTolstoy.json', 'r', encoding='utf-8') as f: \n",
    "        text = json.load(f)\n",
    "    return text"
   ]
  },
  {
   "cell_type": "code",
   "execution_count": 134,
   "metadata": {
    "collapsed": true
   },
   "outputs": [],
   "source": [
    "tolstoy_dict = get_words()\n",
    "whole_text = []\n",
    "for k, v in tolstoy_dict.items():\n",
    "    for k1, v1 in v.items():\n",
    "        for k2, v2 in v1.items():\n",
    "            whole_text.extend(v2)\n",
    "            break\n",
    "\n",
    "whole_text_str = ' '.join(whole_text).lower()\n",
    "\n",
    "from collections import Counter\n",
    "import re\n",
    "\n",
    "counter = Counter(re.findall('[\\w]+', whole_text_str))\n"
   ]
  },
  {
   "cell_type": "code",
   "execution_count": 135,
   "metadata": {
    "collapsed": true
   },
   "outputs": [],
   "source": [
    "with open('tolstoy_dict_counter.json', 'w') as fp:\n",
    "    json.dump(counter, fp)"
   ]
  },
  {
   "cell_type": "code",
   "execution_count": 136,
   "metadata": {},
   "outputs": [
    {
     "name": "stdout",
     "output_type": "stream",
     "text": [
      "5147\n",
      "Counter({'the': 2286, 'and': 1296, 'of': 1248, 'to': 937, 'in': 679, 'a': 590, 'that': 584, 'he': 505, 'was': 401, 'it': 398, 'his': 374, 'with': 308, 'not': 302, 'is': 289, 'as': 276, 'for': 262, 'had': 257, 'him': 253, 'but': 238, 's': 232, 'at': 210, 'on': 202, 'her': 194, 'all': 176, 'from': 172, 'this': 167, 'i': 166, 'which': 161, 'she': 156, 'what': 155, 'by': 148, 'one': 148, 'be': 138, 'who': 128, 'were': 123, 'there': 121, 'so': 118, 'you': 113, 'an': 112, 'or': 109, 'said': 104, 'have': 100, 'only': 99, 'no': 99, 'they': 98, 'would': 97, 'if': 95, 'their': 95, 'pierre': 86, 'life': 85, 'people': 84, '233': 83, 'time': 82, 'about': 82, 'been': 81, 'them': 80, 'are': 79, 'did': 79, 'prince': 77, 'same': 75, 'we': 72, 'could': 71, 'up': 67, 'himself': 66, 'these': 66, 'war': 64, 'napoleon': 64, 'french': 64, 'tolstoy': 63, 'man': 63, 'moscow': 62, 'its': 60, 'more': 60, 'out': 59, 'natasha': 58, 'then': 58, 'into': 58, 'now': 58, 'will': 57, 'such': 56, 'when': 56, 'other': 54, 'first': 54, 'army': 54, 'like': 53, 'thought': 53, 'russian': 52, 'movement': 52, 'two': 50, 'very': 50, 'some': 50, 'anna': 50, 'well': 49, 'because': 49, 'historical': 48, 't': 48, 'see': 47, 'how': 47, 'good': 47, 'pavlovna': 47, 'old': 46, 'before': 46, 'commander': 46, 'history': 45, 'made': 44, 'seemed': 44, 'do': 43, 'rostov': 42, 'has': 42, 'still': 41, 'me': 41, 'without': 41, 'most': 40, 'men': 40, 'those': 38, 'any': 38, 'love': 38, 'your': 38, 'after': 37, 'know': 37, 'eyes': 37, 'way': 36, 'year': 36, 'new': 36, '232': 36, 'my': 36, 'alexander': 36, 'even': 36, 'came': 36, 'l': 35, 'again': 35, 'felt': 35, 'peace': 34, 'words': 34, 'whole': 34, 'moment': 34, 'each': 34, 'everything': 34, 'vassily': 34, 'de': 33, 'over': 33, 'come': 33, 'wanted': 32, 'vous': 32, 'russia': 31, 'own': 31, 'nothing': 31, 'say': 31, 'also': 30, 'never': 30, 'every': 30, 'event': 30, 'place': 30, 'something': 30, 'always': 30, 'here': 29, 'go': 29, 'just': 29, 'already': 28, 'went': 28, 'back': 28, 'our': 28, 'us': 28, 'ne': 28, 'que': 28, 'historians': 27, 'can': 27, 'another': 27, 'power': 27, 'general': 27, 'room': 27, 'denisov': 27, 'long': 26, 'might': 26, 'human': 26, 'than': 26, 'right': 26, 'emperor': 25, 'began': 25, 'between': 25, 'cause': 25, 'why': 25, 're': 25, 'book': 24, 'where': 24, 'battle': 24, 'must': 24, 'does': 24, 'having': 24, 'mankind': 24, 'through': 23, 'petersburg': 23, 'asked': 23, 'once': 23, 'chief': 23, 'suddenly': 23, 'down': 23, 'll': 23, 'causes': 23, 'many': 22, 'saw': 22, 'should': 22, 'hand': 22, 'itself': 21, 'later': 21, 'taken': 21, 'took': 21, 'away': 21, 'against': 21, 'h': 21, 'put': 21, 'est': 21, 'look': 21, 'turned': 21, 'order': 21, 'laws': 21, 'world': 20, 'count': 20, 'young': 20, 'years': 20, 'work': 20, 'nikolai': 20, 'house': 20, 'andrei': 20, 'great': 20, 'sonya': 20, 'being': 20, 'towards': 20, 'don': 20, 'je': 20, 'little': 20, 'events': 19, 'while': 19, 'beginning': 19, 'become': 19, 'looking': 19, 'understand': 19, 'both': 19, 'anyone': 19, 'off': 19, 'la': 19, 'looked': 19, 'regiment': 19, 'barclay': 19, 'under': 18, 'death': 18, 'reason': 18, 'questions': 18, 'though': 18, 'take': 18, 'give': 18, 'd': 18, 'sovereign': 18, 'let': 18, 'everyone': 18, 'activity': 18, 'children': 17, 'father': 17, 'last': 17, 'others': 17, 'whom': 17, 'princess': 17, 'constantly': 17, 'much': 17, 'europe': 17, 'anything': 17, 'known': 17, 'think': 17, 'happened': 17, 'face': 17, 'm': 17, 'regimental': 17, 'force': 17, 'peoples': 17, 'goal': 16, 'thing': 16, 'says': 16, 'cannot': 16, 'expressed': 16, 'person': 16, 'going': 16, 'le': 16, 'march': 16, 'mother': 15, 'several': 15, 'second': 15, 'since': 15, 'forces': 15, 'question': 15, '234': 15, 'waiting': 15, 'word': 15, 'position': 15, 'need': 15, 'god': 15, 'am': 15, 'leave': 15, 'impossible': 15, 'yet': 14, 'countless': 14, 'brother': 14, 'became': 14, 'translation': 14, 'reading': 14, 'comes': 14, 'english': 14, 'sense': 14, 'voice': 14, 'et': 14, 'fact': 14, 'commanders': 14, 'tell': 14, '224': 14, 'terrible': 14, 'received': 14, 'head': 14, 'company': 14, 'day': 14, 'number': 14, 'gave': 14, 'according': 14, 'rules': 14, 'smolensk': 14, 'period': 13, '1812': 13, 'part': 13, 'left': 13, 'make': 13, 'found': 13, 'less': 13, 'therefore': 13, 'necessary': 13, 'meaning': 13, 'action': 13, 'point': 13, 'persons': 13, 've': 13, 'kept': 13, 'society': 13, 'feeling': 13, 'knew': 13, 'ce': 13, 'smiling': 13, 'around': 13, 'soon': 13, 'former': 13, 'excellency': 13, 'whether': 13, 'enemy': 13, 'home': 13, 'door': 13, 'club': 13, 'themselves': 13, 'millions': 13, 'end': 12, 'seen': 12, 'called': 12, 'wrote': 12, 'moved': 12, 'present': 12, 'during': 12, 'besides': 12, 'contrary': 12, 'artistic': 12, 'third': 12, 'done': 12, 'modern': 12, 'artist': 12, 'however': 12, 'actions': 12, 'quite': 12, 'possible': 12, 'despite': 12, 'want': 12, 'thousand': 12, 'taking': 12, 'road': 12, 'gaze': 12, 'talking': 12, 'yes': 12, 'traveler': 12, 'best': 11, 'either': 11, 'brought': 11, 'decided': 11, 'added': 11, 'things': 11, 'often': 11, 'few': 11, 'historian': 11, 'far': 11, 'expression': 11, 'sides': 11, 'else': 11, 'times': 11, 'talk': 11, 'state': 11, 'herself': 11, 'les': 11, 'ah': 11, 'heart': 11, 'free': 11, 'side': 11, 'happy': 11, 'ran': 11, 'help': 11, 'ever': 11, 'together': 11, 'countess': 11, 'answer': 11, 'spring': 11, 'oak': 11, 'letter': 11, 'depths': 11, 'russians': 11, 'armies': 11, 'ancients': 11, 'france': 11, 'bezukhov': 10, 'truth': 10, 'conditions': 10, 'novel': 10, 'n': 10, 'may': 10, 'son': 10, 'used': 10, 'books': 10, 'language': 10, 'figures': 10, 'among': 10, 'alone': 10, 'instead': 10, 'mon': 10, 'uniform': 10, 'kissed': 10, 'smile': 10, 'conversation': 10, 'obviously': 10, 'heard': 10, 'formerly': 10, 'friend': 10, 'possibility': 10, 'wife': 10, 'asking': 10, 'get': 10, 'saying': 10, 'nation': 10, 'retreat': 10, 'set': 9, 'wars': 9, 'different': 9, 'women': 9, 'spent': 9, 'daughter': 9, 'lived': 9, 'borodino': 9, 'above': 9, 'happiness': 9, 'seems': 9, 'prose': 9, 'art': 9, 'seem': 9, 'mind': 9, 'past': 9, 'told': 9, 'individual': 9, 'feel': 9, 'closer': 9, 'view': 9, 'adjutant': 9, 'clear': 9, 'someone': 9, 'least': 9, 'pas': 9, 'empress': 9, 'believe': 9, 'qu': 9, 'sometimes': 9, 'kind': 9, 'soul': 9, 'c': 9, 'stop': 9, 'thinking': 9, 'troops': 9, 'soldiers': 9, 'too': 9, 'duty': 9, 'find': 9, 'military': 9, 'merry': 9, 'change': 9, 'raised': 9, 'drawing': 9, 'table': 9, 'won': 9, 'beauty': 9, 'burning': 9, 'petya': 9, 'figure': 9, 'killed': 9, 'wind': 9, 'west': 9, 'east': 9, 'kill': 9, 'units': 9, 'famous': 8, '1805': 8, 'five': 8, 'twenty': 8, 'led': 8, 'officer': 8, 'stood': 8, 'sent': 8, 'original': 8, 'bolkonsky': 8, 'written': 8, 'ones': 8, 'important': 8, 'coming': 8, 'light': 8, 'strange': 8, 'self': 8, 'style': 8, 'upon': 8, 'means': 8, 'sort': 8, 'connection': 8, 'repeated': 8, 'simply': 8, 'equally': 8, 'express': 8, 'single': 8, 'especially': 8, 'leaves': 8, 'certain': 8, 'non': 8, 'completely': 8, 'whose': 8, 'step': 8, 'tone': 8, 'move': 8, 'bad': 8, 'otherwise': 8, 'horses': 8, 'read': 8, 'spoke': 8, 'e': 8, 'dear': 8, 'ask': 8, 'il': 8, 'glad': 8, 'sign': 8, 'show': 8, 'smiled': 8, 'dit': 8, 'fell': 8, 'forward': 8, 'got': 8, 'glanced': 8, 'station': 8, 'remained': 8, 'affairs': 8, 'diplomatic': 8, 'open': 8, 'campaign': 8, 'bring': 8, 'woman': 8, 'wine': 8, 'servant': 8, 'started': 8, 'live': 8, 'evil': 8, 'ten': 8, 'duke': 8, 'personal': 8, 'genius': 8, 'bagration': 8, 'wills': 8, 'suppose': 8, 'write': 7, 'family': 7, 'aunt': 7, 'works': 7, 'directly': 7, 'hints': 7, 'needed': 7, 'real': 7, 'marya': 7, 'phenomena': 7, 'method': 7, 'subject': 7, 'today': 7, 'notion': 7, 'tried': 7, 'large': 7, 'letters': 7, 'unable': 7, 'doing': 7, 'form': 7, 'example': 7, 'speak': 7, 'imagination': 7, 'te': 7, 'significant': 7, 'common': 7, 'situation': 7, 'three': 7, '243': 7, 'sitting': 7, 'carriage': 7, 'des': 7, 'comme': 7, 'evening': 7, 'soir': 7, 'une': 7, 'replied': 7, 'sofa': 7, 'wished': 7, 'wish': 7, 'cold': 7, 'austria': 7, 'un': 7, 'king': 7, 'tea': 7, 'respect': 7, 'votre': 7, 'moving': 7, 'fate': 7, 'given': 7, 'anatole': 7, 'rich': 7, 'country': 7, 'half': 7, 'understood': 7, 'behind': 7, 'quickly': 7, 'worse': 7, 'cried': 7, 'dress': 7, 'dolokhov': 7, 'everybody': 7, 'yourself': 7, 'plans': 7, 'circumstances': 7, 'marry': 7, 'extraordinary': 7, 'loving': 7, 'loved': 7, 'confusion': 7, 'ago': 7, 'stupid': 7, 'generals': 7, 'involuntarily': 7, 'blushed': 7, 'enormous': 7, 'stands': 7, 'big': 7, 'legs': 7, 'burned': 7, 'louis': 7, 'highest': 7, 'result': 7, 'consists': 7, 'intrigues': 7, 'incomprehensible': 7, 'law': 7, 'obvious': 7, 'defeated': 7, 'danger': 7, 'oldenburg': 7, 'beyond': 7, 'greater': 7, 'accomplished': 7, 'acted': 7, 'battles': 7, 'tortoise': 7, 'science': 7, 'flanking': 7, 'reaction': 7, 'divinity': 7, 'met': 6, 'lives': 6, 'kutuzov': 6, 'estate': 6, 'tula': 6, 'hundred': 6, 'seven': 6, 'entered': 6, 'attempt': 6, 'social': 6, 'literary': 6, 'lost': 6, 'paris': 6, 'days': 6, 'battlefield': 6, 'struck': 6, 'absolute': 6, 'attention': 6, '225': 6, 'silence': 6, 'surprise': 6, 'hard': 6, 'main': 6, 'rest': 6, 'century': 6, 'aware': 6, 'unknown': 6, 'lie': 6, 'rather': 6, 'further': 6, 'results': 6, 'reports': 6, 'nor': 6, 'forget': 6, 'guided': 6, 'turn': 6, 'translator': 6, 'moments': 6, 'case': 6, 'freedom': 6, 'faithful': 6, 'matter': 6, 'eh': 6, 'bien': 6, 'plus': 6, 'pauvre': 6, 'grown': 6, 'political': 6, 'ready': 6, 'nice': 6, 'ippolit': 6, 'clearly': 6, 'myself': 6, 'getting': 6, 'distance': 6, 'battalion': 6, 'front': 6, 'interests': 6, 'small': 6, 'boy': 6, 'condition': 6, 'arguments': 6, 'arms': 6, 'shouted': 6, 'soldier': 6, 'pressed': 6, 'permission': 6, 'kindly': 6, 'bound': 6, 'various': 6, 'excellent': 6, 'except': 6, 'hands': 6, 'friends': 6, 'sorrow': 6, 'considered': 6, 'corner': 6, 'living': 6, 'body': 6, 'noticed': 6, 'terribly': 6, 'sleigh': 6, 'study': 6, 'tears': 6, 'joy': 6, 'sat': 6, 'meeting': 6, 'lay': 6, 'observation': 6, 'postmaster': 6, 'inevitable': 6, 'struggle': 6, 'illness': 6, 'effort': 6, 'answered': 6, 'future': 6, 'wrong': 6, 'views': 6, 'plan': 6, 'suppositions': 6, 'unite': 6, 'achilles': 6, 'infinitesimal': 6, 'sum': 6, 'tarutino': 6, 'badly': 6, 'divine': 6, 'author': 5, 'south': 5, 'story': 5, 'reflected': 5, 'writing': 5, 'short': 5, 'circles': 5, 'leaving': 5, 'abroad': 5, 'sight': 5, 'government': 5, 'dying': 5, 'impression': 5, 'changed': 5, 'nikolenka': 5, 'influence': 5, 'characters': 5, 'seeing': 5, 'passion': 5, 'precisely': 5, 'appear': 5, 'june': 5, 'borders': 5, 'full': 5, 'rhetorical': 5, 'repetitions': 5, 'sentence': 5, 'dripped': 5, 'spirit': 5, 'goes': 5, 'occurs': 5, 'german': 5, 'smaller': 5, 'indeed': 5, 'false': 5, 'direct': 5, 'caused': 5, 'appeared': 5, 'able': 5, 'literature': 5, 'departure': 5, 'offer': 5, 'slightly': 5, 'call': 5, 'considerations': 5, 'beautiful': 5, 'heroes': 5, 'difference': 5, 'explain': 5, 'formed': 5, 'understanding': 5, 'differently': 5, 'lies': 5, 'facts': 5, 'insignificant': 5, 'rhythm': 5, 'exist': 5, 'writers': 5, 'calling': 5, 'better': 5, 'arakcheev': 5, 'line': 5, 'exactly': 5, 'twice': 5, 'keep': 5, 'cut': 5, 'st': 5, 'estates': 5, 'j': 5, 'maid': 5, 'maria': 5, 'feodorovna': 5, 'high': 5, 'morning': 5, 'red': 5, 'chez': 5, 'moi': 5, 'wearing': 5, 'tout': 5, 'remain': 5, 'stay': 5, 'f': 5, 'en': 5, 'forty': 5, 'maybe': 5, 'fulfill': 5, 'revolution': 5, 'prussia': 5, 'visit': 5, 'baron': 5, 'post': 5, 'merely': 5, 'presented': 5, 'majesty': 5, 'mais': 5, 'reply': 5, 'silent': 5, 'unexpectedly': 5, 'reproach': 5, 'showed': 5, 'course': 5, 'thoughts': 5, 'retired': 5, 'late': 5, 'intelligent': 5, 'difficult': 5, 'arrived': 5, 'enough': 5, 'boots': 5, 'austrian': 5, 'shoulder': 5, 'laughed': 5, 'along': 5, 'preparations': 5, 'opinion': 5, 'sorry': 5, 'orders': 5, 'reached': 5, 'learned': 5, 'blue': 5, 'rank': 5, 'useful': 5, 'gentleman': 5, 'significance': 5, 'pure': 5, 'older': 5, 'hair': 5, 'sisters': 5, 'expected': 5, 'tomorrow': 5, 'giving': 5, 'thank': 5, 'ryazan': 5, 'experienced': 5, 'occurred': 5, 'charmant': 5, 'thousands': 5, 'brilliant': 5, 'isn': 5, 'calm': 5, 'gown': 5, 'close': 5, 'covered': 5, 'grass': 5, 'rights': 5, 'looks': 5, 'oh': 5, 'master': 5, 'arm': 5, 'talked': 5, 'prepared': 5, 'girls': 5, 'opened': 5, 'happens': 5, 'money': 5, 'offered': 5, 'degree': 5, 'senseless': 5, 'start': 5, 'efforts': 5, 'peasants': 5, 'woods': 5, 'birches': 5, 'comrades': 5, 'weak': 5, 'dinner': 5, 'alliance': 5, 'answers': 5, 'essence': 5, 'advance': 5, 'coincidence': 5, 'provisions': 5, 'achieve': 5, 'goals': 5, 'becomes': 5, 'kings': 5, 'comprehensible': 5, 'destruction': 5, 'takes': 5, 'chosen': 5, 'grand': 5, 'defeat': 5, 'continuous': 5, 'discrete': 5, 'deeds': 5, 'destroyed': 5, 'bells': 5, 'bilibin': 5, 'kaluga': 5, 'sword': 5, 'reign': 5, 'rejected': 5, 'monarchs': 5, 'makes': 4, 'journey': 4, 'forever': 4, 'napoleonic': 4, 'field': 4, 'ordinary': 4, 'married': 4, 'yasnaya': 4, 'polyana': 4, 'four': 4, 'worked': 4, 'reader': 4, 'idle': 4, 'described': 4, 'finished': 4, 'published': 4, 'true': 4, 'fictional': 4, 'childhood': 4, 'youth': 4, 'deeply': 4, 'beloved': 4, 'town': 4, 'begin': 4, 'partly': 4, 'across': 4, 'drawn': 4, 'otradnoe': 4, 'separate': 4, 'rare': 4, 'spiritual': 4, 'victory': 4, 'directed': 4, 'object': 4, 'carried': 4, 'reaches': 4, 'k': 4, 'experience': 4, 'note': 4, 'speaking': 4, 'surprised': 4, 'unity': 4, 'observations': 4, 'showing': 4, 'ladies': 4, 'formal': 4, 'na': 4, 'spite': 4, 'extreme': 4, 'simple': 4, 'addressed': 4, 'previous': 4, 'examples': 4, 'dead': 4, 'fit': 4, 'characteristic': 4, 'empty': 4, 'uses': 4, 'play': 4, 'boris': 4, 'moral': 4, 'writes': 4, 'happening': 4, 'happen': 4, 'yesterday': 4, 'allow': 4, 'describing': 4, 'sources': 4, 'draw': 4, 'turns': 4, 'problem': 4, 'ought': 4, 'solitude': 4, 'major': 4, 'idiomatic': 4, 'particular': 4, 'allows': 4, 'fall': 4, 'balance': 4, 'follows': 4, 'anteroom': 4, 'service': 4, 'qualities': 4, 'chance': 4, 'quiet': 4, 'night': 4, 'translate': 4, 'almost': 4, '250': 4, 'inner': 4, 'playing': 4, 'chairs': 4, 'driving': 4, 'miss': 4, 'charm': 4, 'describe': 4, 'natural': 4, 'mean': 4, 'si': 4, 'nous': 4, 'ma': 4, 'tes': 4, 'scherer': 4, 'footman': 4, 'court': 4, 'ease': 4, 'wound': 4, 'par': 4, 'p': 4, 'correct': 4, 'knows': 4, 'trust': 4, 'wants': 4, 'bonaparte': 4, 'save': 4, 'stopped': 4, 'profound': 4, 'purpose': 4, 'vienna': 4, 'closed': 4, 'lovely': 4, 'finally': 4, 'usual': 4, 'paused': 4, 'review': 4, 'council': 4, 'please': 4, 'shoulders': 4, 'bouncing': 4, 'greatcoats': 4, 'advantageous': 4, 'command': 4, 'sergeant': 4, 'evidently': 4, 'ranks': 4, 'putting': 4, 'gray': 4, 'black': 4, 'voices': 4, 'captain': 4, 'dressed': 4, 'fingers': 4, 'hungarian': 4, 'liked': 4, 'standing': 4, 'suffering': 4, 'hastily': 4, 'loudly': 4, 'relations': 4, 'use': 4, 'surrounded': 4, 'bed': 4, 'touched': 4, 'knowing': 4, 'confused': 4, 'ahead': 4, 'path': 4, 'balls': 4, 'presence': 4, 'preparing': 4, 'winter': 4, 'august': 4, 'circle': 4, 'finger': 4, 'pour': 4, 'girl': 4, 'ability': 4, 'belong': 4, 'husband': 4, 'answering': 4, 'snuffbox': 4, 'handed': 4, 'sensed': 4, 'deception': 4, 'straight': 4, 'longer': 4, 'tr': 4, 'advice': 4, 'series': 4, 'marriage': 4, 'next': 4, 'city': 4, 'roubles': 4, 'coat': 4, 'embraced': 4, 'didn': 4, 'kiss': 4, 'vera': 4, 'holding': 4, 'gathered': 4, 'hot': 4, 'hold': 4, 'thin': 4, 'warm': 4, 'compared': 4, 'occupied': 4, 'whatever': 4, 'screw': 4, 'eat': 4, 'insulted': 4, 'frightening': 4, 'stern': 4, '1809': 4, 'external': 4, 'knowledge': 4, 'sun': 4, 'sprouting': 4, 'stand': 4, 'idleness': 4, 'dropped': 4, 'attacked': 4, 'quarreled': 4, 'appears': 4, 'insoluble': 4, 'doctors': 4, 'explanation': 4, 'committed': 4, 'produced': 4, 'understandably': 4, 'offended': 4, 'killing': 4, 'participation': 4, 'lot': 4, 'agree': 4, 'complex': 4, 'purposes': 4, 'reproaches': 4, 'glory': 4, 'aims': 4, 'extending': 4, 'luring': 4, 'retreating': 4, 'inspire': 4, 'leadership': 4, 'energy': 4, 'patriotic': 4, 'fatherland': 4, 'arbitrary': 4, 'tenth': 4, 'allowing': 4, 'examining': 4, 'unit': 4, 'phenomenon': 4, 'conquerors': 4, 'ministers': 4, 'masses': 4, 'decin': 4, 'angine': 4, 'following': 4, 'spoken': 4, 'strength': 4, 'pakhra': 4, 'states': 4, 'descriptions': 4, 'fight': 4, 'twelve': 4, 'poland': 4, 'cross': 3, 'tells': 3, 'national': 3, 'passionate': 3, 'miles': 3, 'model': 3, 'died': 3, 'kazan': 3, 'pass': 3, 'village': 3, 'capture': 3, 'nine': 3, 'served': 3, 'promoted': 3, 'fought': 3, 'sevastopol': 3, 'drinking': 3, 'foundation': 3, 'stone': 3, 'seeking': 3, 'forced': 3, 'public': 3, 'serve': 3, 'december': 3, 'name': 3, 'executed': 3, 'return': 3, 'hero': 3, 'final': 3, 'version': 3, 'including': 3, 'collection': 3, 'rumyantsev': 3, 'interested': 3, 'parents': 3, 'memory': 3, 'pasternak': 3, 'possessed': 3, 'perfectly': 3, 'triumph': 3, 'contemplation': 3, 'within': 3, 'western': 3, 'crossed': 3, 'irony': 3, 'epic': 3, 'account': 3, 'hardly': 3, 'quality': 3, 'drops': 3, 'shining': 3, 'effect': 3, 'greatest': 3, 'classical': 3, 'theater': 3, 'fighting': 3, 'mass': 3, 'critics': 3, 'versions': 3, 'throughout': 3, 'deliberately': 3, 'deal': 3, '239': 3, 'succeeded': 3, 'nineteenth': 3, 'forms': 3, 'premeditated': 3, 'european': 3, 'souls': 3, 'passage': 3, 'genre': 3, 'narrative': 3, 'sake': 3, 'task': 3, 'aim': 3, 'outside': 3, 'homme': 3, 'agreed': 3, 'notes': 3, 'shortest': 3, 'approached': 3, 'role': 3, 'falsehood': 3, 'neither': 3, 'elsewhere': 3, 'based': 3, 'idea': 3, 'space': 3, 'thick': 3, 'intimate': 3, 'minor': 3, 'intended': 3, 'reads': 3, 'character': 3, 'languages': 3, 'writer': 3, 'seek': 3, 'christian': 3, 'lines': 3, 'treated': 3, 'restrained': 3, 'owing': 3, 'sound': 3, '237': 3, 'trees': 3, 'describes': 3, 'care': 3, 'grief': 3, 'v': 3, 'awoke': 3, 'y': 3, 'invited': 3, 'gone': 3, 'foreign': 3, 'sharp': 3, 'sont': 3, 'famille': 3, 'dites': 3, 'toutes': 3, 'slave': 3, 'sit': 3, 'honor': 3, 'monsieur': 3, 'quelle': 3, 'shoes': 3, 'bright': 3, 'settled': 3, 'ch': 3, 'changing': 3, 'sympathy': 3, 'habit': 3, 'cid': 3, 'savez': 3, 'ses': 3, 'virtuous': 3, 'blood': 3, 'promise': 3, 'tonight': 3, 'funke': 3, 'pleasure': 3, 'sad': 3, 'sincere': 3, 'referred': 3, 'lapsed': 3, 'thereby': 3, 'rapturous': 3, 'ai': 3, 'mouth': 3, 'suis': 3, 'existence': 3, 'grasp': 3, 'tre': 3, 'pulling': 3, 'femme': 3, 'occupying': 3, 'towns': 3, 'braunau': 3, 'inhabitants': 3, 'headquarters': 3, 'walls': 3, 'somewhere': 3, 'bow': 3, 'sleep': 3, 'ordered': 3, 'prescribed': 3, 'walked': 3, 'lift': 3, 'gait': 3, 'mikhailo': 3, 'member': 3, 'meet': 3, 'pleasing': 3, 'details': 3, 'accustomed': 3, 'overcoats': 3, 'previously': 3, 'forth': 3, 'tossed': 3, 'pulled': 3, 'zealous': 3, 'running': 3, 'anxiety': 3, 'pointing': 3, 'greatcoat': 3, 'firmly': 3, 'salvation': 3, 'sternly': 3, 'nobody': 3, 'leg': 3, 'insolent': 3, 'sash': 3, 'interest': 3, 'arranged': 3, 'assurance': 3, 'higher': 3, 'endowed': 3, 'solitary': 3, 'near': 3, 'business': 3, 'connections': 3, 'acquaintances': 3, 'convinced': 3, 'deep': 3, 'affectionate': 3, 'angry': 3, 'cher': 3, 'poor': 3, 'weary': 3, 'corps': 3, 'uttered': 3, 'speech': 3, 'valet': 3, 'nearly': 3, 'accounts': 3, 'refuse': 3, 'provided': 3, 'approaching': 3, 'bachelor': 3, 'provinces': 3, 'dinners': 3, 'clever': 3, 'recognized': 3, 'frightened': 3, 'fresh': 3, 'sleeve': 3, 'follow': 3, 'middle': 3, 'leaning': 3, 'wishing': 3, 'lips': 3, 'touch': 3, 'dark': 3, 'wait': 3, 'recalled': 3, 'hundreds': 3, 'posting': 3, 'drank': 3, 'lying': 3, 'driver': 3, 'jacket': 3, 'mustache': 3, 'houses': 3, 'jumped': 3, 'hall': 3, 'steps': 3, 'recognizing': 3, 'probably': 3, 'forgetting': 3, 'nikolushka': 3, 'candles': 3, 'servants': 3, 'dirty': 3, 'vaska': 3, 'laughter': 3, 'dressing': 3, 'listen': 3, 'address': 3, 'ball': 3, 'ruler': 3, 'haven': 3, 'anybody': 3, 'sweet': 3, 'fifteen': 3, 'behaved': 3, 'tender': 3, 'forgiveness': 3, 'torzhok': 3, 'undressing': 3, 'possibly': 3, 'duel': 3, 'turning': 3, 'die': 3, 'invented': 3, 'difficulty': 3, 'ring': 3, 'poured': 3, 'firm': 3, 'avoid': 3, 'hatred': 3, 'birch': 3, 'drove': 3, 'green': 3, 'pyotr': 3, 'coachman': 3, 'feels': 3, 'broken': 3, 'submit': 3, 'deceptions': 3, 'conclusion': 3, 'blessedness': 3, 'entire': 3, 'continued': 3, 'serving': 3, 'squadron': 3, 'content': 3, 'ill': 3, 'polish': 3, 'panna': 3, 'increases': 3, 'thirteen': 3, 'separated': 3, 'news': 3, 'ceased': 3, 'avoided': 3, 'carousing': 3, 'supper': 3, 'universally': 3, 'despised': 3, 'pride': 3, 'elemental': 3, 'despair': 3, 'spanish': 3, 'prayers': 3, 'neighbor': 3, 'try': 3, 'chatter': 3, 'physical': 3, 'knot': 3, 'occupation': 3, 'offense': 3, 'continental': 3, 'system': 3, 'skillful': 3, 'contemporaries': 3, 'island': 3, 'restore': 3, 'diplomats': 3, 'search': 3, 'coinciding': 3, 'unwilling': 3, 'coincided': 3, 'earlier': 3, 'depended': 3, 'willed': 3, 'diverse': 3, 'advantages': 3, 'apple': 3, 'falls': 3, 'personally': 3, 'lead': 3, 'attack': 3, 'supposing': 3, 'foresee': 3, 'weaker': 3, 'inexperienced': 3, 'pfuel': 3, 'incorrect': 3, 'ends': 3, 'camp': 3, 'angle': 3, 'division': 3, 'germans': 3, 'bennigsen': 3, 'watch': 3, 'quantities': 3, 'comprehend': 3, 'locomotive': 3, 'wheels': 3, 'blows': 3, 'leaf': 3, 'buds': 3, 'concerned': 3, 'consisted': 3, 'inspired': 3, 'usually': 3, 'elle': 3, 'annihilated': 3, 'route': 3, 'blessed': 3, 'horror': 3, 'guide': 3, 'earth': 3, 'recognize': 3, 'acknowledge': 3, 'maneuver': 3, 'nizhni': 3, 'supplies': 3, 'transport': 3, 'deviate': 3, 'nations': 3, 'increase': 3, 'muzhiks': 3, 'imagine': 3, 'traditions': 3, 'until': 3, 'mysterious': 3, 'pale': 3, 'pain': 3, 'sea': 3, 'progress': 3, 'holy': 3, 'ruled': 3, 'countermovement': 3, 'allies': 3, 'histories': 3, 'introduction': 2, 'novels': 2, 'mark': 2, 'families': 2, 'severe': 2, 'rostovs': 2, 'myth': 2, 'marshal': 2, 'exclusive': 2, 'working': 2, '1868': 2, 'thirty': 2, 'doctor': 2, 'management': 2, 'eventually': 2, 'university': 2, 'attempts': 2, '1851': 2, 'visited': 2, 'caucasus': 2, 'raid': 2, 'entitled': 2, 'piece': 2, 'fiction': 2, '1904': 2, '1855': 2, 'cards': 2, 'carved': 2, '1856': 2, 'returned': 2, 'occupy': 2, 'peasant': 2, 'mentioned': 2, '1857': 2, 'execution': 2, 'trip': 2, 'strongest': 2, 'decembrists': 2, 'officers': 2, '1825': 2, 'rose': 2, 'siberia': 2, 'process': 2, 'preparation': 2, 'title': 2, 'borrowed': 2, 'description': 2, 'masonic': 2, 'texts': 2, 'library': 2, 'streets': 2, 'map': 2, 'disposition': 2, 'collected': 2, 'materials': 2, 'detail': 2, 'sketch': 2, 'instant': 2, 'distinct': 2, 'occasions': 2, 'eye': 2, 'appearance': 2, 'creative': 2, 'freshness': 2, 'strangeness': 2, 'expressive': 2, 'everywhere': 2, 'making': 2, 'pronouncements': 2, 'twelfth': 2, 'nature': 2, 'signature': 2, 'broad': 2, 'devices': 2, 'structure': 2, 'pli': 2, 'pali': 2, 'achieved': 2, 'unusual': 2, 'overcome': 2, 'classic': 2, 'status': 2, 'puts': 2, 'gets': 2, 'newness': 2, 'masterpiece': 2, 'replaced': 2, 'audience': 2, 'fail': 2, 'readers': 2, 'certainly': 2, 'turgenev': 2, 'altogether': 2, 'paragraph': 2, 'phrases': 2, 'passages': 2, 'translations': 2, 'perhaps': 2, 'early': 2, 'asserted': 2, 'class': 2, 'elements': 2, 'composition': 2, 'declare': 2, 'failure': 2, 'distinction': 2, 'mistaken': 2, 'recent': 2, 'parts': 2, 'presumptuous': 2, 'mediocrity': 2, 'negative': 2, 'trying': 2, 'excluding': 2, 'extended': 2, 'fine': 2, 'philosopher': 2, 'conscience': 2, 'imperative': 2, 'instructive': 2, 'po': 2, 'honn': 2, 'pascal': 2, 'poet': 2, 'honest': 2, 'speaks': 2, 'readiness': 2, 'composed': 2, 'section': 2, 'embraces': 2, 'considering': 2, 'correspondence': 2, 'explained': 2, 'information': 2, 'source': 2, 'finding': 2, 'insofar': 2, 'presenting': 2, 'sees': 2, 'considers': 2, 'terms': 2, 'avoids': 2, 'infinite': 2, 'sky': 2, 'communicate': 2, 'comparison': 2, 'homer': 2, 'rachel': 2, 'bespaloff': 2, 'truths': 2, 'immense': 2, 'remarkable': 2, 'complained': 2, 'observed': 2, 'applied': 2, 'realize': 2, 'regard': 2, 'detachable': 2, 'value': 2, 'possibilities': 2, 'ground': 2, 'total': 2, 'scorned': 2, 'bringing': 2, 'medium': 2, 'critical': 2, 'r': 2, 'translators': 2, 'fellow': 2, 'standards': 2, 'perfection': 2, 'apart': 2, 'repetition': 2, 'mostly': 2, 'anterooms': 2, 'special': 2, 'mentioning': 2, 'add': 2, 'omits': 2, 'depend': 2, 'avoiding': 2, 'larger': 2, 'instance': 2, 'consciously': 2, 'boasted': 2, 'brief': 2, 'g': 2, 'li': 2, 'expressing': 2, 'prosn': 2, 'las': 2, 'implied': 2, 'phrasing': 2, 'reawakened': 2, 'sob': 2, 'riding': 2, 'enters': 2, 'atmosphere': 2, 'alive': 2, 'calculated': 2, 'effects': 2, 'buonaparte': 2, 'crois': 2, 'ami': 2, 'vois': 2, 'greeting': 2, 'ranking': 2, 'arrive': 2, 'grippe': 2, 'mieux': 2, 'comte': 2, 'voir': 2, 'annette': 2, 'reception': 2, 'proper': 2, 'perfumed': 2, 'bald': 2, 'allez': 2, 'indifference': 2, 'mockery': 2, 'suffers': 2, 'morally': 2, 'hope': 2, 'cancelled': 2, 'ces': 2, 'che': 2, 'bored': 2, 'br': 2, '251': 2, 'train': 2, 'animation': 2, 'enthusiastic': 2, 'played': 2, 'constant': 2, 'awareness': 2, 'shortcoming': 2, 'benefactor': 2, 'lofty': 2, 'abandon': 2, 'crush': 2, 'righteous': 2, 'england': 2, 'refused': 2, 'promised': 2, 'declared': 2, 'cette': 2, 'destiny': 2, 'storm': 2, 'propos': 2, 'interesting': 2, 'mortemart': 2, 'imp': 2, 'ratrice': 2, 'solicited': 2, 'dry': 2, 'sadness': 2, 'indifferent': 2, 'feminine': 2, 'tact': 2, 'daring': 2, 'monde': 2, 'trouve': 2, 'belle': 2, 'bowed': 2, 'conversations': 2, 'fortune': 2, 'youngest': 2, 'raising': 2, 'eyebrows': 2, 'really': 2, 'voulez': 2, 'joking': 2, 'seriously': 2, 'displeased': 2, 'younger': 2, 'upbringing': 2, 'fool': 2, 'wrinkles': 2, 'seule': 2, 'puis': 2, 'gesture': 2, 'cruel': 2, 'maids': 2, 'petite': 2, 'unhappy': 2, 'yours': 2, 'malheureuse': 2, 'lise': 2, 'jamais': 2, 'familiarly': 2, 'movements': 2, 'armchair': 2, 'attendez': 2, 'du': 2, 'dans': 2, 'october': 2, 'villages': 2, 'regiments': 2, 'mile': 2, 'latest': 2, 'wording': 2, 'adjutants': 2, 'clean': 2, 'falling': 2, 'supply': 2, 'elderly': 2, 'sanguine': 2, 'chest': 2, 'packed': 2, 'gold': 2, 'solemn': 2, 'strolled': 2, 'mitrich': 2, 'driven': 2, 'confirm': 2, 'dustcovers': 2, 'demands': 2, 'join': 2, 'consider': 2, 'demand': 2, 'hung': 2, 'silently': 2, 'heaved': 2, 'spread': 2, 'stepped': 2, 'majors': 2, 'hour': 2, 'companies': 2, 'rectangles': 2, 'humming': 2, 'stopping': 2, 'summoned': 2, 'emerged': 2, 'clumsily': 2, 'toes': 2, 'schoolboy': 2, 'lower': 2, 'factory': 2, 'teach': 2, 'pressing': 2, 'reduced': 2, 'irritated': 2, 'straightened': 2, 'obey': 2, 'walking': 2, 'schemes': 2, 'friendship': 2, 'behave': 2, 'bedchamber': 2, 'equal': 2, 'insisted': 2, 'beforehand': 2, 'simplicity': 2, 'drew': 2, 'seizing': 2, 'becoming': 2, 'managed': 2, 'papers': 2, 'receive': 2, 'kindness': 2, 'intelligence': 2, 'hostile': 2, 'lowering': 2, 'blow': 2, 'suffered': 2, 'weeks': 2, 'wept': 2, 'begun': 2, 'totally': 2, 'deceased': 2, 'paper': 2, 'benefit': 2, 'promissory': 2, 'unnatural': 2, 'sincerity': 2, 'busy': 2, 'center': 2, 'upset': 2, 'deprive': 2, 'demanded': 2, 'exhausted': 2, 'chose': 2, 'closing': 2, 'elbow': 2, 'career': 2, 'quitrent': 2, 'occupations': 2, 'attained': 2, 'spend': 2, 'respected': 2, 'improper': 2, 'remarks': 2, 'modesty': 2, '1806': 2, 'se': 2, 'laid': 2, 'pleased': 2, 'supposition': 2, 'novelty': 2, 'treating': 2, 'guests': 2, 'diplomat': 2, 'union': 2, 'defending': 2, 'mention': 2, 'artfulness': 2, 'bonne': 2, 'adoration': 2, 'lui': 2, 'boring': 2, 'instructions': 2, 'majestic': 2, 'affirmatively': 2, 'behavior': 2, 'fear': 2, 'air': 2, 'cleared': 2, 'throat': 2, 'pay': 2, 'listening': 2, 'leaned': 2, 'es': 2, 'fashion': 2, 'marble': 2, 'loveliness': 2, 'warmth': 2, 'smell': 2, 'breathed': 2, 'clothes': 2, 'stalk': 2, 'tall': 2, 'tree': 2, 'bon': 2, 'sais': 2, 'united': 2, 'returning': 2, 'asleep': 2, 'realized': 2, 'child': 2, 'vile': 2, 'aroused': 2, 'floated': 2, 'occur': 2, 'similar': 2, 'image': 2, 'persuaded': 2, 'bottles': 2, 'wake': 2, 'horse': 2, 'beside': 2, 'street': 2, 'cabbies': 2, 'registered': 2, 'respond': 2, 'zakhar': 2, 'buy': 2, 'box': 2, 'papa': 2, 'vodka': 2, 'entrance': 2, 'familiar': 2, 'porch': 2, 'immobile': 2, 'handle': 2, 'angered': 2, 'prokofy': 2, 'opening': 2, 'rapturously': 2, 'announce': 2, 'threw': 2, 'tiptoe': 2, 'cover': 2, 'kissing': 2, 'darling': 2, 'skirt': 2, 'shrieked': 2, 'held': 2, 'blissful': 2, 'sixteen': 2, 'footsteps': 2, 'absence': 2, 'questioningly': 2, 'faces': 2, 'shaggy': 2, 'rapture': 2, 'embarrassed': 2, 'catching': 2, 'places': 2, 'pipe': 2, 'slept': 2, 'till': 2, 'adjoining': 2, 'sabers': 2, 'suitcases': 2, 'water': 2, 'whispers': 2, 'saber': 2, 'glancing': 2, 'rays': 2, 'burn': 2, 'fire': 2, 'nonsense': 2, 'silliness': 2, 'loves': 2, 'noble': 2, 'doesn': 2, 'passionately': 2, 'doubt': 2, 'splendidly': 2, 'laughing': 2, 'duport': 2, 'ballet': 2, 'scary': 2, 'treat': 2, 'thanked': 2, 'awkward': 2, 'feared': 2, 'amiable': 2, 'feet': 2, 'paid': 2, 'sooner': 2, 'hours': 2, 'tormenting': 2, 'stripped': 2, 'thrashing': 2, 'shot': 2, 'learn': 2, 'anyhow': 2, 'eternity': 2, 'mme': 2, 'wondered': 2, 'loathing': 2, 'irritating': 2, 'sallow': 2, 'wrinkled': 2, 'brows': 2, 'glittering': 2, 'helped': 2, 'penetrating': 2, 'cast': 2, 'motionless': 2, 'calmly': 2, 'glass': 2, 'fixed': 2, 'closeness': 2, 'policy': 2, 'internal': 2, 'reforms': 2, 'essential': 2, 'concerns': 2, 'health': 2, 'learning': 2, 'passions': 2, 'undertakings': 2, 'initiated': 2, 'bogucharovo': 2, 'expense': 2, 'priest': 2, 'politics': 2, 'unfortunate': 2, 'campaigns': 2, 'fields': 2, 'slope': 2, 'snow': 2, 'flowers': 2, 'fir': 2, 'reminder': 2, 'huge': 2, 'ugly': 2, 'hopes': 2, 'hopeless': 2, 'pleasant': 2, 'fallen': 2, 'win': 2, 'secret': 2, 'guilty': 2, 'primordial': 2, 'obligatory': 2, 'irreproachable': 2, 'enjoyed': 2, 'attraction': 2, 'subordinates': 2, 'complaints': 2, 'protected': 2, 'enter': 2, 'engagement': 2, 'wedding': 2, 'fianc': 2, 'maneuvers': 2, 'property': 2, 'deceived': 2, 'stallion': 2, 'staff': 2, 'troika': 2, 'grays': 2, 'hussars': 2, 'borzozowska': 2, 'subscription': 2, 'sang': 2, 'danced': 2, 'accompanied': 2, 'passed': 2, 'strongly': 2, 'square': 2, 'hurrying': 2, 'disagreement': 2, 'dignity': 2, 'level': 2, 'mistrustfully': 2, 'betrothal': 2, 'hidden': 2, 'concluded': 2, 'revealed': 2, 'joyful': 2, 'vanished': 2, 'dull': 2, 'unexpected': 2, 'heavily': 2, 'leading': 2, 'elena': 2, 'vassilievna': 2, 'dried': 2, 'anywhere': 2, 'magnanimous': 2, 'hearted': 2, 'paintings': 2, 'schools': 2, 'masons': 2, 'churches': 2, 'refusal': 2, 'yielding': 2, 'gentlemen': 2, 'horrified': 2, 'believed': 2, 'meantime': 2, 'teeth': 2, 'sought': 2, 'pity': 2, 'perplexity': 2, 'picked': 2, 'catholic': 2, 'clergy': 2, 'fourteenth': 2, 'confess': 2, 'goodness': 2, 'dangerous': 2, 'noticing': 2, 'mental': 2, 'remembered': 2, 'easily': 2, '1811': 2, 'intense': 2, 'transported': 2, 'courts': 2, 'centuries': 2, 'observance': 2, 'firmness': 2, 'consequently': 2, 'talleyrand': 2, 'dispatch': 2, 'helena': 2, 'violence': 2, 'descendants': 2, 'contemplate': 2, 'enormity': 2, 'christians': 2, 'cunning': 2, 'produce': 2, 'corporal': 2, 'enlist': 2, 'tour': 2, 'withdraw': 2, 'vistula': 2, 'feelings': 2, 'subsequent': 2, 'none': 2, 'actual': 2, 'sensibly': 2, 'predestined': 2, 'swarmlike': 2, 'unconscious': 2, 'instrument': 2, 'verser': 2, 'fitted': 2, 'armed': 2, 'honors': 2, 'dresden': 2, 'negotiations': 2, 'conducted': 2, 'desire': 2, 'wounded': 2, 'underneath': 2, 'perish': 2, 'labels': 2, 'refrain': 2, 'anger': 2, 'tolly': 2, 'participated': 2, 'habits': 2, 'rejoiced': 2, 'involuntary': 2, 'assume': 2, 'contradictory': 2, 'fulfillment': 2, 'aimed': 2, 'destroy': 2, 'authors': 2, 'marshals': 2, 'prove': 2, 'existed': 2, 'foreseeing': 2, 'forgotten': 2, 'outcome': 2, 'ascribe': 2, 'afraid': 2, 'drissa': 2, 'indignant': 2, 'thinks': 2, 'moves': 2, 'opposite': 2, 'stronger': 2, 'unpopular': 2, 'hateful': 2, 'retreats': 2, 'entrusted': 2, 'avoidance': 2, 'sole': 2, 'pretext': 2, 'swarm': 2, 'prepare': 2, 'abandoned': 2, 'continuity': 2, 'examines': 2, 'arbitrarily': 2, 'overtake': 2, 'covers': 2, 'hundredth': 2, 'approach': 2, 'solution': 2, 'progression': 2, 'branch': 2, 'mathematics': 2, 'gives': 2, 'continuously': 2, 'separately': 2, 'whereas': 2, 'criticism': 2, 'differential': 2, 'strivings': 2, 'speeches': 2, 'dozen': 2, 'hear': 2, 'conclude': 2, 'whistling': 2, 'valve': 2, 'govern': 2, 'grasping': 2, 'reflections': 2, 'occasion': 2, 'charge': 2, 'institutions': 2, 'concern': 2, 'sergius': 2, 'pouring': 2, 'desperate': 2, 'sentiments': 2, 'italian': 2, 'inconvenience': 2, 'dare': 2, 'comtesse': 2, 'thus': 2, 'skin': 2, 'mot': 2, 'hearing': 2, 'drapeaux': 2, 'embrace': 2, 'brazen': 2, 'goliath': 2, 'faith': 2, 'inaccessible': 2, 'approximation': 2, 'maintained': 2, 'planets': 2, 'krasnaya': 2, 'salutary': 2, 'destructive': 2, 'marched': 2, 'fili': 2, 'entirety': 2, 'lanskoy': 2, 'oka': 2, 'direction': 2, 'lesser': 2, 'successes': 2, 'subjugated': 2, 'deprived': 2, 'ancient': 2, 'independent': 2, 'ceases': 2, 'six': 2, 'yardstick': 2, 'proved': 2, 'conquest': 2, 'hay': 2, 'fencing': 2, 'fencer': 2, 'adversary': 2, 'placed': 2, 'hurts': 2, 'carefully': 2, 'offensive': 2, 'painfully': 2, 'violated': 2, 'relation': 2, 'mystery': 2, 'perfect': 2, 'nephew': 2, 'alpatych': 2, 'yaroslavl': 2, 'suggestion': 2, 'barely': 2, 'tucked': 2, 'tensely': 2, 'prolonged': 2, 'dunyasha': 2, 'shore': 2, 'photius': 2, 'perpetrator': 2, 'liberal': 2, 'initiatives': 2, 'granting': 2, 'constitution': 2, 'encouraging': 2, 'basis': 2, 'fifty': 2, 'lectures': 2, 'changes': 2, 'harmful': 2, 'displeases': 2, 'profess': 2, 'program': 2, 'equality': 2, 'governed': 2, 'act': 2, 'theory': 2, 'propositions': 2, 'beliefs': 2, 'civilization': 2, 'apparent': 2, 'xiv': 2, 'proud': 2, 'mistresses': 2, 'bandit': 2, 'exile': 2, 'napoleons': 2, 'isaac': 1, 'babel': 1, 'daunting': 1, 'vast': 1, 'sights': 1, 'interweaving': 1, 'private': 1, 'nobility': 1, 'bolkonskys': 1, 'easygoing': 1, 'singular': 1, 'reminiscent': 1, 'embodies': 1, 'glorious': 1, 'confrontation': 1, 'challenges': 1, 'myths': 1, 'vivid': 1, 'portrayal': 1, 'fates': 1, 'questioning': 1, 'ceaseless': 1, 'labor': 1, '1863': 1, 'sofya': 1, 'behrs': 1, 'eighteen': 1, 'permanently': 1, 'province': 1, 'bore': 1, 'listener': 1, 'heroine': 1, 'orderliness': 1, 'routine': 1, '1830': 1, '1844': 1, 'graduated': 1, 'examinations': 1, 'dissipated': 1, 'chechen': 1, 'actuality': 1, 'warfare': 1, 'experiences': 1, 'cossacks': 1, '1853': 1, 'superb': 1, 'hadji': 1, 'murad': 1, 'completed': 1, 'posthumously': 1, '1852': 1, 'joined': 1, 'noncommissioned': 1, 'wallachia': 1, 'ensign': 1, 'transferred': 1, 'request': 1, 'crimea': 1, 'crimean': 1, 'siege': 1, 'sketches': 1, 'fuller': 1, 'depiction': 1, 'typical': 1, 'gambling': 1, 'womanizing': 1, '1854': 1, 'dismantled': 1, 'born': 1, 'lieutenant': 1, 'resigned': 1, 'commission': 1, 'surviving': 1, 'wings': 1, 'education': 1, 'semi': 1, 'trilogy': 1, 'boyhood': 1, '1862': 1, 'restlessness': 1, 'disgusted': 1, 'trips': 1, 'witness': 1, 'shook': 1, 'vowed': 1, 'september': 1, '1860': 1, 'tuberculosis': 1, 'southern': 1, 'hy': 1, 'res': 1, 'burial': 1, '1861': 1, 'group': 1, 'aristocrats': 1, 'constitutional': 1, 'monarchy': 1, 'arrested': 1, 'transformation': 1, 'decembrist': 1, 'exiles': 1, 'pardoned': 1, 'ii': 1, 'uprising': 1, 'fascinated': 1, 'linked': 1, 'serial': 1, 'publication': 1, '1867': 1, 'socialist': 1, 'thinker': 1, 'joseph': 1, 'proudhon': 1, 'brussels': 1, 'remains': 1, 'slight': 1, 'futures': 1, 'grew': 1, 'organically': 1, '1865': 1, 'stendhal': 1, 'charterhouse': 1, 'parma': 1, 'revised': 1, 'scenes': 1, 'sch': 1, '246': 1, 'ngraben': 1, 'museum': 1, 'mason': 1, 'studied': 1, 'theaters': 1, 'clubs': 1, 'types': 1, 'models': 1, 'grandfathers': 1, 'aunts': 1, 'reflection': 1, 'correcting': 1, 'maps': 1, 'bits': 1, 'fabric': 1, 'minutiae': 1, 'prodigious': 1, 'profusion': 1, 'precision': 1, 'sensual': 1, 'brings': 1, 'vividly': 1, 'autobiographical': 1, 'situations': 1, '1956': 1, 'faculty': 1, 'detached': 1, 'finality': 1, 'outline': 1, 'crest': 1, 'renewing': 1, 'flash': 1, 'illuminates': 1, 'intensifying': 1, 'pristine': 1, 'authenticity': 1, 'differs': 1, 'pursuing': 1, 'apply': 1, 'translating': 1, 'alternation': 1, 'expect': 1, 'simultaneously': 1, 'deliberate': 1, 'conscious': 1, 'outsize': 1, 'personality': 1, 'selecting': 1, 'manipulating': 1, 'provocation': 1, 'elaborately': 1, 'developed': 1, 'periodic': 1, 'emphatic': 1, 'similes': 1, 'fragile': 1, 'precious': 1, 'eludes': 1, 'formulation': 1, 'mercurial': 1, 'grasped': 1, 'effacement': 1, 'minimum': 1, 'audible': 1, 'incomparable': 1, '1954': 1, 'bertolt': 1, 'brecht': 1, 'inhibiting': 1, 'factor': 1, 'nicely': 1, 'bestowing': 1, 'element': 1, 'productive': 1, 'stimulus': 1, 'hallmark': 1, 'stage': 1, 'temperament': 1, 'classics': 1, 'lessons': 1, 'taught': 1, 'tame': 1, 'cozy': 1, 'grip': 1, 'bewildered': 1, 'dismayed': 1, 'identify': 1, 'discover': 1, 'plot': 1, 'episodes': 1, 'sudden': 1, 'leaps': 1, 'narration': 1, 'philosophizing': 1, 'focus': 1, 'resolution': 1, 'sheer': 1, 'overwhelmed': 1, 'design': 1, 'impose': 1, 'admirer': 1, 'ivan': 1, 'flaubert': 1, 'henry': 1, 'james': 1, 'famously': 1, 'loose': 1, 'baggy': 1, 'monster': 1, 'opens': 1, 'eliminate': 1, 'mixing': 1, 'chapters': 1, 'frequently': 1, 'entirely': 1, 'official': 1, 'dispatches': 1, 'quotations': 1, 'adolphe': 1, 'thiers': 1, 'supplied': 1, 'footnotes': 1, 'problematic': 1, 'occasionally': 1, 'inaccurate': 1, 'amount': 1, 'text': 1, 'percent': 1, 'gallicized': 1, 'implying': 1, 'speaker': 1, 'upper': 1, 'julie': 1, 'karagin': 1, 'correctly': 1, 'heterogeneous': 1, 'commentary': 1, 'interpolated': 1, 'essays': 1, 'repeatedly': 1, 'disrupt': 1, 'continuum': 1, 'texture': 1, 'dismissing': 1, 'helplessness': 1, 'vet': 1, 'flaws': 1, 'succeeds': 1, 'deficiencies': 1, 'created': 1, 'adequate': 1, 'vision': 1, 'magnificent': 1, 'realism': 1, 'artless': 1, 'transcription': 1, 'perplexities': 1, 'article': 1, 'included': 1, 'appendix': 1, 'apropos': 1, 'magazine': 1, 'archive': 1, 'print': 1, 'poem': 1, 'chronicle': 1, 'declaration': 1, 'disregard': 1, 'conventional': 1, 'pushkin': 1, 'provides': 1, 'gogol': 1, 'dostoevsky': 1, 'rising': 1, 'definition': 1, 'assertion': 1, 'convention': 1, 'disingenuous': 1, 'required': 1, 'define': 1, 'indefinable': 1, 'unnameable': 1, 'procedure': 1, 'rightly': 1, 'modernist': 1, 'schloezer': 1, 'critic': 1, 'preface': 1, '1960': 1, 'perceived': 1, 'evocation': 1, 'converge': 1, 'religious': 1, 'obeys': 1, 'ethic': 1, 'imposed': 1, 'moralist': 1, 'entertaining': 1, 'falsifying': 1, 'brooded': 1, 'posed': 1, 'fragment': 1, 'fullest': 1, 'response': 1, 'fully': 1, 'nabokov': 1, 'lecture': 1, 'karenina': 1, 'admit': 1, 'robust': 1, 'awkwardness': 1, 'simplification': 1, 'indirect': 1, 'acutely': 1, 'inadequacy': 1, 'intuition': 1, 'fifth': 1, 'freely': 1, 'discussing': 1, 'differences': 1, 'epoch': 1, 'objects': 1, 'contribution': 1, 'rendered': 1, 'obtained': 1, 'continue': 1, 'moreover': 1, 'compound': 1, 'fantasy': 1, 'documents': 1, 'amass': 1, 'calls': 1, 'wisely': 1, 'defining': 1, 'leads': 1, 'crucial': 1, 'paradoxical': 1, 'reversal': 1, 'unreal': 1, 'insubstantial': 1, 'futile': 1, 'undermines': 1, 'virtually': 1, 'iliad': 1, 'translated': 1, 'mary': 1, 'mccarthy': 1, 'york': 1, '1947': 1, 'disclosed': 1, 'revelation': 1, 'collective': 1, 'grants': 1, 'reality': 1, 'cease': 1, 'mediocrities': 1, 'universe': 1, 'smoothly': 1, 'determines': 1, 'standard': 1, 'idiolectic': 1, 'melville': 1, 'faulkner': 1, 'beckett': 1, 'raise': 1, 'imposing': 1, 'narrow': 1, 'limits': 1, 'patchwork': 1, 'readymade': 1, 'contemporary': 1, 'claims': 1, 'betrays': 1, 'transfer': 1, 'dialogue': 1, 'unique': 1, 'exclusively': 1, 'arrival': 1, 'privileged': 1, 'range': 1, 'enrichment': 1, 'imposition': 1, 'fertile': 1, 'interlinear': 1, 'literalness': 1, 'accommodation': 1, 'lose': 1, 'praised': 1, 'criticized': 1, 'hairdressers': 1, 'drafts': 1, 'preserved': 1, 'revising': 1, 'refining': 1, 'tolstoyan': 1, 'equivalent': 1, 'specific': 1, 'cambridge': 1, '1969': 1, 'countrymen': 1, 'nevertheless': 1, 'clumsiness': 1, 'simplesse': 1, 'conveying': 1, 'repetitiveness': 1, 'feature': 1, 'illustrates': 1, 'italics': 1, 'insigificant': 1, 'differing': 1, 'parallel': 1, 'pri': 1, 'mnaya': 1, 'recurs': 1, 'maude': 1, '1927': 1, 'glosses': 1, 'omitting': 1, 'using': 1, 'ann': 1, 'dunnigan': 1, '1968': 1, 'maudes': 1, 'anthony': 1, 'briggs': 1, '2005': 1, 'varies': 1, 'constance': 1, 'garnett': 1, 'keeps': 1, 'fairly': 1, 'illustrate': 1, 'principle': 1, 'mechanically': 1, 'fondness': 1, 'structures': 1, 'triads': 1, 'nouns': 1, 'verbs': 1, 'adjectives': 1, 'rhetoric': 1, 'chiasmus': 1, 'ignored': 1, 'device': 1, 'latin': 1, 'grammarians': 1, 'exemplified': 1, 'quoted': 1, 'staccato': 1, 'sentences': 1, 'acquire': 1, 'lyrical': 1, 'intensity': 1, 'solely': 1, 'shy': 1, 'khii': 1, 'vor': 1, 'shadi': 1, 'zarzh': 1, 'podr': 1, 'lis': 1, 'khrap': 1, 'kt': 1, 'neighed': 1, 'scuffled': 1, 'snored': 1, 'scene': 1, 'haunting': 1, 'branches': 1, 'dripping': 1, 'raindrops': 1, 'rendering': 1, 'stroke': 1, 'luck': 1, 'stylistic': 1, 'compactness': 1, 'psychological': 1, 'insight': 1, 'stricken': 1, 'lyub': 1, 'zh': 1, 'zn': 1, 'unsaid': 1, 'factness': 1, 'exact': 1, 'awakened': 1, 'waked': 1, 'convey': 1, 'dy': 1, 'ti': 1, 'lyakh': 1, 'khali': 1, 'moskv': 1, 'priglas': 1, 'yey': 1, 'yu': 1, 'phrase': 1, 'perched': 1, 'adult': 1, 'game': 1, 'suggest': 1, 'mixed': 1, 'voicings': 1, 'gallicisms': 1, 'germanisms': 1, 'accents': 1, 'astonishing': 1, 'delicacy': 1, 'richard': 1, 'pevear': 1, 'nes': 1, 'lucques': 1, 'apanages': 1, 'pr': 1, 'viens': 1, 'avons': 1, 'guerre': 1, 'permettez': 1, 'encore': 1, 'pallier': 1, 'infamies': 1, 'atrocit': 1, 'cet': 1, 'antichrist': 1, 'parole': 1, 'connais': 1, 'fais': 1, 'peur': 1, 'july': 1, 'renowned': 1, 'coughing': 1, 'liveried': 1, 'avez': 1, 'rien': 1, 'faire': 1, 'perspective': 1, 'passer': 1, 'malade': 1, 'effraye': 1, 'trop': 1, 'serai': 1, 'entre': 1, '7': 1, '10': 1, 'heures': 1, 'dieu': 1, 'virulente': 1, 'sortie': 1, 'entering': 1, 'ruffled': 1, 'embroidered': 1, 'stockings': 1, 'stars': 1, 'flat': 1, 'refined': 1, 'grandparents': 1, 'patronizing': 1, 'intonations': 1, 'pate': 1, 'comfortably': 1, 'avant': 1, 'comment': 1, 'amie': 1, 'propriety': 1, 'discern': 1, 'british': 1, 'ambassador': 1, 'wednesday': 1, 'fetch': 1, 'avoue': 1, 'tous': 1, 'feux': 1, 'artifice': 1, 'commencent': 1, 'devenir': 1, 'insipides': 1, 'uttering': 1, 'clock': 1, 'tourmentez': 1, 'rapport': 1, 'novosilzoff': 1, 'vaisseaux': 1, 'sommes': 1, 'ler': 1, '244': 1, 'tres': 1, 'lazily': 1, 'actor': 1, 'brimming': 1, 'impulses': 1, 'enthusiast': 1, 'deceive': 1, 'expectations': 1, 'suit': 1, 'outworn': 1, 'features': 1, 'spoiled': 1, 'midst': 1, 'doings': 1, 'waxed': 1, 'vehement': 1, 'betraying': 1, 'savior': 1, 'wonderful': 1, 'faced': 1, 'hydra': 1, 'murderer': 1, 'villain': 1, 'redeem': 1, 'commercial': 1, 'loftiness': 1, 'evacuate': 1, 'malta': 1, 'searches': 1, 'ulterior': 1, 'motives': 1, 'acts': 1, 'novosiltsov': 1, 'denial': 1, 'invincible': 1, 'hardenberg': 1, 'haugwitz': 1, 'fameuse': 1, 'neutralit': 1, 'prussienne': 1, 'pi': 1, 'ge': 1, 'mocking': 1, 'vehemence': 1, 'wintzingerode': 1, 'prussian': 1, 'consent': 1, 'eloquent': 1, '192': 1, 'calming': 1, 'vicomte': 1, 'alli': 1, 'aux': 1, 'montmorency': 1, 'rohan': 1, 'migr': 1, 'abb': 1, 'morio': 1, 'recalling': 1, 'casualness': 1, 'named': 1, 'secretary': 1, 'sire': 1, 'para': 1, '238': 1, 'appointed': 1, 'judge': 1, 'liking': 1, 'recommand': 1, 'sa': 1, 'soeur': 1, 'devotion': 1, 'combined': 1, 'exalted': 1, 'patroness': 1, 'deigned': 1, 'beaucoup': 1, 'estime': 1, 'clouded': 1, 'courtly': 1, 'adroitness': 1, 'swat': 1, 'pronouncement': 1, 'recommended': 1, 'comfort': 1, 'fait': 1, 'lices': 1, 'jour': 1, 'gratitude': 1, 'tenderly': 1, 'unfairly': 1, 'distributed': 1, 'peremptorily': 1, 'unworthy': 1, 'lavater': 1, 'aurait': 1, 'bosse': 1, 'paternit': 1, 'acquired': 1, 'pitied': 1, 'significantly': 1, 'winced': 1, 'imb': 1, 'ciles': 1, 'untroublesome': 1, 'troublesome': 1, 'unnaturally': 1, 'animatedly': 1, 'coarse': 1, 'disagreeable': 1, 'weren': 1, 'pensively': 1, 'avouer': 1, 'entraves': 1, 'submission': 1, 'prodigal': 1, 'ont': 1, 'manie': 1, 'marriages': 1, 'weakness': 1, 'personne': 1, 'parente': 1, 'princesse': 1, 'quickness': 1, 'nod': 1, 'costs': 1, 'restrain': 1, 'melancholy': 1, 'voil': 1, 'avantage': 1, 'stingy': 1, 'nicknamed': 1, 'odd': 1, 'pierres': 1, 'recently': 1, 'meinen': 1, '201': 1, 'coutez': 1, 'interlocutor': 1, 'arrangez': 1, 'affaire': 1, 'slafe': 1, 'headman': 1, 'crit': 1, 'graceful': 1, 'distinguished': 1, 'waved': 1, 'honorly': 1, 'sprawled': 1, 'pondering': 1, 'discuss': 1, 'jeune': 1, 'sera': 1, 'ferai': 1, 'apprentissage': 1, 'vielle': 1, 'fille': 1, 'archduchy': 1, 'arriving': 1, 'stationed': 1, 'fortress': 1, 'burdening': 1, 'local': 1, 'billeting': 1, 'eleventh': 1, 'infantry': 1, 'halted': 1, 'reviewed': 1, 'locality': 1, 'surroundings': 1, 'orchards': 1, 'tile': 1, 'roofs': 1, 'mountains': 1, 'visible': 1, 'folk': 1, 'gazing': 1, 'curiosity': 1, 'central': 1, 'unclear': 1, 'arose': 1, 'marching': 1, 'parade': 1, 'grounds': 1, 'wink': 1, 'mending': 1, 'cleaning': 1, 'counted': 1, 'straggling': 1, 'disorderly': 1, 'crowd': 1, 'buttons': 1, 'straps': 1, 'sparkling': 1, 'externals': 1, 'shirt': 1, 'pack': 1, 'kit': 1, 'caboodle': 1, 'circumstance': 1, 'footgear': 1, 'pieces': 1, 'fault': 1, 'requests': 1, 'department': 1, 'released': 1, 'grizzled': 1, 'whiskers': 1, 'stocky': 1, 'broader': 1, 'brand': 1, 'creases': 1, 'epaulettes': 1, 'weigh': 1, 'massive': 1, 'happily': 1, 'performing': 1, 'duties': 1, 'arching': 1, 'admired': 1, 'female': 1, 'sex': 1, 'wouldn': 1, 'tsaritsyn': 1, 'horsemen': 1, 'signalmen': 1, 'posted': 1, 'cossack': 1, 'unclearly': 1, 'namely': 1, 'hofkriegsrath': 1, 'proposals': 1, 'archduke': 1, 'ferdinand': 1, 'mack': 1, 'juncture': 1, 'favor': 1, 'conveyed': 1, 'listened': 1, 'reproachfully': 1, 'resolutely': 1, 'deferential': 1, 'politeness': 1, 'related': 1, 'bustling': 1, 'orderly': 1, 'stretched': 1, 'packs': 1, 'heads': 1, 'sleeves': 1, 'belated': 1, 'sounds': 1, 'distorting': 1, 'message': 1, 'shouting': 1, 'destination': 1, 'cantered': 1, 'tripping': 1, 'recite': 1, 'lesson': 1, 'blotches': 1, 'intemperance': 1, 'puffing': 1, 'slackening': 1, 'pace': 1, 'nearer': 1, 'sarafans': 1, 'thrusting': 1, 'jaw': 1, 'broadcloth': 1, 'expecting': 1, 'gaudy': 1, 'colors': 1, 'superior': 1, 'visor': 1, 'joked': 1, 'softly': 1, 'cooling': 1, 'properly': 1, 'irritation': 1, 'walk': 1, 'length': 1, 'pretexts': 1, 'wrath': 1, 'snapped': 1, 'unpolished': 1, 'insignia': 1, 'unevenness': 1, 'ho': 1, 'o': 1, 'ow': 1, 'bluish': 1, 'slowly': 1, 'bent': 1, 'dir': 1, 'finish': 1, 'insults': 1, 'resoundingly': 1, 'angrily': 1, 'tight': 1, 'harm': 1, 'profit': 1, 'success': 1, 'intimacy': 1, 'constituted': 1, 'dozens': 1, 'shape': 1, 'completion': 1, 'abolished': 1, 'gain': 1, 'arrange': 1, 'payment': 1, 'subsidy': 1, 'entice': 1, 'borrow': 1, 'instinct': 1, 'opportunity': 1, 'instinctively': 1, 'flatter': 1, 'appointment': 1, 'councillor': 1, 'absentmindedly': 1, 'indubitable': 1, 'naturalness': 1, 'dealings': 1, 'familiarity': 1, 'powerful': 1, 'richer': 1, 'precise': 1, 'carefree': 1, 'offices': 1, 'steward': 1, 'host': 1, 'hurt': 1, 'chagrined': 1, 'benignly': 1, 'disposed': 1, 'heir': 1, 'indubitably': 1, 'merits': 1, 'sincerely': 1, 'wicked': 1, 'waist': 1, 'slicked': 1, 'doll': 1, 'funeral': 1, 'blushing': 1, 'misunderstandings': 1, 'sacrificed': 1, 'statue': 1, 'apologized': 1, 'knit': 1, 'striped': 1, 'scarf': 1, 'handing': 1, 'throw': 1, 'bone': 1, 'affair': 1, 'inlaid': 1, 'portfolio': 1, 'signed': 1, 'kinder': 1, 'pretty': 1, 'mole': 1, 'smiles': 1, 'believing': 1, 'insincerity': 1, 'mild': 1, 'intoxication': 1, 'possession': 1, 'burdened': 1, 'compassion': 1, 'mercies': 1, 'swindlers': 1, 'helpless': 1, 'apr': 1, 'weariness': 1, 'adding': 1, 'accabl': 1, 'affaires': 1, 'charit': 1, 'occupe': 1, 'propose': 1, 'faisable': 1, 'fingering': 1, 'matters': 1, 'chancellor': 1, 'behalf': 1, 'enrolled': 1, 'assured': 1, 'interrupted': 1, 'cooing': 1, 'bass': 1, 'voiced': 1, 'precluded': 1, 'interrupting': 1, 'cases': 1, 'requiring': 1, 'persuasiveness': 1, 'drop': 1, 'distanced': 1, 'memories': 1, 'sighed': 1, 'ride': 1, 'forgot': 1, 'invitations': 1, 'fogginess': 1, 'hurriedness': 1, 'guards': 1, 'demoted': 1, 'nights': 1, 'friendly': 1, 'fat': 1, 'manifested': 1, 'tactless': 1, 'aloud': 1, 'dullest': 1, 'customary': 1, 'pink': 1, 'invitation': 1, 'trouverez': 1, 'lasse': 1, 'obligation': 1, 'amusing': 1, 'berlin': 1, 'freshest': 1, 'potsdam': 1, 'swearing': 1, 'indissoluble': 1, 'race': 1, 'tinge': 1, 'loss': 1, 'befallen': 1, 'convince': 1, 'grieved': 1, 'supreme': 1, 'flattered': 1, 'excited': 1, 'scarcely': 1, 'fulfullment': 1, 'vues': 1, 'sur': 1, 'faut': 1, 'soyez': 1, 'charitable': 1, 'tante': 1, 'qui': 1, 'tenir': 1, 'companie': 1, 'dix': 1, 'minutes': 1, 'ravishing': 1, 'sailed': 1, 'tenue': 1, 'masterly': 1, 'unworldly': 1, 'effortlessly': 1, 'hers': 1, 'dignified': 1, 'hide': 1, 'niece': 1, 'esp': 1, 'direz': 1, 'ennui': 1, 'admiration': 1, 'swallowed': 1, 'saliva': 1, 'mien': 1, 'faltering': 1, 'serene': 1, 'snuffboxes': 1, 'belonged': 1, 'portrait': 1, 'painted': 1, 'vinesse': 1, 'naming': 1, 'miniaturist': 1, 'bust': 1, 'nearsighted': 1, 'neck': 1, 'lean': 1, 'perfume': 1, 'creaking': 1, 'corset': 1, 'exposed': 1, 'altar': 1, 'lowered': 1, 'distant': 1, 'alien': 1, 'mist': 1, 'obstructions': 1, 'obstruction': 1, 'laisse': 1, 'petit': 1, 'coin': 1, 'fearfully': 1, 'recall': 1, 'reprehensible': 1, 'embellisez': 1, 'maison': 1, 'tersbourg': 1, 'architect': 1, 'redecorating': 1, 'nagez': 1, 'basile': 1, 'avoir': 1, 'quelque': 1, 'exercising': 1, 'pause': 1, 'referring': 1, 'age': 1, 'glance': 1, 'mumbled': 1, 'distractedly': 1, 'forbidden': 1, 'arguing': 1, 'unfinished': 1, 'caught': 1, 'worthlessness': 1, 'dreaming': 1, 'untrue': 1, 'dishonest': 1, 'terror': 1, 'realization': 1, 'voronezh': 1, 'bumps': 1, 'bottom': 1, 'impatient': 1, 'unbearable': 1, 'shops': 1, 'bakeries': 1, 'lamps': 1, 'gates': 1, 'hoping': 1, 'posture': 1, 'speed': 1, 'intersection': 1, 'cabby': 1, 'grocery': 1, 'gingerbread': 1, 'dmitri': 1, 'aren': 1, 'lights': 1, 'sir': 1, 'vasya': 1, 'cornice': 1, 'chipped': 1, 'stucco': 1, 'hitching': 1, 'unwelcoming': 1, 'cared': 1, 'sinking': 1, 'slanting': 1, 'dirtiness': 1, 'slackly': 1, 'tallow': 1, 'candle': 1, 'sleeping': 1, 'trunk': 1, 'strong': 1, 'rail': 1, 'plaiting': 1, 'slippers': 1, 'cloth': 1, 'trimmings': 1, 'sleepy': 1, 'transformed': 1, 'alarmed': 1, 'saints': 1, 'trembling': 1, 'excitement': 1, 'rushed': 1, 'eating': 1, 'fur': 1, 'card': 1, 'tables': 1, 'chandelier': 1, 'flew': 1, 'precipitously': 1, 'sprang': 1, 'kisses': 1, 'shouts': 1, 'kolya': 1, 'mikhailovna': 1, 'filled': 1, 'ing': 1, 'clung': 1, 'hopped': 1, 'goat': 1, 'piercingly': 1, 'glistening': 1, 'beaming': 1, 'breath': 1, 'gratefully': 1, 'quick': 1, 'unfamiliar': 1, 'breast': 1, 'weeping': 1, 'cords': 1, 'unnoticed': 1, 'rubbed': 1, 'introducing': 1, 'bid': 1, 'welcome': 1, 'embracing': 1, 'mustaches': 1, 'letting': 1, 'clustered': 1, 'argued': 1, 'snatched': 1, 'nearest': 1, 'handkerchief': 1, 'shown': 1, 'arrivals': 1, 'bags': 1, 'pouches': 1, 'pairs': 1, 'polished': 1, 'spurs': 1, 'wall': 1, 'washbasins': 1, 'shaving': 1, 'brushed': 1, 'tobacco': 1, 'hey': 1, 'rishka': 1, 'hoarse': 1, 'rubbing': 1, 'glued': 1, 'disheveled': 1, 'pillow': 1, 'rustle': 1, 'starched': 1, 'skirts': 1, 'flashed': 1, 'ribbons': 1, 'gotten': 1, 'glimpsing': 1, 'boys': 1, 'undressed': 1, 'hid': 1, 'blanket': 1, 'admitted': 1, 'mustached': 1, 'obsequious': 1, 'spurred': 1, 'boot': 1, 'twirling': 1, 'balloon': 1, 'crouch': 1, 'identical': 1, 'dresses': 1, 'cheeked': 1, 'hastened': 1, 'funny': 1, 'expanded': 1, 'childish': 1, 'run': 1, 'pushed': 1, 'muslin': 1, 'delicate': 1, 'below': 1, 'gowns': 1, 'heated': 1, 'schoolroom': 1, 'padded': 1, 'armrests': 1, 'desperately': 1, 'lively': 1, 'enjoyments': 1, 'remember': 1, 'earnestly': 1, 'excitedly': 1, 'pondered': 1, 'renounce': 1, 'glimpsed': 1, 'fleetingly': 1, 'shouldn': 1, 'joys': 1, 'splendid': 1, 'betrayed': 1, 'lit': 1, 'rounded': 1, 'dance': 1, 'entrechat': 1, 'tapped': 1, 'foot': 1, 'ankle': 1, 'tips': 1, 'dancer': 1, 'merrily': 1, 'envious': 1, 'trifles': 1, 'babbling': 1, 'bye': 1, 'nicolas': 1, 'dancers': 1, 'formality': 1, 'embassy': 1, 'remind': 1, 'strangers': 1, 'match': 1, 'pomaded': 1, 'dashing': 1, 'leather': 1, 'round': 1, 'embroidery': 1, 'offering': 1, 'services': 1, 'spectacles': 1, 'resolving': 1, 'sokolniki': 1, 'sleepless': 1, 'resolve': 1, 'groove': 1, 'humbly': 1, 'extra': 1, 'xvi': 1, 'criminal': 1, 'hate': 1, 'logical': 1, 'peddler': 1, 'wares': 1, 'shrill': 1, 'pair': 1, 'goatskin': 1, 'tattered': 1, 'timidly': 1, 'breadth': 1, 'pressure': 1, 'epistolary': 1, 'souza': 1, 'sufferings': 1, 'mansfield': 1, 'seducer': 1, 'yearning': 1, 'discovered': 1, 'wisdom': 1, 'loathsome': 1, 'bold': 1, 'detained': 1, 'lack': 1, 'squat': 1, 'boned': 1, 'beetling': 1, 'indefinite': 1, 'grayish': 1, 'color': 1, 'sullenly': 1, 'fleece': 1, 'lined': 1, 'nankeen': 1, 'skinny': 1, 'bony': 1, 'cropped': 1, 'temples': 1, 'folding': 1, 'iron': 1, 'signet': 1, 'resting': 1, 'reflecting': 1, 'beard': 1, 'shaved': 1, 'agile': 1, 'cellaret': 1, 'boiling': 1, 'samovar': 1, 'beardless': 1, 'uneasiness': 1, 'necessity': 1, 'unavoidability': 1, 'overturned': 1, 'bitten': 1, 'lump': 1, 'sugar': 1, 'immersed': 1, 'aside': 1, 'bookmark': 1, 'irresistibly': 1, '1808': 1, 'erfurt': 1, 'grandeur': 1, 'rulers': 1, 'assist': 1, 'ally': 1, 'keenness': 1, 'meanwhile': 1, 'poetry': 1, 'music': 1, 'independently': 1, 'enmity': 1, 'break': 1, 'noticeable': 1, 'practical': 1, 'tenacity': 1, 'lacking': 1, 'motion': 1, 'gestures': 1, 'plowmen': 1, 'corv': 1, 'trained': 1, 'midwife': 1, 'childbirth': 1, 'hills': 1, 'nannies': 1, 'cloister': 1, 'displayed': 1, 'followed': 1, 'assiduously': 1, 'astonishment': 1, 'whirlwind': 1, 'generally': 1, 'varied': 1, 'analysis': 1, 'project': 1, 'regulations': 1, 'statutes': 1, 'trustee': 1, 'warmed': 1, 'billows': 1, 'white': 1, 'clouds': 1, 'racing': 1, 'cheerfully': 1, 'meaninglessly': 1, 'ferry': 1, 'threshing': 1, 'floors': 1, 'residual': 1, 'bridge': 1, 'muddy': 1, 'clay': 1, 'strips': 1, 'stubble': 1, 'bushes': 1, 'greening': 1, 'strewn': 1, 'sticky': 1, 'stir': 1, 'purple': 1, 'poking': 1, 'lifting': 1, 'scattered': 1, 'unpleasant': 1, 'crude': 1, 'evergreen': 1, 'needles': 1, 'snort': 1, 'sweated': 1, 'visibly': 1, 'respectfully': 1, 'bird': 1, 'cherry': 1, 'alders': 1, 'oaks': 1, 'span': 1, 'girth': 1, 'limbs': 1, 'bark': 1, 'scars': 1, 'gnarled': 1, 'ungainly': 1, 'unsymmetrically': 1, 'scornful': 1, 'amidst': 1, 'springtime': 1, 'smothered': 1, 'spreading': 1, 'flayed': 1, 'wherever': 1, 'grow': 1, 'beneath': 1, 'scowling': 1, 'stubborn': 1, 'succumb': 1, 'afresh': 1, 'sadly': 1, 'comforting': 1, 'biblical': 1, 'tradition': 1, 'curse': 1, 'weighs': 1, 'bread': 1, 'sweat': 1, 'fulfilling': 1, 'consist': 1, '1807': 1, 'pavlogradsky': 1, 'bluff': 1, 'natured': 1, 'mauvais': 1, 'superiors': 1, 'lately': 1, 'disorder': 1, 'milieu': 1, 'peacefully': 1, 'disordered': 1, 'stewards': 1, 'quarrels': 1, 'maman': 1, 'ended': 1, 'ob': 1, 'issant': 1, 'fils': 1, 'omitted': 1, '1810': 1, 'informed': 1, 'hussar': 1, 'crackbrained': 1, 'hesitated': 1, 'sold': 1, 'auction': 1, 'begging': 1, 'trusting': 1, 'mitenka': 1, 'beg': 1, 'miserable': 1, 'retirement': 1, 'saddle': 1, 'mars': 1, 'unridden': 1, 'tempered': 1, 'lather': 1, 'announced': 1, 'lavrushka': 1, 'selling': 1, 'goluchowski': 1, 'bet': 1, 'sell': 1, 'przazdiecka': 1, 'uhlans': 1, 'week': 1, 'brigade': 1, 'cost': 1, 'bands': 1, 'choruses': 1, 'songs': 1, 'trepak': 1, 'basov': 1, 'drunken': 1, 'hurrah': 1, 'kremenchug': 1, 'kiev': 1, 'midpoint': 1, 'uneasily': 1, 'inverse': 1, 'proportion': 1, 'breathless': 1, 'raptures': 1, 'dissatisfaction': 1, 'growing': 1, 'prettier': 1, 'unshakeable': 1, 'gladdening': 1, 'handsome': 1, 'wittily': 1, 'mischievous': 1, 'breaking': 1, 'wondering': 1, 'whisper': 1, 'joyfully': 1, 'romance': 1, 'aked': 1, 'shall': 1, 'teacher': 1, 'peaceful': 1, 'displeasure': 1, 'fiercely': 1, 'proving': 1, 'headed': 1, 'cheerful': 1, 'projected': 1, 'postponement': 1, 'sister': 1, 'satisfaction': 1, 'marital': 1, 'keeping': 1, 'cheerfulness': 1, 'girlhood': 1, 'willing': 1, 'impossibility': 1, 'improvement': 1, 'ardor': 1, 'iosif': 1, 'alexeevich': 1, 'skeleton': 1, 'favors': 1, 'acquaintance': 1, 'formalities': 1, 'vileness': 1, 'diary': 1, 'brothers': 1, 'reprimand': 1, 'compromising': 1, 'drying': 1, 'princesses': 1, 'iverskaya': 1, 'chapel': 1, 'casing': 1, 'kremlin': 1, 'untrampled': 1, 'hovels': 1, 'sivtsev': 1, 'vrazhek': 1, 'desired': 1, 'comfortable': 1, 'habitual': 1, 'awaited': 1, 'guest': 1, 'vacant': 1, 'eccentrics': 1, 'absentminded': 1, 'squire': 1, 'stamp': 1, 'purse': 1, 'performances': 1, 'statues': 1, 'philanthropic': 1, 'societies': 1, 'gypsies': 1, 'tutelage': 1, 'margaux': 1, 'jokes': 1, 'appropriately': 1, 'joke': 1, 'lodges': 1, 'sluggish': 1, 'entreaties': 1, 'triumphant': 1, 'cries': 1, 'partners': 1, 'paying': 1, 'sexe': 1, 'naturedly': 1, 'invent': 1, 'rut': 1, 'determined': 1, 'twisted': 1, 'establish': 1, 'republic': 1, 'tactician': 1, 'defeater': 1, 'transform': 1, 'depraved': 1, 'established': 1, 'hospitals': 1, 'liberated': 1, 'unfaithful': 1, 'drink': 1, 'unbuttoning': 1, 'denounce': 1, 'reconcile': 1, 'type': 1, 'comforted': 1, 'tooth': 1, 'banal': 1, 'wanting': 1, 'mine': 1, 'struggled': 1, 'breeding': 1, 'powerless': 1, 'spleen': 1, 'abrupt': 1, 'fits': 1, 'inside': 1, 'ponder': 1, 'attempted': 1, 'hurried': 1, 'apollon': 1, 'nikolaevich': 1, 'chat': 1, 'gossip': 1, 'stupidest': 1, 'height': 1, 'finesse': 1, 'pathetic': 1, 'comedian': 1, 'franz': 1, 'seeks': 1, 'illegitimate': 1, 'thanksgiving': 1, 'swear': 1, 'sacrifice': 1, 'rouble': 1, 'astrea': 1, 'intrigue': 1, 'manna': 1, 'seekers': 1, 'fuss': 1, 'authentic': 1, 'scottish': 1, 'rug': 1, 'charters': 1, 'needs': 1, 'offenses': 1, 'consequence': 1, 'erected': 1, 'deserter': 1, 'flogged': 1, 'acknowledged': 1, 'amazed': 1, 'participate': 1, 'sphere': 1, 'deceit': 1, 'undertook': 1, 'repulsed': 1, 'barred': 1, 'paths': 1, 'burden': 1, 'amusements': 1, 'frequented': 1, 'bought': 1, 'built': 1, 'footmen': 1, 'rooms': 1, 'corpulence': 1, 'glasses': 1, 'affection': 1, 'neighbors': 1, 'superficially': 1, 'drunk': 1, 'bottle': 1, 'dimly': 1, 'tangled': 1, 'terrified': 1, 'buzzing': 1, 'chattering': 1, 'disentangle': 1, 'stomach': 1, 'seize': 1, 'somebody': 1, 'stories': 1, 'endure': 1, 'saving': 1, 'ambition': 1, 'drafting': 1, 'playthings': 1, 'hunting': 1, 'trivial': 1, 'dreadful': 1, 'arming': 1, 'concentration': 1, 'fed': 1, 'villainies': 1, 'betrayals': 1, 'thefts': 1, 'forgeries': 1, 'distributions': 1, 'banknotes': 1, 'robberies': 1, 'arsons': 1, 'murders': 1, 'annals': 1, 'assemble': 1, 'crimes': 1, 'inflicted': 1, 'mistakes': 1, 'metternich': 1, 'levee': 1, 'rout': 1, 'fr': 1, 'consens': 1, 'rendre': 1, 'duch': 1, 'au': 1, 'duc': 1, 'oldenbourg': 1, 'members': 1, 'parliament': 1, 'merchants': 1, 'ruining': 1, 'legitimists': 1, 'bons': 1, 'principes': 1, 'concealed': 1, 'skillfully': 1, 'memorandum': 1, '178': 1, 'worded': 1, 'endless': 1, 'depends': 1, 'points': 1, 'scope': 1, 'delve': 1, 'insufficient': 1, 'understandable': 1, 'tortured': 1, 'lover': 1, 'ravage': 1, 'research': 1, 'unobscured': 1, 'deeper': 1, 'singly': 1, 'insignificance': 1, 'incapacity': 1, 'willingness': 1, 'unwillingness': 1, 'duchy': 1, 'thousandth': 1, 'sergeants': 1, 'autocratic': 1, 'dictatorship': 1, 'empire': 1, 'billions': 1, 'renouncing': 1, 'hordes': 1, 'conscription': 1, 'fulfilled': 1, 'cannon': 1, 'isolated': 1, 'fatalism': 1, 'irreversible': 1, 'abstract': 1, 'inevitably': 1, 'fulfills': 1, 'serves': 1, 'achievement': 1, 'irrevocable': 1, 'acquires': 1, 'ladder': 1, 'connected': 1, 'predestination': 1, 'inevitability': 1, 'hearts': 1, 'slaves': 1, 'peuples': 1, 'acting': 1, 'minute': 1, 'undertaken': 1, 'enthusiasm': 1, 'grandiose': 1, 'obtain': 1, 'recover': 1, 'expenses': 1, 'intoxicating': 1, 'vanity': 1, 'ripens': 1, 'attracted': 1, 'stem': 1, 'withers': 1, 'heavier': 1, 'shakes': 1, 'organic': 1, 'botanist': 1, 'finds': 1, 'cellular': 1, 'tissue': 1, 'degenerates': 1, 'prayed': 1, 'perished': 1, 'undermined': 1, 'hill': 1, 'weighing': 1, 'million': 1, 'pounds': 1, 'collapsed': 1, 'worker': 1, 'pick': 1, 'destined': 1, 'ages': 1, 'befuddled': 1, 'heartening': 1, 'outbursts': 1, 'kurakin': 1, 'balashov': 1, 'earn': 1, 'rode': 1, 'resist': 1, 'galloping': 1, 'resented': 1, 'reasoned': 1, 'instruments': 1, 'performed': 1, 'hierarchy': 1, 'active': 1, 'trace': 1, 'providence': 1, 'striving': 1, 'contribute': 1, 'participants': 1, 'expectation': 1, 'dispute': 1, 'foe': 1, 'eight': 1, 'conflict': 1, 'hindering': 1, 'summer': 1, 'writings': 1, 'advised': 1, 'supposedly': 1, 'scythian': 1, 'ascribes': 1, 'frenchman': 1, 'toll': 1, 'projects': 1, 'contain': 1, 'justified': 1, 'current': 1, 'numberless': 1, 'category': 1, 'greatly': 1, 'stretching': 1, 'contradict': 1, 'lure': 1, 'entry': 1, 'lazy': 1, 'reuniting': 1, 'uniting': 1, 'defend': 1, 'soil': 1, 'intention': 1, 'lets': 1, 'slip': 1, 'chances': 1, 'month': 1, 'spells': 1, 'interplay': 1, 'desires': 1, 'participating': 1, 'perceive': 1, 'sharper': 1, 'pull': 1, 'commanding': 1, 'tries': 1, 'worrying': 1, 'flank': 1, 'rear': 1, 'filling': 1, 'ukraine': 1, 'junior': 1, 'stays': 1, 'decide': 1, 'advisers': 1, 'destroys': 1, 'supposed': 1, 'paulucci': 1, 'affects': 1, 'confidence': 1, 'restricted': 1, 'divided': 1, 'unpopularity': 1, 'indecision': 1, 'indignation': 1, 'arousing': 1, 'convenient': 1, 'capitals': 1, 'arouse': 1, 'triples': 1, 'resolute': 1, 'measures': 1, 'rouse': 1, 'wary': 1, 'decisive': 1, 'wariness': 1, 'treason': 1, 'lubomirski': 1, 'branicki': 1, 'wlocki': 1, 'fan': 1, 'noise': 1, 'delivering': 1, 'sends': 1, 'drives': 1, 'senior': 1, 'contest': 1, 'magnanimity': 1, 'seniority': 1, 'subordinating': 1, 'agrees': 1, 'minister': 1, 'send': 1, 'avail': 1, 'truly': 1, 'inspection': 1, 'branickis': 1, 'wintzingerodes': 1, 'poisons': 1, 'reconnoiter': 1, 'positions': 1, 'hates': 1, 'spends': 1, 'returns': 1, 'condemns': 1, 'mistaking': 1, 'whereabouts': 1, 'stumble': 1, 'neverovsky': 1, 'accept': 1, 'communication': 1, 'governor': 1, 'ruined': 1, 'losses': 1, 'kindling': 1, 'begins': 1, 'errors': 1, 'proceeds': 1, 'sophism': 1, 'posits': 1, 'walks': 1, 'faster': 1, 'separates': 1, 'infinity': 1, 'nonsensical': 1, 'resulted': 1, 'introduced': 1, 'reach': 1, 'quantity': 1, 'ascending': 1, 'geometrical': 1, 'dealing': 1, 'problems': 1, 'corrects': 1, 'error': 1, 'committing': 1, 'proceeding': 1, 'examination': 1, 'strives': 1, 'dust': 1, 'selects': 1, 'admitting': 1, 'attaining': 1, 'integrating': 1, 'sums': 1, 'rush': 1, 'plunder': 1, 'altered': 1, 'presents': 1, 'initially': 1, 'weakens': 1, 'asks': 1, 'buildings': 1, 'detailed': 1, 'biography': 1, 'sympathetic': 1, 'origin': 1, 'refuses': 1, 'explaining': 1, 'endured': 1, 'conquests': 1, 'upheavals': 1, 'replies': 1, 'neighboring': 1, 'church': 1, 'sprouts': 1, 'thoroughly': 1, 'observe': 1, 'ringing': 1, 'steam': 1, 'extent': 1, 'millionth': 1, 'setting': 1, 'heat': 1, 'parties': 1, 'drowned': 1, 'drones': 1, 'luxurious': 1, 'phantoms': 1, 'levees': 1, 'recounted': 1, 'empresses': 1, 'welfare': 1, 'almshouses': 1, 'orphanages': 1, 'arrangements': 1, 'belongings': 1, 'establishments': 1, 'elizaveta': 1, 'alexeevna': 1, 'patriotism': 1, 'sixth': 1, 'centerpiece': 1, 'metropolitan': 1, 'sending': 1, 'icon': 1, 'eloquence': 1, 'recitations': 1, 'recitation': 1, 'melodiously': 1, 'alternating': 1, 'howl': 1, 'murmur': 1, 'regardless': 1, 'howling': 1, 'murmuring': 1, 'shamed': 1, 'missed': 1, 'gatherings': 1, 'adornment': 1, 'rumor': 1, 'receiving': 1, 'marrying': 1, 'husbands': 1, 'treatment': 1, 'removing': 1, 'mal': 1, 'pectorale': 1, 'maladie': 1, 'rivaux': 1, 'concili': 1, 'gr': 1, '226': 1, 'vieux': 1, 'touchant': 1, 'pleur': 1, 'enfant': 1, 'quand': 1, 'cas': 1, 'tait': 1, 'dangereux': 1, 'serait': 1, 'perte': 1, 'ravissante': 1, 'parlez': 1, 'envoy': 1, 'savoir': 1, 'nouvelles': 1, 'allait': 1, 'peu': 1, 'sans': 1, 'doute': 1, 'charmante': 1, 'rapturousness': 1, 'appartenons': 1, 'camps': 1, 'diff': 1, 'rents': 1, 'cela': 1, 'emp': 1, 'stimer': 1, 'rite': 1, 'lifted': 1, 'veil': 1, 'secrecy': 1, 'imprudent': 1, 'allowed': 1, 'charlatan': 1, 'remedies': 1, 'vos': 1, 'informations': 1, 'peuvent': 1, 'meilleures': 1, 'miennes': 1, 'venomously': 1, 'savant': 1, 'habile': 1, 'intime': 1, 'reine': 1, 'espagne': 1, 'release': 1, 'utter': 1, 'austrians': 1, 'wittgenstein': 1, 'ros': 1, 'tropol': 1, 'inducing': 1, 'empereur': 1, 'renvoie': 1, 'autrichiens': 1, 'amis': 1, 'gar': 1, 'trouv': 1, 'hors': 1, 'releasing': 1, 'varsovie': 1, 'peut': 1, 'meant': 1, 'witty': 1, 'tongue': 1, 'fix': 1, 'ensued': 1, 'insufficiently': 1, 'convert': 1, 'shaking': 1, 'manuscript': 1, 'gracious': 1, 'proclaimed': 1, 'capital': 1, 'jerusalem': 1, 'receives': 1, 'christ': 1, 'emphasized': 1, 'sons': 1, 'gathering': 1, 'darkness': 1, 'thy': 1, 'dominion': 1, 'sings': 1, 'ecstasy': 1, 'hosanna': 1, 'tearful': 1, 'attentively': 1, 'fingernails': 1, 'timid': 1, 'repeating': 1, 'prayer': 1, 'communion': 1, 'whispered': 1, 'encompass': 1, 'deathly': 1, 'meek': 1, 'sling': 1, 'david': 1, 'bloodthirsty': 1, 'behold': 1, 'imperial': 1, 'lament': 1, 'failing': 1, 'prevents': 1, 'delighting': 1, 'gentle': 1, 'heaven': 1, 'almighty': 1, 'exalt': 1, 'generation': 1, 'wishes': 1, 'quel': 1, 'praise': 1, 'conjectures': 1, 'verrez': 1, 'birthday': 1, 'presentiment': 1, 'totality': 1, 'countlessness': 1, 'complexity': 1, 'gods': 1, 'conspicuous': 1, 'inquire': 1, 'upheld': 1, 'governing': 1, 'groped': 1, 'discovery': 1, 'wholly': 1, 'discovering': 1, 'planetary': 1, 'episode': 1, 'feat': 1, 'argue': 1, 'essentially': 1, 'belongs': 1, 'saved': 1, 'invention': 1, 'profundity': 1, 'figuring': 1, 'reasonings': 1, 'harder': 1, 'preceding': 1, 'accompanying': 1, 'improve': 1, 'failed': 1, 'murat': 1, 'inactive': 1, 'salutariness': 1, 'ascribed': 1, 'foresaw': 1, 'pictured': 1, 'proceeded': 1, 'predominant': 1, 'novgorod': 1, 'proofs': 1, 'majority': 1, 'voted': 1, 'reported': 1, 'provender': 1, 'mainly': 1, 'river': 1, 'heading': 1, 'inactivity': 1, 'push': 1, 'staying': 1, 'podolsk': 1, 'reappearance': 1, 'abundance': 1, 'assure': 1, 'foreseen': 1, 'flight': 1, 'conflicts': 1, 'decreases': 1, 'correctness': 1, 'statement': 1, 'decrease': 1, 'wins': 1, 'victorious': 1, 'detriment': 1, 'vanquished': 1, 'confirmation': 1, 'rule': 1, 'victories': 1, 'jena': 1, 'auerst': 1, '228': 1, 'dt': 1, 'stretch': 1, 'china': 1, 'loophole': 1, 'clash': 1, 'involving': 1, 'exceptional': 1, 'fathers': 1, 'expulsion': 1, 'invariable': 1, 'decides': 1, 'affirm': 1, 'cavalry': 1, 'artillery': 1, 'forage': 1, 'feed': 1, 'cattle': 1, 'calamity': 1, 'region': 1, 'karp': 1, 'vlas': 1, 'carts': 1, 'loot': 1, 'manifest': 1, 'heroic': 1, 'swords': 1, 'adversaries': 1, 'realizing': 1, 'picking': 1, 'brandishing': 1, 'employed': 1, 'simplest': 1, 'attain': 1, 'chivalry': 1, 'conceal': 1, 'obscurity': 1, 'abandoning': 1, 'hunt': 1, 'marauders': 1, 'cutting': 1, 'partisan': 1, 'deviations': 1, 'complaining': 1, 'highly': 1, 'shameful': 1, 'quatre': 1, 'tierce': 1, 'thrust': 1, 'prime': 1, 'tastes': 1, 'expediency': 1, 'sorting': 1, 'hammered': 1, 'invasion': 1, '1813': 1, 'saluted': 1, 'hilt': 1, 'graciously': 1, 'courteously': 1, 'victor': 1, 'trial': 1, 'raises': 1, 'hammers': 1, 'outrage': 1, 'revenge': 1, 'contempt': 1, 'animal': 1, 'ceasing': 1, 'annihilation': 1, 'severance': 1, 'kills': 1, 'heals': 1, 'fears': 1, 'shutting': 1, 'menacing': 1, 'cloud': 1, 'wounds': 1, 'painful': 1, 'insincere': 1, 'dread': 1, 'choir': 1, 'silenced': 1, 'prevented': 1, 'peering': 1, 'distances': 1, 'pained': 1, 'subjects': 1, 'sacredness': 1, 'continual': 1, 'restraint': 1, 'careful': 1, 'halts': 1, 'border': 1, 'purely': 1, 'mistress': 1, 'guardian': 1, 'instructor': 1, 'damp': 1, 'cough': 1, 'suggestions': 1, 'vzdvizhenka': 1, 'intact': 1, 'repairs': 1, 'ashamed': 1, 'cares': 1, 'surrendered': 1, 'consulted': 1, 'dessales': 1, 'suggested': 1, 'gladly': 1, 'accepted': 1, 'daily': 1, 'decline': 1, 'vexation': 1, 'deserted': 1, 'tearing': 1, 'kneading': 1, 'tense': 1, 'stared': 1, 'intent': 1, 'rested': 1, 'tormented': 1, 'sewing': 1, 'impatience': 1, 'whoever': 1, 'troubled': 1, 'seeming': 1, 'overwhelming': 1, 'woollen': 1, 'braid': 1, 'carelessly': 1, 'crumpling': 1, 'smoothing': 1, 'unbelievable': 1, 'dearer': 1, 'emptiness': 1, 'ruin': 1, 'mytishchi': 1, 'trinity': 1, 'velvet': 1, 'propped': 1, 'sunken': 1, 'hunched': 1, 'compressed': 1, 'glitter': 1, 'wrinkle': 1, 'springs': 1, 'disappears': 1, 'forehead': 1, 'trembles': 1, 'rapidly': 1, 'noticeably': 1, 'struggling': 1, 'bind': 1, 'eternal': 1, 'torment': 1, 'searching': 1, 'anew': 1, 'crudely': 1, 'stupidly': 1, 'suffer': 1, 'convulsively': 1, 'clenching': 1, 'violent': 1, 'welled': 1, 'veiled': 1, 'knitting': 1, 'peered': 1, 'penetrate': 1, 'loud': 1, 'rattling': 1, 'heedlessly': 1, 'unconcerned': 1, 'peculiar': 1, 'animated': 1, 'misfortune': 1, 'ilyich': 1, 'churned': 1, 'shores': 1, 'determine': 1, 'surface': 1, 'ceaselessly': 1, 'groups': 1, 'unmade': 1, 'formation': 1, 'decomposition': 1, 'displacements': 1, 'surges': 1, 'seethed': 1, 'borne': 1, 'waves': 1, 'ordering': 1, 'marches': 1, 'seething': 1, 'treatises': 1, 'severely': 1, 'condemn': 1, 'sta': 1, '235': 1, 'schelling': 1, 'fichte': 1, 'chateaubriand': 1, 'judgment': 1, 'acquitted': 1, 'condemned': 1, 'depending': 1, 'contributed': 1, 'forming': 1, 'golitsyn': 1, 'mysticism': 1, 'shishkov': 1, 'frontline': 1, 'disbanding': 1, 'semyonovsky': 1, 'fill': 1, 'pages': 1, 'enumerate': 1, 'possess': 1, 'approve': 1, 'blame': 1, 'restoration': 1, 'twenties': 1, 'focal': 1, 'blinding': 1, 'concentrated': 1, 'influences': 1, 'flattery': 1, 'delusion': 1, 'inseparable': 1, 'responsibility': 1, 'professor': 1, 'attending': 1, 'copying': 1, 'notebook': 1, 'judging': 1, 'passing': 1, 'development': 1, 'vice': 1, 'versa': 1, 'credit': 1, 'coincide': 1, 'limited': 1, 'preservation': 1, 'flourishing': 1, 'universities': 1, 'enlightenment': 1, 'reconciling': 1, 'contradictions': 1, 'possesses': 1, 'immutable': 1, 'prescriptions': 1, 'accuse': 1, 'ultimate': 1, 'nationhood': 1, 'accusers': 1, 'opposed': 1, 'tendency': 1, 'seemingly': 1, 'ungraspable': 1, 'subjected': 1, 'subjection': 1, 'definite': 1, 'manifestations': 1, 'practice': 1, 'superhuman': 1, 'capacities': 1, 'journalists': 1, 'jews': 1, 'greeks': 1, 'romans': 1, 'abstraction': 1, 'northwest': 1, 'continent': 1, 'logic': 1, 'fancied': 1, 'fatum': 1, 'recognition': 1, '1': 1, '2': 1, 'exists': 1, 'gibbon': 1, 'buckle': 1, 'orators': 1, 'includes': 1, 'reformers': 1, 'philosophers': 1, 'poets': 1, 'greatness': 1, 'roman': 1, '1789': 1, 'ferment': 1, 'arises': 1, 'grows': 1, 'spreads': 1, 'expresses': 1, 'collision': 1, 'utmost': 1, 'limit': 1, 'symmetry': 1, 'subsides': 1, 'unplowed': 1, 'trade': 1, 'migrate': 1, 'legitimate': 1, 'poses': 1, 'encountering': 1, 'memorials': 1, 'settle': 1, 'reward': 1, 'punish': 1, 'achieving': 1, 'believer': 1, 'contradiction': 1, 'heirs': 1, 'favorites': 1, 'eighteenth': 1, 'slaughtering': 1, 'drowning': 1, 'africans': 1, 'obeyed': 1, 'italy': 1, 'eleven': 1, 'captured': 1, 'stein': 1, 'disturber': 1, 'enemies': 1, 'abdicate': 1, 'exiled': 1, 'elba': 1, 'depriving': 1, 'outlaw': 1, 'xviii': 1, 'guard': 1, 'abdicated': 1, 'statesmen': 1, 'chair': 1, 'talks': 1, 'hated': 1, 'submitted': 1, 'allied': 1, 'slow': 1, 'rock': 1, 'bequeathed': 1, 'posterity': 1, 'sovereigns': 1, 'mistreating': 1, 'caricature': 1, 'mildest': 1, 'composers': 1, 'memoirs': 1, 'culture': 1, 'comicality': 1, 'deaf': 1, 'anxiously': 1, 'governs': 1, 'existing': 1, 'contained': 1, 'variously': 1})\n"
     ]
    }
   ],
   "source": [
    "print(len(counter))\n",
    "print(counter)\n",
    "        \n",
    "        \n",
    "        \n",
    "        "
   ]
  },
  {
   "cell_type": "markdown",
   "metadata": {
    "collapsed": true
   },
   "source": [
    "# Greedy professors \n",
    "\n"
   ]
  },
  {
   "cell_type": "code",
   "execution_count": 128,
   "metadata": {
    "collapsed": true
   },
   "outputs": [],
   "source": [
    "import random\n",
    "def generate (answer = 10, max_len = 5):\n",
    "    k = answer\n",
    "    test = []\n",
    "    s = max_len\n",
    "    a=0\n",
    "    b=0\n",
    "    for i in range(k):\n",
    "        a = random.randint (b, b+s//2)\n",
    "        b = random.randint (a+3, a+s+1)\n",
    "        test.append((a,b))\n",
    "    \n",
    "    for i in range (1, k-1):\n",
    "        for j in range (0,k-i):\n",
    "            a = random.randint (test[j][0]+1,test[j][1]-1)\n",
    "            b = random.randint (test[j+i][0]+1,test[j+i][1]-1)\n",
    "            test.append((a,b))\n",
    "    random.shuffle(test)\n",
    "    return test\n",
    "\n",
    "\n",
    "\n",
    "\n",
    "\n",
    "    \n",
    "\n",
    "\n"
   ]
  },
  {
   "cell_type": "code",
   "execution_count": 129,
   "metadata": {
    "collapsed": true
   },
   "outputs": [],
   "source": [
    "list_of_intervals = generate()"
   ]
  },
  {
   "cell_type": "code",
   "execution_count": 130,
   "metadata": {},
   "outputs": [
    {
     "data": {
      "text/plain": [
       "[(33, 36),\n",
       " (3, 25),\n",
       " (12, 43),\n",
       " (6, 11),\n",
       " (3, 33),\n",
       " (33, 47),\n",
       " (29, 33),\n",
       " (15, 18),\n",
       " (20, 34),\n",
       " (1, 7),\n",
       " (3, 16),\n",
       " (23, 26),\n",
       " (21, 25),\n",
       " (18, 23),\n",
       " (2, 31),\n",
       " (10, 34),\n",
       " (4, 21),\n",
       " (11, 40),\n",
       " (27, 32),\n",
       " (39, 46),\n",
       " (45, 50),\n",
       " (25, 33),\n",
       " (11, 20),\n",
       " (32, 35),\n",
       " (17, 44),\n",
       " (6, 43),\n",
       " (22, 37),\n",
       " (30, 49),\n",
       " (16, 33),\n",
       " (24, 36),\n",
       " (13, 31),\n",
       " (16, 21),\n",
       " (16, 29),\n",
       " (16, 36),\n",
       " (19, 48),\n",
       " (41, 45),\n",
       " (25, 30),\n",
       " (9, 14),\n",
       " (11, 24),\n",
       " (12, 46),\n",
       " (40, 42),\n",
       " (35, 41),\n",
       " (20, 44),\n",
       " (12, 16),\n",
       " (16, 24),\n",
       " (34, 42),\n",
       " (3, 39),\n",
       " (25, 48),\n",
       " (20, 31),\n",
       " (43, 46),\n",
       " (17, 48),\n",
       " (28, 43),\n",
       " (25, 44),\n",
       " (28, 39)]"
      ]
     },
     "execution_count": 130,
     "metadata": {},
     "output_type": "execute_result"
    }
   ],
   "source": [
    "list_of_intervals"
   ]
  },
  {
   "cell_type": "code",
   "execution_count": 131,
   "metadata": {},
   "outputs": [
    {
     "name": "stdout",
     "output_type": "stream",
     "text": [
      "[(1, 7), (9, 14), (15, 18), (18, 23), (23, 26), (27, 32), (32, 35), (35, 41), (41, 45), (45, 50)]\n",
      "Maximum amount of lectures: 10\n"
     ]
    }
   ],
   "source": [
    "def interval_shedule(R, O):\n",
    "    finish = 0\n",
    "    \n",
    "    for r in R: \n",
    "        if finish <= r[0]: \n",
    "            finish = r[1]\n",
    "            O.append(r)\n",
    "            \n",
    "    return O\n",
    "\n",
    "\n",
    "R = list_of_intervals\n",
    "R.sort(key = lambda x: x[1]) \n",
    "O = []\n",
    "O = interval_shedule(R,O)\n",
    "\n",
    "\n",
    "\n",
    "\n",
    "print(O)\n",
    "print('Maximum amount of lectures:', len(O))\n",
    "\n"
   ]
  },
  {
   "cell_type": "markdown",
   "metadata": {},
   "source": [
    "# Segment Tree\n"
   ]
  },
  {
   "cell_type": "code",
   "execution_count": 26,
   "metadata": {},
   "outputs": [],
   "source": [
    "class Node(object):\n",
    "    def __init__(self, start, end):\n",
    "        self.start = start\n",
    "        self.end = end\n",
    "        self.max = float('-inf')\n",
    "        self.left = None\n",
    "        self.right = None\n",
    "        \n",
    "\n",
    "class NumArray(object):\n",
    "    def __init__(self, nums):\n",
    "        \n",
    "        #helper function to create the tree from input array\n",
    "        def createTree(nums, l, r):\n",
    "            \n",
    "            #base case\n",
    "            if l > r:\n",
    "                return None\n",
    "                \n",
    "            #leaf node\n",
    "            if l == r:\n",
    "                n = Node(l, r)\n",
    "                n.max = nums[l]\n",
    "                return n\n",
    "            \n",
    "            mid = (l + r) // 2\n",
    "            \n",
    "            root = Node(l, r)\n",
    "            \n",
    "            #recursively build the Segment tree\n",
    "            root.left = createTree(nums, l, mid)\n",
    "            root.right = createTree(nums, mid+1, r)\n",
    "            \n",
    "            root.max = max(root.left.max, root.right.max)\n",
    "                \n",
    "            return root\n",
    "        \n",
    "        self.root = createTree(nums, 0, len(nums)-1)\n",
    "            \n",
    "    def update(self, i, val):\n",
    "        \n",
    "        #Helper function to update a value\n",
    "        def updateVal(root, i, val):\n",
    "            \n",
    "            if root.start == root.end:\n",
    "                root.max = val\n",
    "                return val\n",
    "        \n",
    "            mid = (root.start + root.end) // 2\n",
    "            \n",
    "            if i <= mid:\n",
    "                updateVal(root.left, i, val)\n",
    "                \n",
    "            else:\n",
    "                updateVal(root.right, i, val)\n",
    "            \n",
    "            root.max = max(root.left.max, root.right.max)\n",
    "            \n",
    "            return root.max\n",
    "        \n",
    "        return updateVal(self.root, i, val)\n",
    "\n",
    "    def max_method(self, i, j):\n",
    "        \n",
    "        def method_max(root, i, j):\n",
    "            \n",
    "            if root.start == i and root.end == j:\n",
    "                return root.max\n",
    "            \n",
    "            mid = (root.start + root.end) // 2\n",
    "            \n",
    "            if j <= mid:\n",
    "                return method_max(root.left, i, j)\n",
    "            \n",
    "            elif i >= mid + 1:\n",
    "                return method_max(root.right, i, j)\n",
    "            \n",
    "            else:\n",
    "                return max(method_max(root.left, i, mid), method_max(root.right, mid+1, j))\n",
    "        \n",
    "        return method_max(self.root, i, j)\n"
   ]
  },
  {
   "cell_type": "code",
   "execution_count": 27,
   "metadata": {},
   "outputs": [],
   "source": [
    "nums = [2,4,2,5,7,8,9]\n",
    "segment_tree = NumArray(nums)"
   ]
  },
  {
   "cell_type": "code",
   "execution_count": 28,
   "metadata": {},
   "outputs": [
    {
     "data": {
      "text/plain": [
       "9"
      ]
     },
     "execution_count": 28,
     "metadata": {},
     "output_type": "execute_result"
    }
   ],
   "source": [
    "segment_tree.max_method(0, len(nums)-1)"
   ]
  },
  {
   "cell_type": "code",
   "execution_count": null,
   "metadata": {
    "collapsed": true
   },
   "outputs": [],
   "source": []
  }
 ],
 "metadata": {
  "kernelspec": {
   "display_name": "Python 3",
   "language": "python",
   "name": "python3"
  },
  "language_info": {
   "codemirror_mode": {
    "name": "ipython",
    "version": 3
   },
   "file_extension": ".py",
   "mimetype": "text/x-python",
   "name": "python",
   "nbconvert_exporter": "python",
   "pygments_lexer": "ipython3",
   "version": "3.6.3"
  }
 },
 "nbformat": 4,
 "nbformat_minor": 2
}
