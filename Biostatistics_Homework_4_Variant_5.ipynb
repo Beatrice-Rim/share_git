{
 "cells": [
  {
   "cell_type": "markdown",
   "metadata": {},
   "source": [
    "# Gibbs sampling\n"
   ]
  },
  {
   "cell_type": "markdown",
   "metadata": {},
   "source": [
    "## Sample 2D density by the Gibbs algorithm. Perform the one-dimensional sampling by the Inverse Cumulative Distribution Function (ICDF) algorithm. Plot the scatter plot."
   ]
  },
  {
   "cell_type": "markdown",
   "metadata": {},
   "source": [
    "### Variant 5"
   ]
  },
  {
   "cell_type": "markdown",
   "metadata": {},
   "source": [
    "$$\n",
    "p(x, y)=\\frac{2}{9}(3 x+2 y+2) \\quad 0 \\leq x, y \\leq 1\n",
    "$$"
   ]
  },
  {
   "cell_type": "markdown",
   "metadata": {},
   "source": [
    "### First, let's find conditional normal for X|Y (given Y), and for Y|X (given X).\n",
    "$$\n",
    "p(x \\mid y)=\\frac{p(x, y)}{p(y)}\n",
    "$$\n",
    "$$\n",
    "p(y)=\\int_{-\\infty}^{\\infty} p(x, y) d x=\\int_{0}^{1} p(x, y) d x=\\int_{0}^{1} \\frac{2}{9}(3 x+2 y+2) d x=\\frac{2}{9} \\int_{0}^{1}(3 x+2 y+2) d x=\\frac{2}{9}(3.5+2 y)\n",
    "$$\n",
    "Finally, \n",
    "\n",
    "$$\n",
    "p(x \\mid y)=\\frac{p(x, y)}{p(y)}=\\frac{\\frac{2}{9}(3 x+2 y+2)}{\\frac{2}{9}(2 y+3.5)}=\\frac{3 x+2 y+2}{2 y+3.5}\n",
    "$$\n"
   ]
  },
  {
   "cell_type": "markdown",
   "metadata": {},
   "source": [
    "The same for p(y|x).\n",
    "$$\n",
    "p(x)=\\int_{-\\infty}^{\\infty} p(x, y) d y=\\int_{0}^{1} p(x, y) d y=\\int_{0}^{1} \\frac{2}{9}(3 x+2 y+2) d y=\\frac{2}{9} \\int_{0}^{1}(3 x+2 y+2) d y=\\frac{2}{9}(3 x+3)\n",
    "$$\n",
    "\n",
    "$$\n",
    "p(y \\mid x)=\\frac{p(x, y)}{p(x)}=\\frac{\\frac{2}{9}(3 x+2 y+2)}{\\frac{2}{9}(3 x+3)}=\\frac{3 x+2 y+2}{3 x+3}\n",
    "$$"
   ]
  },
  {
   "cell_type": "markdown",
   "metadata": {},
   "source": [
    "### ICDF algorithm for sampling from conditional distributions.\n",
    "\n",
    "From $U \\sim \\operatorname{Unif}[0,1]$, we want to generate $X$ with $\\mathrm{CDF} \\ F_{X}(x) .$ \n",
    "We want to see if we can find some strictly monotone transformation $T:[0,1] \\mapsto \\mathbb{R},$ such that $T(U) \\stackrel{d}{=} X .$ Note that our marginal CDF are monotonous. \n",
    "\n",
    "We will have\n",
    "$F_{X}(x)=\\operatorname{Pr}(X \\leq x)=\\operatorname{Pr}(T(U) \\leq x)=\\operatorname{Pr}\\left(U \\leq T^{-1}(x)\\right)=T^{-1}(x),$ for $x \\in \\mathbb{R}$\n",
    "where the last step used that $\\operatorname{Pr}(U \\leq y)=y$ when $U$ is uniform on (0,1)\n",
    "So we got $F_{X}$ to be the inverse function of $T,$ or, equivalently $T(u)=F_{X}^{-1}(u), u \\in[0,1]$\n",
    "Therefore, we can generate $X$ from $F_{X}^{-1}(U).$ The inverse function for CDF exists because CDF is monotonous by definition.\n"
   ]
  },
  {
   "cell_type": "markdown",
   "metadata": {},
   "source": [
    "\n",
    "$$\n",
    "p(x \\mid y = \\hat{y})=f(x) = \\frac{3 x+2 \\hat{y}+2}{2 \\hat{y}+3.5}, \\ F(x)=\\int_{0}^{x} f\\left(x^{\\prime}\\right) d x^{\\prime}=\\int_{0}^{x} \\frac{3 x^{\\prime}}{2 \\hat{y} + 3.5} d x^{\\prime} + \\frac{2 \\hat{y}+2}{2 \\hat{y}+ 3.5} x=\\frac{1.5 x^{2} + \\left(2\\hat{y}+2\\right) x}{2 \\hat{y}+ 3.5} = u\n",
    "$$\n",
    "\n",
    "$$\n",
    "1.5 x^{2} + \\left(2\\hat{y}+2\\right) x + \\left(2\\hat{y} + 3.5 \\right)u = 0 \n",
    "$$\n",
    "\n",
    "$$\n",
    "D = b^{2} - 4 a c = D\\left(\\hat{y}, u \\right)\n",
    "$$\n",
    "\n",
    "$$\n",
    "x=\\frac{-b+\\sqrt{D}}{4 a}\n",
    "$$\n",
    "We choose 'x' with plus because 0 ≤ x ≤ 1.\n",
    "\n",
    "Similarly we can write for p(y|x).\n",
    "\n",
    "$$\n",
    "y^{2} + \\left(3\\hat{x}+2\\right) x + \\left(3\\hat{x} + 3\\right)u = 0 \n",
    "$$\n",
    "\n",
    "$$\n",
    "u = \\frac{y^{2} + \\left(3 \\hat{x} +2\\right) y}{3 \\hat{x} + 3} \n",
    "$$\n",
    "\n",
    "$$\n",
    "D = b^{2} - 4 a c = D\\left(\\hat{x}, u \\right)\n",
    "$$\n"
   ]
  },
  {
   "cell_type": "markdown",
   "metadata": {},
   "source": [
    "### Creating a function for sampling from conditional distribution and function for Gibbs sampling."
   ]
  },
  {
   "cell_type": "code",
   "execution_count": 57,
   "metadata": {
    "collapsed": true
   },
   "outputs": [],
   "source": [
    "import math\n",
    "import numpy as np\n",
    "import matplotlib.pyplot as plt\n",
    "import random"
   ]
  },
  {
   "cell_type": "code",
   "execution_count": 58,
   "metadata": {
    "collapsed": true
   },
   "outputs": [],
   "source": [
    "# sampling from conditional distribution \n",
    "def ICDF(sampling_index, current_point):\n",
    "    conditioned_index = 1 - sampling_index\n",
    "    u = random.uniform(0, 1)      #choose u from uniform distribution U(0,1)\n",
    "\n",
    "    if conditioned_index == 1: \n",
    "        y = current_point[1]\n",
    "        a = 1.5\n",
    "        b = 2*y + 2\n",
    "        c = -(2*y+3.5)*u\n",
    "    else:\n",
    "        x = current_point[0]\n",
    "        a = 1\n",
    "        b = 3*x + 2\n",
    "        c = -(3*x + 3)*u\n",
    "    discr = b ** 2 - 4 * a * c\n",
    "    new_value = (-b + math.sqrt(discr)) / (2 * a)\n",
    "    new_x = np.copy(current_point)\n",
    "    new_x[sampling_index] = new_value\n",
    "    return new_x"
   ]
  },
  {
   "cell_type": "code",
   "execution_count": 59,
   "metadata": {},
   "outputs": [],
   "source": [
    "#Gibbs sampling\n",
    "def gibbs(initial_point, num_samples):\n",
    "    point = np.array(initial_point, dtype=float)\n",
    "    \n",
    "    samples = np.empty([num_samples + 1, 2]) #array of sample points\n",
    "    samples[0] = point\n",
    "    \n",
    "    for i in range(num_samples):\n",
    "        point = ICDF(0, point)\n",
    "        point = ICDF(1, point)\n",
    "        samples[i + 1] = point\n",
    "    \n",
    "    return samples"
   ]
  },
  {
   "cell_type": "code",
   "execution_count": 60,
   "metadata": {},
   "outputs": [],
   "source": [
    "initial_point = [0, 0]\n",
    "number_of_samples = 1000 #number of samples\n",
    "samples = gibbs(initial_point, number_of_samples)"
   ]
  },
  {
   "cell_type": "code",
   "execution_count": 61,
   "metadata": {},
   "outputs": [
    {
     "data": {
      "image/png": "[encoded data removed]",
      "text/plain": [
       "<Figure size 360x360 with 1 Axes>"
      ]
     },
     "metadata": {},
     "output_type": "display_data"
    }
   ],
   "source": [
    "fig = plt.figure(figsize=(5, 5))\n",
    "ax = fig.gca()\n",
    "\n",
    "ax.scatter(samples[:number_of_samples, 0], samples[:number_of_samples, 1], c='b', s=5, label=\"Sampled Points\")\n",
    "ax.scatter(samples[0, 0], samples[0, 1], marker='o', c='g', s=60, label=\"Initial Point\")\n",
    "ax.set_xlim((-0.25, 1.2))\n",
    "ax.set_ylim((-0.25, 1.2))\n",
    "\n",
    "ax.legend(loc='upper left')\n",
    "plt.show()\n",
    "\n"
   ]
  },
  {
   "cell_type": "code",
   "execution_count": null,
   "metadata": {
    "collapsed": true
   },
   "outputs": [],
   "source": []
  },
  {
   "cell_type": "code",
   "execution_count": null,
   "metadata": {
    "collapsed": true
   },
   "outputs": [],
   "source": []
  }
 ],
 "metadata": {
  "kernelspec": {
   "display_name": "Python 3",
   "language": "python",
   "name": "python3"
  },
  "language_info": {
   "codemirror_mode": {
    "name": "ipython",
    "version": 3
   },
   "file_extension": ".py",
   "mimetype": "text/x-python",
   "name": "python",
   "nbconvert_exporter": "python",
   "pygments_lexer": "ipython3",
   "version": "3.6.3"
  }
 },
 "nbformat": 4,
 "nbformat_minor": 2
}
